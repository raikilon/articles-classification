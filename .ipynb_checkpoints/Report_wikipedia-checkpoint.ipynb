{
 "cells": [
  {
   "cell_type": "markdown",
   "metadata": {},
   "source": [
    "# Introduction"
   ]
  },
  {
   "cell_type": "markdown",
   "metadata": {},
   "source": [
    "Do not spend too much time trying to get very tiny metrics improvement. Once you have a model with a correct predictive power, you should better spend time explaining your data cleaning & preparation pipeline as well as explanations & visualizations of the results.\n",
    "\n",
    "The goal is to see your fit with our company culture & engineering needs, spending 50h on an over-complicated approach will not give you bonus points compared to a simple, yet effective, to-the-point solution."
   ]
  },
  {
   "cell_type": "markdown",
   "metadata": {},
   "source": [
    "## About the data"
   ]
  },
  {
   "cell_type": "markdown",
   "metadata": {},
   "source": [
    "For this project you will be working on Wikipedia articles. \n",
    "   \n",
    "The goal of this project is to develop :\n",
    "\n",
    "* A scraper that is able to retrieve wikipedia articles from 10 different categories of your choice (i.e. Sports, Politics, etc...)\n",
    "* A model that is able to **classify previously unseen Wikipedia articles** based on the categories you extracted earlier. \n",
    "\n",
    "Feel free to use any available library you would need, but beware of re-using someone else's code without mentionning it!"
   ]
  },
  {
   "cell_type": "markdown",
   "metadata": {},
   "source": [
    "## Deliverable"
   ]
  },
  {
   "cell_type": "markdown",
   "metadata": {},
   "source": [
    "The end-goal is to deliver us a zip file containing:\n",
    "* This report filled with your approach, in the form of an **iPython Notebook**.\n",
    "* A **5-10 slides PDF file**, containing a technical presentation covering the important aspects of your work\n",
    "* A Dockerfile which defines a container for the project. The container should handle everything (download the data, run the code, etc...). When running the container it should expose the jupyter notebook on one port and expose a Flask API on another one. The Flask app contains two endpoints:\n",
    "  - One for scraping the data and training the model\n",
    "  - One for querying the last trained model with an article of our choice in the dataset\n",
    "* A README.md which should contain the commands to build and run the docker container, as well as how to perform the queries to the API. \n",
    "* Any necessary .py, .sh or other files needed to run your code."
   ]
  },
  {
   "cell_type": "markdown",
   "metadata": {},
   "source": [
    "# Libraries Loading"
   ]
  },
  {
   "cell_type": "code",
   "execution_count": null,
   "metadata": {},
   "outputs": [],
   "source": [
    "import requests\n",
    "import random\n",
    "from bs4 import BeautifulSoup\n",
    "import re\n",
    "import pandas as pd\n",
    "from sklearn.preprocessing import LabelEncoder\n",
    "from sklearn.model_selection import train_test_split\n",
    "import numpy as np\n",
    "import torch\n",
    "import torch.nn as nn\n",
    "from sklearn.metrics import classification_report\n",
    "import transformers\n",
    "from transformers import AutoModel, BertTokenizerFast, BertForSequenceClassification, AdamW, BertConfig\n",
    "import matplotlib.pyplot as plt\n",
    "from torch.utils.data import TensorDataset, DataLoader, RandomSampler, SequentialSampler\n",
    "from transformers import get_linear_schedule_with_warmup\n",
    "import time\n",
    "import datetime\n",
    "from sklearn.metrics import classification_report\n",
    "import seaborn as sns\n",
    "from queue import Queue, Empty\n",
    "from concurrent.futures import ThreadPoolExecutor\n",
    "from sklearn.metrics import confusion_matrix"
   ]
  },
  {
   "cell_type": "code",
   "execution_count": null,
   "metadata": {},
   "outputs": [],
   "source": [
    "random.seed(29)\n",
    "np.random.seed(29)\n",
    "torch.manual_seed(29)\n",
    "torch.cuda.manual_seed_all(29)"
   ]
  },
  {
   "cell_type": "markdown",
   "metadata": {},
   "source": [
    "# Data Preparation & Cleaning"
   ]
  },
  {
   "cell_type": "markdown",
   "metadata": {},
   "source": [
    "## DataFrame"
   ]
  },
  {
   "cell_type": "markdown",
   "metadata": {},
   "source": [
    "The title is probably not needed because I will use the content for the classification but maybe in a future implementation it could be used to improve the classification."
   ]
  },
  {
   "cell_type": "code",
   "execution_count": 7,
   "metadata": {},
   "outputs": [],
   "source": [
    "df = pd.DataFrame(columns=[\"title\", \"content\",\"category\"])"
   ]
  },
  {
   "cell_type": "markdown",
   "metadata": {},
   "source": [
    "## Scrape data\n",
    "This approach is based on :\n",
    "* https://levelup.gitconnected.com/two-simple-ways-to-scrape-text-from-wikipedia-in-python-9ce07426579b\n",
    "* https://www.freecodecamp.org/news/scraping-wikipedia-articles-with-python/\n",
    "\n",
    "Implementation to scrape data from wikipedia page (title and content). The script start from a given page and it continues recursively to scrape pages that are related to the initial one (links). The script ends when it reaches a given number of pages (e.g. 10)."
   ]
  },
  {
   "cell_type": "markdown",
   "metadata": {},
   "source": [
    "Get wikipedia articles given seed urls (it can work with a single seed or multi seeds). This approach is very simple and can be extended with more inspections to the links (e.g. no images, no category pages, etc.). I did not use a specific library because for this task I think it is enough to have a simple approach which can do the minimum (I did want to use time to learn a new library to do this simple scraping) but in a future implementation it could be good to use https://scrapy.org/ a open source and collaborative framework for extracting the data you need from websites. \n",
    "\n",
    "At the moment this scraping is quite slow but the speed is something that can be solved in a second step e.g. with multi threading or using the wikipedia API (https://pypi.org/project/wikipedia/).\n",
    "\n",
    "Moreover this implementation has many overhead e.g. an article could be processed multiple times. To improve this a big list should be created and each page should be confronted with every category."
   ]
  },
  {
   "cell_type": "markdown",
   "metadata": {},
   "source": [
    "### Single threading scraping"
   ]
  },
  {
   "cell_type": "code",
   "execution_count": null,
   "metadata": {},
   "outputs": [],
   "source": [
    "def get_links(urls,category,num,max_num):\n",
    "    # use global dataframe\n",
    "    global df\n",
    "    \n",
    "    while len(urls)>0 and num <= max_num:\n",
    "    \n",
    "        # get random link from urls (in this way we are not going deeper and deeper but randomly)\n",
    "        url = random.choice(urls)\n",
    "        \n",
    "        response = requests.get(url=url)\n",
    "        soup = BeautifulSoup(response.content, 'html.parser')\n",
    "        regex = re.compile(r'/wiki/.+')\n",
    "\n",
    "        # Get article categories\n",
    "        categories = soup.find(id=\"mw-normal-catlinks\")\n",
    "\n",
    "        # Check if page contains categories (e.g. an image page does not have this information)\n",
    "        if categories is None:\n",
    "            continue\n",
    "        \n",
    "        categories = categories.select('li a')\n",
    "        # Continue only if articles contains the given category\n",
    "        if any(category in cat.text.lower() for cat in categories):\n",
    "            \n",
    "            # Get article title\n",
    "            title = soup.find(id=\"firstHeading\").text\n",
    "\n",
    "            # Get article content\n",
    "            text = ''\n",
    "            for paragraph in soup.find_all('p'):\n",
    "                text += paragraph.text\n",
    "                \n",
    "            # Drop footnote superscripts in brackets and Replace ‘\\n’ (a new line) with ‘’ (an empty string) \n",
    "            text = re.sub(r'\\[.*?\\]+', '', text)\n",
    "            text = text.replace('\\n', '')\n",
    "\n",
    "            # Add article to dataframe\n",
    "            df = df.append({\n",
    "                \"title\": title,\n",
    "                \"content\": text,\n",
    "                \"category\": category\n",
    "            },ignore_index=True)\n",
    "            \n",
    "            num += 1\n",
    "            # print(category+\" \"+title)\n",
    "\n",
    "            # Scrape other pages from links\n",
    "            # Get all the links\n",
    "            links = soup.find(id=\"bodyContent\").find_all(\"a\",{'href': True})\n",
    "            \n",
    "            \n",
    "            for link in links:\n",
    "                # Only interested in other wiki articles (remove external links and images)\n",
    "                if re.match(regex,link.get('href')): \n",
    "                    urls.append(\"https://en.wikipedia.org\" + link.get('href'))\n",
    "                    \n",
    "        "
   ]
  },
  {
   "cell_type": "code",
   "execution_count": null,
   "metadata": {},
   "outputs": [],
   "source": [
    "# t0 = time.time()\n",
    "# get_links([\"https://en.wikipedia.org/wiki/Sport\"],\"sport\",0,10) \n",
    "# print(time.time()-t0)"
   ]
  },
  {
   "cell_type": "code",
   "execution_count": null,
   "metadata": {},
   "outputs": [],
   "source": [
    "#get_links([\"https://en.wikipedia.org/wiki/Economy\"],\"economy\",0,10)\n",
    "#get_links([\"https://en.wikipedia.org/wiki/Engineering\"],\"engineering\",0,10)\n",
    "#get_links([\"https://en.wikipedia.org/wiki/History\"],\"history\",0,10)\n",
    "#get_links([\"https://en.wikipedia.org/wiki/Philosophy\"],\"philosophy\",0,10)\n",
    "#get_links([\"https://en.wikipedia.org/wiki/Politics\"],\"politics\",0,10)\n",
    "#get_links([\"https://en.wikipedia.org/wiki/Religion\"],\"religion\",0,10)\n",
    "#get_links([\"https://en.wikipedia.org/wiki/Universe\"],\"universe\",0,10)\n",
    "#get_links([\"https://en.wikipedia.org/wiki/Law\"],\"law\",0,10)\n",
    "#get_links([\"https://en.wikipedia.org/wiki/Culture\"],\"culture\",0,10)"
   ]
  },
  {
   "cell_type": "markdown",
   "metadata": {},
   "source": [
    "### Multithreading version scraping"
   ]
  },
  {
   "cell_type": "markdown",
   "metadata": {},
   "source": [
    "MultiThread version (is not my best piece of code but it works and it is much faster. The threadpoolexecutor shotdown and the counting mechanism should be improved). \n",
    "\n",
    "Single thread for 10 articles: 11.07 secs\n",
    "Multi threads for 10 articles: 2.80 secs\n",
    "\n",
    "Based on https://edmundmartin.com/multi-threaded-crawler-in-python/"
   ]
  },
  {
   "cell_type": "code",
   "execution_count": 10,
   "metadata": {},
   "outputs": [],
   "source": [
    "class MultiThreadScraper:\n",
    "    \n",
    "    def __init__(self,base_urls,category,max_num):\n",
    "        self.category = category\n",
    "        self.max_num = max_num\n",
    "        self.pool = ThreadPoolExecutor(max_workers=10)\n",
    "        self.scraped_pages = set([])\n",
    "        self.to_crawl = Queue()\n",
    "        # add base urls\n",
    "        for url in base_urls:\n",
    "            self.to_crawl.put(url)\n",
    "        self.num = 0\n",
    "        \n",
    "    def parse_links(self,html):\n",
    "        global df\n",
    "        soup = BeautifulSoup(html, 'html.parser')\n",
    "        regex = re.compile(r'/wiki/.+')\n",
    "\n",
    "        # Get article categories\n",
    "        categories = soup.find(id=\"mw-normal-catlinks\")\n",
    "\n",
    "        # Check if page contains categories (e.g. an image page does not have this information)\n",
    "        if categories is None:\n",
    "            return\n",
    "        \n",
    "        categories = categories.select('li a')\n",
    "        # Continue only if articles contains the given category\n",
    "        if any(self.category in cat.text.lower() for cat in categories):\n",
    "            \n",
    "            # Get article title\n",
    "            title = soup.find(id=\"firstHeading\").text\n",
    "\n",
    "            # Get article content\n",
    "            text = ''\n",
    "            for paragraph in soup.find_all('p'):\n",
    "                text += paragraph.text\n",
    "                \n",
    "            # Drop footnote superscripts in brackets and Replace ‘\\n’ (a new line) with ‘’ (an empty string) \n",
    "            text = re.sub(r'\\[.*?\\]+', '', text)\n",
    "            text = text.replace('\\n', '')\n",
    "            \n",
    "            self.num += 1\n",
    "            \n",
    "            # Add article to dataframe\n",
    "            df = df.append({\n",
    "                \"title\": title,\n",
    "                \"content\": text,\n",
    "                \"category\": self.category\n",
    "            },ignore_index=True)\n",
    "            \n",
    "            \n",
    "            #print(self.category+\" \"+title)\n",
    "\n",
    "            # Scrape other pages from links\n",
    "            # Get all the links\n",
    "            links = soup.find(id=\"bodyContent\").find_all(\"a\",{'href': True})\n",
    "            \n",
    "            \n",
    "            for link in links:\n",
    "                # Only interested in other wiki articles (remove external links and images)\n",
    "                if re.match(regex,link.get('href')): \n",
    "                    self.to_crawl.put(\"https://en.wikipedia.org\" + link.get('href'))\n",
    "                    \n",
    "    def post_scrape_callback(self,res):\n",
    "        result = res.result()\n",
    "        if result and result.status_code == 200 and self.num<self.max_num:\n",
    "            self.parse_links(result.text)\n",
    "            \n",
    "    def scrape_page(self,url):\n",
    "        try:\n",
    "            res = requests.get(url, timeout=(3, 30))\n",
    "            return res\n",
    "        except requests.RequestException:\n",
    "            return\n",
    "        \n",
    "    def run_scraper(self):\n",
    "        while True:\n",
    "            try:\n",
    "                target_url = self.to_crawl.get(timeout=10)\n",
    "                # return if reached target number of articles\n",
    "                if self.num>self.max_num:\n",
    "                    self.pool.shutdown(wait=False)\n",
    "                    return\n",
    "                if target_url not in self.scraped_pages:\n",
    "                    # print(\"Scraping URL: {}\".format(target_url))\n",
    "                    self.scraped_pages.add(target_url)\n",
    "                    job = self.pool.submit(self.scrape_page, target_url)\n",
    "                    job.add_done_callback(self.post_scrape_callback)\n",
    "            except Empty:\n",
    "                return\n",
    "            except Exception as e:\n",
    "                print(e)\n",
    "                continue"
   ]
  },
  {
   "cell_type": "code",
   "execution_count": 11,
   "metadata": {},
   "outputs": [
    {
     "name": "stdout",
     "output_type": "stream",
     "text": [
      "2.94071102142334\n"
     ]
    }
   ],
   "source": [
    "t0 = time.time()\n",
    "s = MultiThreadScraper([\"https://en.wikipedia.org/wiki/Sport\"],\"sport\",50)\n",
    "s.run_scraper()\n",
    "print(time.time()-t0)"
   ]
  },
  {
   "cell_type": "code",
   "execution_count": null,
   "metadata": {},
   "outputs": [],
   "source": [
    "s = MultiThreadScraper([\"https://en.wikipedia.org/wiki/Economy\"],\"economy\",50)\n",
    "s.run_scraper()"
   ]
  },
  {
   "cell_type": "code",
   "execution_count": null,
   "metadata": {},
   "outputs": [],
   "source": [
    "s = MultiThreadScraper([\"https://en.wikipedia.org/wiki/Engineering\"],\"engineering\",50)\n",
    "s.run_scraper()"
   ]
  },
  {
   "cell_type": "code",
   "execution_count": null,
   "metadata": {},
   "outputs": [],
   "source": [
    "s = MultiThreadScraper([\"https://en.wikipedia.org/wiki/History\"],\"history\",50)\n",
    "s.run_scraper()"
   ]
  },
  {
   "cell_type": "code",
   "execution_count": null,
   "metadata": {},
   "outputs": [],
   "source": [
    "s = MultiThreadScraper([\"https://en.wikipedia.org/wiki/Philosophy\"],\"philosophy\",50)\n",
    "s.run_scraper()"
   ]
  },
  {
   "cell_type": "code",
   "execution_count": null,
   "metadata": {},
   "outputs": [],
   "source": [
    "s = MultiThreadScraper([\"https://en.wikipedia.org/wiki/Politics\"],\"politics\",50)\n",
    "s.run_scraper()"
   ]
  },
  {
   "cell_type": "code",
   "execution_count": null,
   "metadata": {},
   "outputs": [],
   "source": [
    "s = MultiThreadScraper([\"https://en.wikipedia.org/wiki/Religion\"],\"religion\",50)\n",
    "s.run_scraper()"
   ]
  },
  {
   "cell_type": "code",
   "execution_count": null,
   "metadata": {},
   "outputs": [],
   "source": [
    "s = MultiThreadScraper([\"https://en.wikipedia.org/wiki/Food\"],\"food\",50)\n",
    "s.run_scraper()"
   ]
  },
  {
   "cell_type": "code",
   "execution_count": null,
   "metadata": {},
   "outputs": [],
   "source": [
    "s = MultiThreadScraper([\"https://en.wikipedia.org/wiki/Law\"],\"law\",50)\n",
    "s.run_scraper()"
   ]
  },
  {
   "cell_type": "code",
   "execution_count": null,
   "metadata": {},
   "outputs": [],
   "source": [
    "s = MultiThreadScraper([\"https://en.wikipedia.org/wiki/Culture\"],\"culture\",50)\n",
    "s.run_scraper()"
   ]
  },
  {
   "cell_type": "markdown",
   "metadata": {},
   "source": [
    "!!!!!! It still take quite a long time to complete the scraping... on Google Colab it takes around 20 minutes."
   ]
  },
  {
   "cell_type": "markdown",
   "metadata": {},
   "source": [
    "Save dataframe (for later use if needed)"
   ]
  },
  {
   "cell_type": "code",
   "execution_count": null,
   "metadata": {},
   "outputs": [],
   "source": [
    "df.to_pickle(\"./dataframe.pkl\")"
   ]
  },
  {
   "cell_type": "code",
   "execution_count": 13,
   "metadata": {},
   "outputs": [],
   "source": [
    "# df = pd.read_pickle(\"./dataframe.pkl\")"
   ]
  },
  {
   "cell_type": "markdown",
   "metadata": {},
   "source": [
    "## Preprocessing data"
   ]
  },
  {
   "cell_type": "markdown",
   "metadata": {},
   "source": [
    "This approach is based on :\n",
    "* https://github.com/ArmandDS/bert_for_long_text/blob/master/final_bert_long_docs.ipynb\n",
    "\n",
    "Clean and analyse data before training the choosen model for text classification."
   ]
  },
  {
   "cell_type": "markdown",
   "metadata": {},
   "source": [
    "### All articles"
   ]
  },
  {
   "cell_type": "code",
   "execution_count": 17,
   "metadata": {
    "scrolled": true
   },
   "outputs": [
    {
     "data": {
      "text/plain": [
       "<AxesSubplot:ylabel='Frequency'>"
      ]
     },
     "execution_count": 17,
     "metadata": {},
     "output_type": "execute_result"
    },
    {
     "data": {
      "image/png": "[encoded data removed]",
      "text/plain": [
       "<Figure size 432x288 with 1 Axes>"
      ]
     },
     "metadata": {
      "needs_background": "light"
     },
     "output_type": "display_data"
    }
   ],
   "source": [
    "df.content.apply(lambda x:len(x.split())).plot(kind='hist',bins=50)"
   ]
  },
  {
   "cell_type": "markdown",
   "metadata": {},
   "source": [
    "### Articles with more than 2000 words"
   ]
  },
  {
   "cell_type": "code",
   "execution_count": 19,
   "metadata": {},
   "outputs": [
    {
     "data": {
      "text/plain": [
       "<AxesSubplot:ylabel='Frequency'>"
      ]
     },
     "execution_count": 19,
     "metadata": {},
     "output_type": "execute_result"
    },
    {
     "data": {
      "image/png": "[encoded data removed]",
      "text/plain": [
       "<Figure size 432x288 with 1 Axes>"
      ]
     },
     "metadata": {
      "needs_background": "light"
     },
     "output_type": "display_data"
    }
   ],
   "source": [
    "df.content[df.content.apply(lambda x:len(x.split()) > 2000)].apply(lambda x:len(x.split())).plot(kind='hist',bins=50)"
   ]
  },
  {
   "cell_type": "markdown",
   "metadata": {},
   "source": [
    "### Articles with less than 2000 words"
   ]
  },
  {
   "cell_type": "code",
   "execution_count": 20,
   "metadata": {},
   "outputs": [
    {
     "data": {
      "text/plain": [
       "<AxesSubplot:ylabel='Frequency'>"
      ]
     },
     "execution_count": 20,
     "metadata": {},
     "output_type": "execute_result"
    },
    {
     "data": {
      "image/png": "[encoded data removed]",
      "text/plain": [
       "<Figure size 432x288 with 1 Axes>"
      ]
     },
     "metadata": {
      "needs_background": "light"
     },
     "output_type": "display_data"
    }
   ],
   "source": [
    "df.content[df.content.apply(lambda x:len(x.split()) < 2000)].apply(lambda x:len(x.split())).plot(kind='hist',bins=50)"
   ]
  },
  {
   "cell_type": "markdown",
   "metadata": {},
   "source": [
    "Number of articles below and above 500 words"
   ]
  },
  {
   "cell_type": "code",
   "execution_count": 24,
   "metadata": {
    "scrolled": false
   },
   "outputs": [
    {
     "data": {
      "text/plain": [
       "78"
      ]
     },
     "execution_count": 24,
     "metadata": {},
     "output_type": "execute_result"
    }
   ],
   "source": [
    "df.content[df.content.apply(lambda x:len(x.split()) < 500)].count()"
   ]
  },
  {
   "cell_type": "code",
   "execution_count": 25,
   "metadata": {},
   "outputs": [
    {
     "data": {
      "text/plain": [
       "386"
      ]
     },
     "execution_count": 25,
     "metadata": {},
     "output_type": "execute_result"
    }
   ],
   "source": [
    "df.content[df.content.apply(lambda x:len(x.split()) > 500)].count()"
   ]
  },
  {
   "cell_type": "code",
   "execution_count": 31,
   "metadata": {
    "scrolled": true
   },
   "outputs": [
    {
     "data": {
      "text/plain": [
       "16.810344827586206"
      ]
     },
     "execution_count": 31,
     "metadata": {},
     "output_type": "execute_result"
    }
   ],
   "source": [
    "(78/df.content.count())*100"
   ]
  },
  {
   "cell_type": "code",
   "execution_count": 34,
   "metadata": {},
   "outputs": [
    {
     "data": {
      "text/plain": [
       "83.1896551724138"
      ]
     },
     "execution_count": 34,
     "metadata": {},
     "output_type": "execute_result"
    }
   ],
   "source": [
    "(386/df.content.count())*100"
   ]
  },
  {
   "cell_type": "markdown",
   "metadata": {},
   "source": [
    "Info about articles length"
   ]
  },
  {
   "cell_type": "code",
   "execution_count": 36,
   "metadata": {
    "scrolled": true
   },
   "outputs": [
    {
     "data": {
      "text/html": [
       "<div>\n",
       "<style scoped>\n",
       "    .dataframe tbody tr th:only-of-type {\n",
       "        vertical-align: middle;\n",
       "    }\n",
       "\n",
       "    .dataframe tbody tr th {\n",
       "        vertical-align: top;\n",
       "    }\n",
       "\n",
       "    .dataframe thead th {\n",
       "        text-align: right;\n",
       "    }\n",
       "</style>\n",
       "<table border=\"1\" class=\"dataframe\">\n",
       "  <thead>\n",
       "    <tr style=\"text-align: right;\">\n",
       "      <th></th>\n",
       "      <th>len</th>\n",
       "    </tr>\n",
       "  </thead>\n",
       "  <tbody>\n",
       "    <tr>\n",
       "      <th>count</th>\n",
       "      <td>464.000000</td>\n",
       "    </tr>\n",
       "    <tr>\n",
       "      <th>mean</th>\n",
       "      <td>3452.566810</td>\n",
       "    </tr>\n",
       "    <tr>\n",
       "      <th>std</th>\n",
       "      <td>3327.294736</td>\n",
       "    </tr>\n",
       "    <tr>\n",
       "      <th>min</th>\n",
       "      <td>0.000000</td>\n",
       "    </tr>\n",
       "    <tr>\n",
       "      <th>25%</th>\n",
       "      <td>863.250000</td>\n",
       "    </tr>\n",
       "    <tr>\n",
       "      <th>50%</th>\n",
       "      <td>2267.000000</td>\n",
       "    </tr>\n",
       "    <tr>\n",
       "      <th>75%</th>\n",
       "      <td>5159.500000</td>\n",
       "    </tr>\n",
       "    <tr>\n",
       "      <th>max</th>\n",
       "      <td>15209.000000</td>\n",
       "    </tr>\n",
       "  </tbody>\n",
       "</table>\n",
       "</div>"
      ],
      "text/plain": [
       "                len\n",
       "count    464.000000\n",
       "mean    3452.566810\n",
       "std     3327.294736\n",
       "min        0.000000\n",
       "25%      863.250000\n",
       "50%     2267.000000\n",
       "75%     5159.500000\n",
       "max    15209.000000"
      ]
     },
     "execution_count": 36,
     "metadata": {},
     "output_type": "execute_result"
    }
   ],
   "source": [
    "df['len'] = df.content.apply(lambda x:len(x.split()))\n",
    "df.describe()"
   ]
  },
  {
   "cell_type": "markdown",
   "metadata": {},
   "source": [
    "The articles are quite long in general (up to 12000). The mean is 3452 words. The 83% are above 500 words."
   ]
  },
  {
   "cell_type": "markdown",
   "metadata": {},
   "source": [
    "### Data cleaning"
   ]
  },
  {
   "cell_type": "markdown",
   "metadata": {},
   "source": [
    "Keep only content and category and rename them to text and label"
   ]
  },
  {
   "cell_type": "code",
   "execution_count": 37,
   "metadata": {},
   "outputs": [],
   "source": [
    "df = df[['content','category']].rename(columns = {\"content\":\"text\",\"category\":\"label\"})"
   ]
  },
  {
   "cell_type": "markdown",
   "metadata": {},
   "source": [
    "Analyse size of the different categories"
   ]
  },
  {
   "cell_type": "code",
   "execution_count": 38,
   "metadata": {
    "scrolled": true
   },
   "outputs": [
    {
     "data": {
      "text/plain": [
       "<AxesSubplot:>"
      ]
     },
     "execution_count": 38,
     "metadata": {},
     "output_type": "execute_result"
    },
    {
     "data": {
      "image/png": "[encoded data removed]",
      "text/plain": [
       "<Figure size 432x288 with 1 Axes>"
      ]
     },
     "metadata": {
      "needs_background": "light"
     },
     "output_type": "display_data"
    }
   ],
   "source": [
    "df['label'].value_counts().plot(kind='bar')"
   ]
  },
  {
   "cell_type": "markdown",
   "metadata": {},
   "source": [
    "Pretty much all the categories reach the target number of articles (50)"
   ]
  },
  {
   "cell_type": "markdown",
   "metadata": {},
   "source": [
    "Encode label to integer values"
   ]
  },
  {
   "cell_type": "code",
   "execution_count": 39,
   "metadata": {},
   "outputs": [
    {
     "data": {
      "text/html": [
       "<div>\n",
       "<style scoped>\n",
       "    .dataframe tbody tr th:only-of-type {\n",
       "        vertical-align: middle;\n",
       "    }\n",
       "\n",
       "    .dataframe tbody tr th {\n",
       "        vertical-align: top;\n",
       "    }\n",
       "\n",
       "    .dataframe thead th {\n",
       "        text-align: right;\n",
       "    }\n",
       "</style>\n",
       "<table border=\"1\" class=\"dataframe\">\n",
       "  <thead>\n",
       "    <tr style=\"text-align: right;\">\n",
       "      <th></th>\n",
       "      <th>text</th>\n",
       "      <th>label</th>\n",
       "    </tr>\n",
       "  </thead>\n",
       "  <tbody>\n",
       "    <tr>\n",
       "      <th>0</th>\n",
       "      <td>Sport includes all forms of competitive physic...</td>\n",
       "      <td>9</td>\n",
       "    </tr>\n",
       "    <tr>\n",
       "      <th>1</th>\n",
       "      <td>A team sport includes any sport where individu...</td>\n",
       "      <td>9</td>\n",
       "    </tr>\n",
       "    <tr>\n",
       "      <th>2</th>\n",
       "      <td>In games and sports, a tiebreaker or tiebreak ...</td>\n",
       "      <td>9</td>\n",
       "    </tr>\n",
       "    <tr>\n",
       "      <th>3</th>\n",
       "      <td>A champion (from the late Latin campio) is the...</td>\n",
       "      <td>9</td>\n",
       "    </tr>\n",
       "    <tr>\n",
       "      <th>4</th>\n",
       "      <td>A sports league is a group of sports teams tha...</td>\n",
       "      <td>9</td>\n",
       "    </tr>\n",
       "  </tbody>\n",
       "</table>\n",
       "</div>"
      ],
      "text/plain": [
       "                                                text  label\n",
       "0  Sport includes all forms of competitive physic...      9\n",
       "1  A team sport includes any sport where individu...      9\n",
       "2  In games and sports, a tiebreaker or tiebreak ...      9\n",
       "3  A champion (from the late Latin campio) is the...      9\n",
       "4  A sports league is a group of sports teams tha...      9"
      ]
     },
     "execution_count": 39,
     "metadata": {},
     "output_type": "execute_result"
    }
   ],
   "source": [
    "label_encoder = LabelEncoder()\n",
    "df['label'] = label_encoder.fit_transform(df['label'])\n",
    "df.head()"
   ]
  },
  {
   "cell_type": "markdown",
   "metadata": {},
   "source": [
    "Check if there are 10 classes as given in the assignment"
   ]
  },
  {
   "cell_type": "code",
   "execution_count": 40,
   "metadata": {},
   "outputs": [],
   "source": [
    "assert(len(np.unique(df['label']))==10)"
   ]
  },
  {
   "cell_type": "markdown",
   "metadata": {},
   "source": [
    "Additional cleaning to remove apostrophes and tabs"
   ]
  },
  {
   "cell_type": "code",
   "execution_count": 41,
   "metadata": {},
   "outputs": [],
   "source": [
    "def clean_txt(text):\n",
    "  text = re.sub(\"'\", \"\",text)\n",
    "  text=re.sub(\"(\\\\W)+\",\" \",text)    \n",
    "  return text"
   ]
  },
  {
   "cell_type": "code",
   "execution_count": 42,
   "metadata": {},
   "outputs": [
    {
     "data": {
      "text/html": [
       "<div>\n",
       "<style scoped>\n",
       "    .dataframe tbody tr th:only-of-type {\n",
       "        vertical-align: middle;\n",
       "    }\n",
       "\n",
       "    .dataframe tbody tr th {\n",
       "        vertical-align: top;\n",
       "    }\n",
       "\n",
       "    .dataframe thead th {\n",
       "        text-align: right;\n",
       "    }\n",
       "</style>\n",
       "<table border=\"1\" class=\"dataframe\">\n",
       "  <thead>\n",
       "    <tr style=\"text-align: right;\">\n",
       "      <th></th>\n",
       "      <th>text</th>\n",
       "      <th>label</th>\n",
       "    </tr>\n",
       "  </thead>\n",
       "  <tbody>\n",
       "    <tr>\n",
       "      <th>0</th>\n",
       "      <td>Sport includes all forms of competitive physic...</td>\n",
       "      <td>9</td>\n",
       "    </tr>\n",
       "    <tr>\n",
       "      <th>1</th>\n",
       "      <td>A team sport includes any sport where individu...</td>\n",
       "      <td>9</td>\n",
       "    </tr>\n",
       "    <tr>\n",
       "      <th>2</th>\n",
       "      <td>In games and sports a tiebreaker or tiebreak i...</td>\n",
       "      <td>9</td>\n",
       "    </tr>\n",
       "    <tr>\n",
       "      <th>3</th>\n",
       "      <td>A champion from the late Latin campio is the v...</td>\n",
       "      <td>9</td>\n",
       "    </tr>\n",
       "    <tr>\n",
       "      <th>4</th>\n",
       "      <td>A sports league is a group of sports teams tha...</td>\n",
       "      <td>9</td>\n",
       "    </tr>\n",
       "  </tbody>\n",
       "</table>\n",
       "</div>"
      ],
      "text/plain": [
       "                                                text  label\n",
       "0  Sport includes all forms of competitive physic...      9\n",
       "1  A team sport includes any sport where individu...      9\n",
       "2  In games and sports a tiebreaker or tiebreak i...      9\n",
       "3  A champion from the late Latin campio is the v...      9\n",
       "4  A sports league is a group of sports teams tha...      9"
      ]
     },
     "execution_count": 42,
     "metadata": {},
     "output_type": "execute_result"
    }
   ],
   "source": [
    "df['text']  = df.text.apply(clean_txt)\n",
    "df.head()"
   ]
  },
  {
   "cell_type": "markdown",
   "metadata": {},
   "source": [
    "Stratified train val test split"
   ]
  },
  {
   "cell_type": "code",
   "execution_count": 43,
   "metadata": {
    "scrolled": false
   },
   "outputs": [],
   "source": [
    "train, test = train_test_split(df,stratify=df.label, test_size=0.2)\n",
    "train, val = train_test_split(train,stratify=train.label, test_size=0.2)"
   ]
  },
  {
   "cell_type": "markdown",
   "metadata": {},
   "source": [
    "Reset indices"
   ]
  },
  {
   "cell_type": "code",
   "execution_count": 44,
   "metadata": {
    "scrolled": true
   },
   "outputs": [],
   "source": [
    "train.reset_index(inplace=True)\n",
    "val.reset_index(inplace=True)\n",
    "test.reset_index(inplace=True)"
   ]
  },
  {
   "cell_type": "code",
   "execution_count": 45,
   "metadata": {},
   "outputs": [
    {
     "data": {
      "text/plain": [
       "<AxesSubplot:>"
      ]
     },
     "execution_count": 45,
     "metadata": {},
     "output_type": "execute_result"
    },
    {
     "data": {
      "image/png": "[encoded data removed]",
      "text/plain": [
       "<Figure size 432x288 with 1 Axes>"
      ]
     },
     "metadata": {
      "needs_background": "light"
     },
     "output_type": "display_data"
    }
   ],
   "source": [
    "test['label'].value_counts().plot(kind='bar')"
   ]
  },
  {
   "cell_type": "markdown",
   "metadata": {},
   "source": [
    "I am not an expert in NLP and I have little experience with it but as I keep up with research paper I know that BERT (https://arxiv.org/abs/1810.04805) was used a lot in the last years. Moreover, it can \"be fine-tuned with just one additional output layer to create state-of-the-art models for a wide range of tasks\". This is exactly what I need for this task because for sure I will not scrape thausands of pages but only a small dataset.\n",
    "\n",
    "For sure there are other techniques that could perform better but BERT comes with Pytorch transformers which are simple to use and adapt for a specific task."
   ]
  },
  {
   "cell_type": "markdown",
   "metadata": {},
   "source": [
    "## Bert data preparation\n",
    "This approach is based on :\n",
    "* https://www.analyticsvidhya.com/blog/2020/07/transfer-learning-for-nlp-fine-tuning-bert-for-text-classification/#:~:text=%E2%80%9CBERT%20stands%20for%20Bidirectional%20Encoder,both%20left%20and%20right%20context\n",
    "* https://github.com/huggingface/transformers\n",
    "* https://medium.com/huggingface/multi-label-text-classification-using-bert-the-mighty-transformer-69714fa3fb3d"
   ]
  },
  {
   "cell_type": "markdown",
   "metadata": {},
   "source": [
    "Problem with BERT is that it can fit only 510 tokens (much less than Wikipidia articles). Sun et al. (https://arxiv.org/abs/1905.05583) looked into this problem (text classification with larger text). There are different possibilities for truncation:\n",
    "* Cut at the beggining and at the end (head+tail)\n",
    "* Cut at the beginning (head only)\n",
    "* Cut at the end (tail only)\n",
    "\n",
    "In their experiments they proved that the head+tail truncation is the best option. Moreover they showed that simple tecniques (e.g. head only, tail only) outperform smarter methods like hierarchy mean and max (classification of different chunks and then an aggregation with max or mean pooling). \n",
    "\n",
    "As in this assiment I do not need a perfect model I will go with an **head only truncation** which is pretty simple to do and also effective. In an additional phase this model could be changed to try to improve the classification performance (e.g. perform text summarization before feeding it to BERT, chunk classification and vooting system, etc.)."
   ]
  },
  {
   "cell_type": "code",
   "execution_count": null,
   "metadata": {},
   "outputs": [],
   "source": [
    "# Load the BERT tokenizer\n",
    "tokenizer = BertTokenizerFast.from_pretrained('bert-base-uncased',do_lower_case=True)"
   ]
  },
  {
   "cell_type": "code",
   "execution_count": null,
   "metadata": {},
   "outputs": [],
   "source": [
    "tokens_train = tokenizer.batch_encode_plus(train['text'].tolist(),truncation=True,padding=True)\n",
    "tokens_val = tokenizer.batch_encode_plus(val['text'].tolist(),truncation=True,padding=True)\n",
    "tokens_test = tokenizer.batch_encode_plus(test['text'].tolist(),truncation=True,padding=True)"
   ]
  },
  {
   "cell_type": "code",
   "execution_count": null,
   "metadata": {},
   "outputs": [],
   "source": [
    "# tokens_train[0].tokens"
   ]
  },
  {
   "cell_type": "code",
   "execution_count": null,
   "metadata": {},
   "outputs": [],
   "source": [
    "train_seq = torch.tensor(tokens_train['input_ids'])\n",
    "train_mask = torch.tensor(tokens_train['attention_mask'])\n",
    "train_y = torch.tensor(train['label'].tolist())\n",
    "\n",
    "val_seq = torch.tensor(tokens_val['input_ids'])\n",
    "val_mask = torch.tensor(tokens_val['attention_mask'])\n",
    "val_y = torch.tensor(val['label'].tolist())\n",
    "\n",
    "test_seq = torch.tensor(tokens_test['input_ids'])\n",
    "test_mask = torch.tensor(tokens_test['attention_mask'])\n",
    "test_y = torch.tensor(test['label'].tolist())"
   ]
  },
  {
   "cell_type": "markdown",
   "metadata": {},
   "source": [
    "### Create datasets"
   ]
  },
  {
   "cell_type": "code",
   "execution_count": 46,
   "metadata": {},
   "outputs": [],
   "source": [
    "# The batch size is set to 2 instead of 16 ore 32 (suggestion from original paper) \n",
    "# because Gooogle Colab GPU cannot fit bigger batches \n",
    "#(if a more performant GPU is avialable it should be good to use 16 or 32).\n",
    "\n",
    "batch_size = 2"
   ]
  },
  {
   "cell_type": "markdown",
   "metadata": {},
   "source": [
    "#### Train"
   ]
  },
  {
   "cell_type": "code",
   "execution_count": null,
   "metadata": {},
   "outputs": [],
   "source": [
    "# wrap tensors\n",
    "train_data = TensorDataset(train_seq, train_mask, train_y)\n",
    "\n",
    "# sampler for sampling the data during training\n",
    "train_sampler = RandomSampler(train_data)\n",
    "\n",
    "# dataLoader for train set\n",
    "train_dataloader = DataLoader(train_data, sampler=train_sampler, batch_size=batch_size)"
   ]
  },
  {
   "cell_type": "markdown",
   "metadata": {},
   "source": [
    "#### Val"
   ]
  },
  {
   "cell_type": "code",
   "execution_count": null,
   "metadata": {},
   "outputs": [],
   "source": [
    "# wrap tensors\n",
    "val_data = TensorDataset(val_seq, val_mask, val_y)\n",
    "\n",
    "# sampler for sampling the data during training\n",
    "val_sampler = SequentialSampler(val_data)\n",
    "\n",
    "# dataLoader for validation set\n",
    "val_dataloader = DataLoader(val_data, sampler = val_sampler, batch_size=batch_size)"
   ]
  },
  {
   "cell_type": "markdown",
   "metadata": {},
   "source": [
    "#### Test"
   ]
  },
  {
   "cell_type": "code",
   "execution_count": null,
   "metadata": {},
   "outputs": [],
   "source": [
    "# wrap tensors\n",
    "test_data = TensorDataset(test_seq, test_mask, test_y)\n",
    "\n",
    "# sampler for sampling the data during training\n",
    "test_sampler = SequentialSampler(test_data)\n",
    "\n",
    "# dataLoader for test set\n",
    "test_dataloader = DataLoader(test_data, sampler = test_sampler, batch_size=batch_size)"
   ]
  },
  {
   "cell_type": "markdown",
   "metadata": {},
   "source": [
    "# Feature Engineering & Modeling"
   ]
  },
  {
   "cell_type": "markdown",
   "metadata": {},
   "source": [
    "This is the normal BERT model with an extra single linear layer on top for classification that we will use as a sentence classifier (https://huggingface.co/transformers/model_doc/bert.html#transformers.BertForSequenceClassification)."
   ]
  },
  {
   "cell_type": "code",
   "execution_count": null,
   "metadata": {},
   "outputs": [],
   "source": [
    "device = torch.device(\"cuda:0\" if torch.cuda.is_available() else \"cpu\")"
   ]
  },
  {
   "cell_type": "markdown",
   "metadata": {},
   "source": [
    "Set the corret number fo classes for the classification (in this case 10 output categories)"
   ]
  },
  {
   "cell_type": "code",
   "execution_count": null,
   "metadata": {
    "scrolled": true
   },
   "outputs": [],
   "source": [
    "model = BertForSequenceClassification.from_pretrained(\n",
    "    \"bert-base-uncased\", \n",
    "    num_labels = 10,   \n",
    "    output_attentions = False, \n",
    "    output_hidden_states = False,\n",
    ")"
   ]
  },
  {
   "cell_type": "code",
   "execution_count": null,
   "metadata": {},
   "outputs": [],
   "source": [
    "model.to(device)"
   ]
  },
  {
   "cell_type": "code",
   "execution_count": null,
   "metadata": {},
   "outputs": [],
   "source": [
    "# Check output layers\n",
    "params = list(model.named_parameters())\n",
    "\n",
    "for p in params[-4:]:\n",
    "    print(\"{:<55} {:>12}\".format(p[0], str(tuple(p[1].size()))))"
   ]
  },
  {
   "cell_type": "markdown",
   "metadata": {},
   "source": [
    "Optimizer, in the original paper they propose to use one of these lr for fine-tuning learning (5e-5, 4e-5, 3e-5, and 2e-5) and as I do not have time for an hyperparameter search I will use 2e-5."
   ]
  },
  {
   "cell_type": "code",
   "execution_count": null,
   "metadata": {},
   "outputs": [],
   "source": [
    "optimizer = AdamW(model.parameters(), lr = 2e-5)"
   ]
  },
  {
   "cell_type": "markdown",
   "metadata": {},
   "source": [
    "As I scrape wikipedia to have balanced classes we do not need class weights, if that was the case sklearn.utils.class_weight can help a lot."
   ]
  },
  {
   "cell_type": "markdown",
   "metadata": {},
   "source": [
    "Training and evaluation loop based on https://github.com/huggingface/transformers/blob/5bfcd0485ece086ebcbed2d008813037968a9e58/examples/run_glue.py"
   ]
  },
  {
   "cell_type": "code",
   "execution_count": 47,
   "metadata": {},
   "outputs": [
    {
     "ename": "NameError",
     "evalue": "name 'train_dataloader' is not defined",
     "output_type": "error",
     "traceback": [
      "\u001b[0;31m---------------------------------------------------------------------------\u001b[0m",
      "\u001b[0;31mNameError\u001b[0m                                 Traceback (most recent call last)",
      "\u001b[0;32m<ipython-input-47-e6826a9bfa7d>\u001b[0m in \u001b[0;36m<module>\u001b[0;34m\u001b[0m\n\u001b[1;32m      4\u001b[0m \u001b[0;34m\u001b[0m\u001b[0m\n\u001b[1;32m      5\u001b[0m \u001b[0;31m# Total number of training steps\u001b[0m\u001b[0;34m\u001b[0m\u001b[0;34m\u001b[0m\u001b[0;34m\u001b[0m\u001b[0m\n\u001b[0;32m----> 6\u001b[0;31m \u001b[0mtotal_steps\u001b[0m \u001b[0;34m=\u001b[0m \u001b[0mlen\u001b[0m\u001b[0;34m(\u001b[0m\u001b[0mtrain_dataloader\u001b[0m\u001b[0;34m)\u001b[0m \u001b[0;34m*\u001b[0m \u001b[0mepochs\u001b[0m\u001b[0;34m\u001b[0m\u001b[0;34m\u001b[0m\u001b[0m\n\u001b[0m\u001b[1;32m      7\u001b[0m \u001b[0;34m\u001b[0m\u001b[0m\n\u001b[1;32m      8\u001b[0m \u001b[0;31m# Scheduler\u001b[0m\u001b[0;34m\u001b[0m\u001b[0;34m\u001b[0m\u001b[0;34m\u001b[0m\u001b[0m\n",
      "\u001b[0;31mNameError\u001b[0m: name 'train_dataloader' is not defined"
     ]
    }
   ],
   "source": [
    "# Number of training epochs (authors recommend between 2 and 4). To see how it behave and because it is pretty fast to\n",
    "# train on a GPU I decided to use more epochs (only the model which achieves the highest val accuracy is kept).\n",
    "epochs = 10\n",
    "\n",
    "# Total number of training steps\n",
    "total_steps = len(train_dataloader) * epochs\n",
    "\n",
    "# Scheduler\n",
    "scheduler = get_linear_schedule_with_warmup(optimizer, \n",
    "                                            num_warmup_steps = 0,\n",
    "                                            num_training_steps = total_steps)"
   ]
  },
  {
   "cell_type": "markdown",
   "metadata": {},
   "source": [
    "### Helper methods"
   ]
  },
  {
   "cell_type": "code",
   "execution_count": null,
   "metadata": {},
   "outputs": [],
   "source": [
    "def flat_accuracy(preds, labels):\n",
    "    pred_flat = np.argmax(preds, axis=1).flatten()\n",
    "    labels_flat = labels.flatten()\n",
    "    return np.sum(pred_flat == labels_flat) / len(labels_flat)"
   ]
  },
  {
   "cell_type": "code",
   "execution_count": null,
   "metadata": {},
   "outputs": [],
   "source": [
    "def format_time(elapsed):\n",
    "    elapsed_rounded = int(round((elapsed)))\n",
    "    \n",
    "    #  hh:mm:ss\n",
    "    return str(datetime.timedelta(seconds=elapsed_rounded))"
   ]
  },
  {
   "cell_type": "markdown",
   "metadata": {},
   "source": [
    "### Training func"
   ]
  },
  {
   "cell_type": "code",
   "execution_count": null,
   "metadata": {},
   "outputs": [],
   "source": [
    "def train(dataloader):\n",
    "    print(\"Training...\")\n",
    "    \n",
    "    # Start time\n",
    "    t0 = time.time()\n",
    "\n",
    "    total_loss = 0\n",
    "\n",
    "    model.train()\n",
    "\n",
    "    for step, batch in enumerate(dataloader):\n",
    "\n",
    "        # Progress update every 40 batches.\n",
    "        if step % 40 == 0 and not step == 0:\n",
    "            # Elapsed time in mins\n",
    "            elapsed = format_time(time.time() - t0)\n",
    "            \n",
    "            print('  Batch {:>5,}  of  {:>5,}.    Elapsed: {:}.'.format(step, len(train_dataloader), elapsed))\n",
    "\n",
    "        \n",
    "        batch = [r.to(device) for r in batch]\n",
    "        sent_id, mask, labels = batch\n",
    "\n",
    "        # Clear gradients\n",
    "        model.zero_grad()        \n",
    "\n",
    "        # Forward pass\n",
    "        outputs = model(sent_id,\n",
    "                    attention_mask=mask, \n",
    "                    labels=labels,\n",
    "                    return_dict=True)\n",
    "        \n",
    "        # Get loss on CrossEntropyLoss\n",
    "        loss = outputs.loss\n",
    "\n",
    "        total_loss += loss.item()\n",
    "\n",
    "        loss.backward()\n",
    "\n",
    "        # Clip the the gradients to 1.0 (exploding gradient)\n",
    "        torch.nn.utils.clip_grad_norm_(model.parameters(), 1.0)\n",
    "\n",
    "        optimizer.step()\n",
    "\n",
    "        # Update lr\n",
    "        scheduler.step()\n",
    "\n",
    "    # average loss\n",
    "    avg_train_loss = total_loss / len(train_dataloader)            \n",
    "    \n",
    "\n",
    "    print(\"  Average training loss: {0:.2f}\".format(avg_train_loss))\n",
    "    print(\"  Training epcoh took: {:}\".format(format_time(time.time() - t0)))\n",
    "    \n",
    "    return avg_train_loss"
   ]
  },
  {
   "cell_type": "markdown",
   "metadata": {},
   "source": [
    "### Evaluation func"
   ]
  },
  {
   "cell_type": "code",
   "execution_count": null,
   "metadata": {},
   "outputs": [],
   "source": [
    "def evaluate(dataloader):\n",
    "    print(\"Validation...\")\n",
    "\n",
    "    t0 = time.time()\n",
    "    \n",
    "    total_loss = 0\n",
    "\n",
    "    # Eval mode\n",
    "    model.eval()\n",
    "\n",
    "    eval_loss, eval_accuracy = 0, 0\n",
    "    predictions , true_labels = [], []\n",
    "\n",
    "    for batch in dataloader:\n",
    "        \n",
    "        batch = [r.to(device) for r in batch]\n",
    "        sent_id, mask, labels = batch\n",
    "        \n",
    "        with torch.no_grad():        \n",
    "            outputs = model(sent_id, \n",
    "                            attention_mask=mask,\n",
    "                            labels=labels,\n",
    "                               return_dict=True)\n",
    "        \n",
    "        # Logits (before softmax) \n",
    "        logits = outputs.logits\n",
    "        \n",
    "        # Get loss on CrossEntropyLoss\n",
    "        loss = outputs.loss\n",
    "\n",
    "        total_loss += loss.item()\n",
    "        \n",
    "        # Put values to CPU\n",
    "        logits = logits.detach().cpu().numpy()\n",
    "        label_ids = labels.to('cpu').numpy()\n",
    "        \n",
    "        # Predictions and true labels\n",
    "        predictions.extend(logits)\n",
    "        true_labels.extend(label_ids)\n",
    "        \n",
    "        # Accumulate the total accuracy.\n",
    "        eval_accuracy += flat_accuracy(logits, label_ids)\n",
    "\n",
    "    \n",
    "    # Average loss\n",
    "    avg_val_loss = total_loss / len(dataloader)            \n",
    "    \n",
    "    # Average accuracy\n",
    "    avg_val_accuracy = eval_accuracy/len(dataloader)\n",
    "    \n",
    "    \n",
    "    print(\"  Accuracy: {0:.2f}\".format(avg_val_accuracy))\n",
    "    print(\"  Validation took: {:}\".format(format_time(time.time() - t0)))\n",
    "    \n",
    "    return avg_val_loss, avg_val_accuracy, predictions, true_labels"
   ]
  },
  {
   "cell_type": "markdown",
   "metadata": {},
   "source": [
    "### Training loop"
   ]
  },
  {
   "cell_type": "code",
   "execution_count": null,
   "metadata": {},
   "outputs": [],
   "source": [
    "loss_values = []\n",
    "loss_val_values = []\n",
    "accuracy_val_val = 0.0\n",
    "for epoch in range(0, epochs):\n",
    "    \n",
    "    print('======== Epoch {:} / {:} ========'.format(epoch + 1, epochs))\n",
    "    \n",
    "    # Train\n",
    "    avg_train_loss = train(train_dataloader)\n",
    "    loss_values.append(avg_train_loss)\n",
    "    \n",
    "        \n",
    "    # Validation\n",
    "    avg_val_loss, avg_val_accuracy, _, _ = evaluate(val_dataloader)\n",
    "    loss_val_values.append(avg_val_loss)\n",
    "    accuracy_val_values.append(avg_val_accuracy)\n",
    "    \n",
    "    # Save best model\n",
    "    if avg_val_accuracy > best_val_acc:\n",
    "        best_val_acc = avg_val_accuracy\n",
    "        torch.save(model.state_dict(), 'saved_weights.pt')\n",
    "\n",
    "print(\"Done\")\n"
   ]
  },
  {
   "cell_type": "markdown",
   "metadata": {},
   "source": [
    "# Results & Visualizations"
   ]
  },
  {
   "cell_type": "markdown",
   "metadata": {},
   "source": [
    "Plot loss and accuracy of the training"
   ]
  },
  {
   "cell_type": "code",
   "execution_count": null,
   "metadata": {},
   "outputs": [],
   "source": [
    "# Use plot styling from seaborn.\n",
    "sns.set(style='darkgrid')\n",
    "\n",
    "# Increase the plot size and font size.\n",
    "sns.set(font_scale=1.5)\n",
    "plt.rcParams[\"figure.figsize\"] = (12,6)\n",
    "\n",
    "# Plot the learning curve.\n",
    "plt.plot(loss_values, 'b-o')\n",
    "\n",
    "# Label the plot.\n",
    "plt.title(\"Training loss\")\n",
    "plt.xlabel(\"Epoch\")\n",
    "plt.ylabel(\"Loss\")\n",
    "\n",
    "plt.show()"
   ]
  },
  {
   "cell_type": "code",
   "execution_count": null,
   "metadata": {},
   "outputs": [],
   "source": [
    "# Plot the learning curve.\n",
    "plt.plot(loss_val_values, 'b-o')\n",
    "\n",
    "# Label the plot.\n",
    "plt.title(\"Validation loss\")\n",
    "plt.xlabel(\"Epoch\")\n",
    "plt.ylabel(\"Loss\")\n",
    "\n",
    "plt.show()"
   ]
  },
  {
   "cell_type": "code",
   "execution_count": null,
   "metadata": {},
   "outputs": [],
   "source": [
    "# Plot the learning curve.\n",
    "plt.plot(accuracy_val_values, 'b-o')\n",
    "\n",
    "# Label the plot.\n",
    "plt.title(\"Validation accuracy\")\n",
    "plt.xlabel(\"Epoch\")\n",
    "plt.ylabel(\"Accuracy\")\n",
    "\n",
    "plt.show()"
   ]
  },
  {
   "cell_type": "markdown",
   "metadata": {},
   "source": [
    "It seems like the network cannot get better than 91% accuracy (probably it should be better to look at other metrics). Moreover, it starts to overfit after 2 epochs. Maybe with a smaller/bigger learning rate the network could get better but as the objective is not to get best performance I will leave it like that."
   ]
  },
  {
   "cell_type": "markdown",
   "metadata": {},
   "source": [
    "Performance on test set"
   ]
  },
  {
   "cell_type": "code",
   "execution_count": null,
   "metadata": {
    "scrolled": true
   },
   "outputs": [],
   "source": [
    "_, _, predictions, true_labels = evaluate(test_dataloader)\n",
    "preds = np.argmax(predictions, axis = 2)\n",
    "print(classification_report(true_labels, preds, target_names=list(label_encoder.classes_)))"
   ]
  },
  {
   "cell_type": "markdown",
   "metadata": {},
   "source": [
    "From the classification report on a test set, we can see that also the other metrics (i.e. precision, recal and f1) follow the accuracy. In this case, the accuracy is not as high as the validation set (91%) but at a 86%. For the given small dataset I think this is a pretty good result. \n",
    "\n",
    "Probably with an hyperparameters search and maybe an higher batch size (batch size seems to have always an inpact on training), which in this case was 2 (for GPU memory limitation), the model could achieve better performance. I read different papers about that but I cannot find them... I am not sure if this assumption is also true for BERT.\n",
    "\n",
    "The classification report shows the macro average (averaging the unweighted mean per label), weighted average (averaging the support-weighted mean per label).\n",
    "\n",
    "\n",
    "If we look more into the precision and accuracy of the different classes we can see that this model have some problems especially with **culture** and **philosophy**."
   ]
  },
  {
   "cell_type": "code",
   "execution_count": null,
   "metadata": {},
   "outputs": [],
   "source": [
    "cm = confusion_matrix(true_labels, preds)"
   ]
  },
  {
   "cell_type": "code",
   "execution_count": null,
   "metadata": {},
   "outputs": [],
   "source": [
    "fig, ax = mlxtend.plotting.plot_confusion_matrix(conf_mat=cm,\n",
    "                                colorbar=False,\n",
    "                                show_absolute=True,\n",
    "                                show_normed=True,\n",
    "                                figsize=(10, 10)\n",
    "                                class_names=list(label_encoder.classes_))\n",
    "plt.show()"
   ]
  }
 ],
 "metadata": {
  "kernelspec": {
   "display_name": "Python 3",
   "language": "python",
   "name": "python3"
  },
  "language_info": {
   "codemirror_mode": {
    "name": "ipython",
    "version": 3
   },
   "file_extension": ".py",
   "mimetype": "text/x-python",
   "name": "python",
   "nbconvert_exporter": "python",
   "pygments_lexer": "ipython3",
   "version": "3.7.3"
  },
  "toc": {
   "base_numbering": 1,
   "nav_menu": {},
   "number_sections": true,
   "sideBar": true,
   "skip_h1_title": false,
   "title_cell": "Table of Contents",
   "title_sidebar": "Contents",
   "toc_cell": false,
   "toc_position": {},
   "toc_section_display": true,
   "toc_window_display": false
  },
  "varInspector": {
   "cols": {
    "lenName": 16,
    "lenType": 16,
    "lenVar": 40
   },
   "kernels_config": {
    "python": {
     "delete_cmd_postfix": "",
     "delete_cmd_prefix": "del ",
     "library": "var_list.py",
     "varRefreshCmd": "print(var_dic_list())"
    },
    "r": {
     "delete_cmd_postfix": ") ",
     "delete_cmd_prefix": "rm(",
     "library": "var_list.r",
     "varRefreshCmd": "cat(var_dic_list()) "
    }
   },
   "types_to_exclude": [
    "module",
    "function",
    "builtin_function_or_method",
    "instance",
    "_Feature"
   ],
   "window_display": false
  }
 },
 "nbformat": 4,
 "nbformat_minor": 2
}
