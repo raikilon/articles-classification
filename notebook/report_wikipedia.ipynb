{
 "cells": [
  {
   "cell_type": "markdown",
   "metadata": {
    "id": "INtdI-1S5SdV"
   },
   "source": [
    "# Introduction"
   ]
  },
  {
   "cell_type": "markdown",
   "metadata": {
    "id": "CJh1Zqh15SdW"
   },
   "source": [
    "Do not spend too much time trying to get very tiny metrics improvement. Once you have a model with a correct predictive power, you should better spend time explaining your data cleaning & preparation pipeline as well as explanations & visualizations of the results.\n",
    "\n",
    "The goal is to see your fit with our company culture & engineering needs, spending 50h on an over-complicated approach will not give you bonus points compared to a simple, yet effective, to-the-point solution."
   ]
  },
  {
   "cell_type": "markdown",
   "metadata": {
    "id": "udV-_ETL5SdX"
   },
   "source": [
    "## About the data"
   ]
  },
  {
   "cell_type": "markdown",
   "metadata": {
    "id": "zVEBd0755SdX"
   },
   "source": [
    "For this project you will be working on Wikipedia articles. \n",
    "   \n",
    "The goal of this project is to develop :\n",
    "\n",
    "* A scraper that is able to retrieve wikipedia articles from 10 different categories of your choice (i.e. Sports, Politics, etc...)\n",
    "* A model that is able to **classify previously unseen Wikipedia articles** based on the categories you extracted earlier. \n",
    "\n",
    "Feel free to use any available library you would need, but beware of re-using someone else's code without mentionning it!"
   ]
  },
  {
   "cell_type": "markdown",
   "metadata": {
    "id": "MXroaDDn5SdY"
   },
   "source": [
    "## Deliverable"
   ]
  },
  {
   "cell_type": "markdown",
   "metadata": {
    "id": "x9trvWRo5SdY"
   },
   "source": [
    "The end-goal is to deliver us a zip file containing:\n",
    "* This report filled with your approach, in the form of an **iPython Notebook**.\n",
    "* A **5-10 slides PDF file**, containing a technical presentation covering the important aspects of your work\n",
    "* A Dockerfile which defines a container for the project. The container should handle everything (download the data, run the code, etc...). When running the container it should expose the jupyter notebook on one port and expose a Flask API on another one. The Flask app contains two endpoints:\n",
    "  - One for scraping the data and training the model\n",
    "  - One for querying the last trained model with an article of our choice in the dataset\n",
    "* A README.md which should contain the commands to build and run the docker container, as well as how to perform the queries to the API. \n",
    "* Any necessary .py, .sh or other files needed to run your code."
   ]
  },
  {
   "cell_type": "markdown",
   "metadata": {
    "id": "j0RdL7pQ5SdZ"
   },
   "source": [
    "# Libraries Loading"
   ]
  },
  {
   "cell_type": "code",
   "execution_count": 1,
   "metadata": {
    "colab": {
     "base_uri": "https://localhost:8080/",
     "height": 751
    },
    "executionInfo": {
     "elapsed": 8385,
     "status": "ok",
     "timestamp": 1601998940684,
     "user": {
      "displayName": "Nolì Manzoni",
      "photoUrl": "https://lh3.googleusercontent.com/a-/AOh14GjSV8oLzy8XPBgS7lzEvCYrQsaoPX1_wtBEXr-g2A=s64",
      "userId": "08995673857897094389"
     },
     "user_tz": -120
    },
    "id": "v1MMGfGv59J8",
    "outputId": "dfa16d05-6e81-4c30-8c10-8d0b01b3af28"
   },
   "outputs": [
    {
     "name": "stdout",
     "output_type": "stream",
     "text": [
      "Collecting transformers\n",
      "\u001b[?25l  Downloading https://files.pythonhosted.org/packages/19/22/aff234f4a841f8999e68a7a94bdd4b60b4cebcfeca5d67d61cd08c9179de/transformers-3.3.1-py3-none-any.whl (1.1MB)\n",
      "\u001b[K     |████████████████████████████████| 1.1MB 5.6MB/s \n",
      "\u001b[?25hRequirement already satisfied: filelock in /usr/local/lib/python3.6/dist-packages (from transformers) (3.0.12)\n",
      "Requirement already satisfied: tqdm>=4.27 in /usr/local/lib/python3.6/dist-packages (from transformers) (4.41.1)\n",
      "Requirement already satisfied: requests in /usr/local/lib/python3.6/dist-packages (from transformers) (2.23.0)\n",
      "Collecting tokenizers==0.8.1.rc2\n",
      "\u001b[?25l  Downloading https://files.pythonhosted.org/packages/80/83/8b9fccb9e48eeb575ee19179e2bdde0ee9a1904f97de5f02d19016b8804f/tokenizers-0.8.1rc2-cp36-cp36m-manylinux1_x86_64.whl (3.0MB)\n",
      "\u001b[K     |████████████████████████████████| 3.0MB 30.7MB/s \n",
      "\u001b[?25hCollecting sacremoses\n",
      "\u001b[?25l  Downloading https://files.pythonhosted.org/packages/7d/34/09d19aff26edcc8eb2a01bed8e98f13a1537005d31e95233fd48216eed10/sacremoses-0.0.43.tar.gz (883kB)\n",
      "\u001b[K     |████████████████████████████████| 890kB 54.0MB/s \n",
      "\u001b[?25hRequirement already satisfied: dataclasses; python_version < \"3.7\" in /usr/local/lib/python3.6/dist-packages (from transformers) (0.7)\n",
      "Requirement already satisfied: numpy in /usr/local/lib/python3.6/dist-packages (from transformers) (1.18.5)\n",
      "Requirement already satisfied: regex!=2019.12.17 in /usr/local/lib/python3.6/dist-packages (from transformers) (2019.12.20)\n",
      "Collecting sentencepiece!=0.1.92\n",
      "\u001b[?25l  Downloading https://files.pythonhosted.org/packages/d4/a4/d0a884c4300004a78cca907a6ff9a5e9fe4f090f5d95ab341c53d28cbc58/sentencepiece-0.1.91-cp36-cp36m-manylinux1_x86_64.whl (1.1MB)\n",
      "\u001b[K     |████████████████████████████████| 1.1MB 54.6MB/s \n",
      "\u001b[?25hRequirement already satisfied: packaging in /usr/local/lib/python3.6/dist-packages (from transformers) (20.4)\n",
      "Requirement already satisfied: idna<3,>=2.5 in /usr/local/lib/python3.6/dist-packages (from requests->transformers) (2.10)\n",
      "Requirement already satisfied: chardet<4,>=3.0.2 in /usr/local/lib/python3.6/dist-packages (from requests->transformers) (3.0.4)\n",
      "Requirement already satisfied: urllib3!=1.25.0,!=1.25.1,<1.26,>=1.21.1 in /usr/local/lib/python3.6/dist-packages (from requests->transformers) (1.24.3)\n",
      "Requirement already satisfied: certifi>=2017.4.17 in /usr/local/lib/python3.6/dist-packages (from requests->transformers) (2020.6.20)\n",
      "Requirement already satisfied: six in /usr/local/lib/python3.6/dist-packages (from sacremoses->transformers) (1.15.0)\n",
      "Requirement already satisfied: click in /usr/local/lib/python3.6/dist-packages (from sacremoses->transformers) (7.1.2)\n",
      "Requirement already satisfied: joblib in /usr/local/lib/python3.6/dist-packages (from sacremoses->transformers) (0.16.0)\n",
      "Requirement already satisfied: pyparsing>=2.0.2 in /usr/local/lib/python3.6/dist-packages (from packaging->transformers) (2.4.7)\n",
      "Building wheels for collected packages: sacremoses\n",
      "  Building wheel for sacremoses (setup.py) ... \u001b[?25l\u001b[?25hdone\n",
      "  Created wheel for sacremoses: filename=sacremoses-0.0.43-cp36-none-any.whl size=893257 sha256=1b4cceb68c04da15a5f33e9ae9a418b0501aefafddf89535ca7293af0d0022e6\n",
      "  Stored in directory: /root/.cache/pip/wheels/29/3c/fd/7ce5c3f0666dab31a50123635e6fb5e19ceb42ce38d4e58f45\n",
      "Successfully built sacremoses\n",
      "Installing collected packages: tokenizers, sacremoses, sentencepiece, transformers\n",
      "Successfully installed sacremoses-0.0.43 sentencepiece-0.1.91 tokenizers-0.8.1rc2 transformers-3.3.1\n",
      "Collecting mlxtend\n",
      "\u001b[?25l  Downloading https://files.pythonhosted.org/packages/4c/0d/4a73b8bc49e2cfee178fe50dd8e84d5ba817d0b2454b09308397416e0e48/mlxtend-0.17.3-py2.py3-none-any.whl (1.3MB)\n",
      "\u001b[K     |████████████████████████████████| 1.3MB 5.2MB/s \n",
      "\u001b[?25hInstalling collected packages: mlxtend\n",
      "  Found existing installation: mlxtend 0.14.0\n",
      "    Uninstalling mlxtend-0.14.0:\n",
      "      Successfully uninstalled mlxtend-0.14.0\n",
      "Successfully installed mlxtend-0.17.3\n"
     ]
    }
   ],
   "source": [
    "!pip install transformers\n",
    "!pip install mlxtend --upgrade --no-deps"
   ]
  },
  {
   "cell_type": "code",
   "execution_count": 2,
   "metadata": {
    "executionInfo": {
     "elapsed": 14619,
     "status": "ok",
     "timestamp": 1601998946932,
     "user": {
      "displayName": "Nolì Manzoni",
      "photoUrl": "https://lh3.googleusercontent.com/a-/AOh14GjSV8oLzy8XPBgS7lzEvCYrQsaoPX1_wtBEXr-g2A=s64",
      "userId": "08995673857897094389"
     },
     "user_tz": -120
    },
    "id": "kEm3qpay5SdZ"
   },
   "outputs": [],
   "source": [
    "import requests\n",
    "import random\n",
    "from bs4 import BeautifulSoup\n",
    "import re\n",
    "import pandas as pd\n",
    "from sklearn.preprocessing import LabelEncoder\n",
    "from sklearn.model_selection import train_test_split\n",
    "import numpy as np\n",
    "import torch\n",
    "import torch.nn as nn\n",
    "from sklearn.metrics import classification_report\n",
    "import transformers\n",
    "from transformers import AutoModel, BertTokenizerFast, BertForSequenceClassification, AdamW, BertConfig\n",
    "import matplotlib.pyplot as plt\n",
    "from torch.utils.data import TensorDataset, DataLoader, RandomSampler, SequentialSampler\n",
    "from transformers import get_linear_schedule_with_warmup\n",
    "import time\n",
    "import datetime\n",
    "from sklearn.metrics import classification_report\n",
    "import seaborn as sns\n",
    "from queue import Queue, Empty\n",
    "from concurrent.futures import ThreadPoolExecutor\n",
    "from sklearn.metrics import confusion_matrix\n",
    "from mlxtend.plotting import plot_confusion_matrix"
   ]
  },
  {
   "cell_type": "code",
   "execution_count": 3,
   "metadata": {
    "executionInfo": {
     "elapsed": 14613,
     "status": "ok",
     "timestamp": 1601998946934,
     "user": {
      "displayName": "Nolì Manzoni",
      "photoUrl": "https://lh3.googleusercontent.com/a-/AOh14GjSV8oLzy8XPBgS7lzEvCYrQsaoPX1_wtBEXr-g2A=s64",
      "userId": "08995673857897094389"
     },
     "user_tz": -120
    },
    "id": "2_rM5QkA5Sdc"
   },
   "outputs": [],
   "source": [
    "random.seed(29)\n",
    "np.random.seed(29)\n",
    "torch.manual_seed(29)\n",
    "torch.cuda.manual_seed_all(29)"
   ]
  },
  {
   "cell_type": "markdown",
   "metadata": {
    "id": "D7wWfXCj5Sdf"
   },
   "source": [
    "# Data Preparation & Cleaning"
   ]
  },
  {
   "cell_type": "markdown",
   "metadata": {
    "id": "XAVL7I-e5Sdf"
   },
   "source": [
    "## DataFrame"
   ]
  },
  {
   "cell_type": "markdown",
   "metadata": {
    "id": "NAz5l05X5Sdg"
   },
   "source": [
    "The title is probably not needed because I will use the content for the classification but maybe in a future implementation it could be used to improve the classification."
   ]
  },
  {
   "cell_type": "code",
   "execution_count": 4,
   "metadata": {
    "executionInfo": {
     "elapsed": 14606,
     "status": "ok",
     "timestamp": 1601998946935,
     "user": {
      "displayName": "Nolì Manzoni",
      "photoUrl": "https://lh3.googleusercontent.com/a-/AOh14GjSV8oLzy8XPBgS7lzEvCYrQsaoPX1_wtBEXr-g2A=s64",
      "userId": "08995673857897094389"
     },
     "user_tz": -120
    },
    "id": "OdHm--fR5Sdg"
   },
   "outputs": [],
   "source": [
    "df = pd.DataFrame(columns=[\"title\", \"content\",\"category\"])"
   ]
  },
  {
   "cell_type": "markdown",
   "metadata": {
    "id": "akA-kbwA5Sdj"
   },
   "source": [
    "## Scrape data\n",
    "This approach is based on :\n",
    "* https://levelup.gitconnected.com/two-simple-ways-to-scrape-text-from-wikipedia-in-python-9ce07426579b\n",
    "* https://www.freecodecamp.org/news/scraping-wikipedia-articles-with-python/\n",
    "\n",
    "Implementation to scrape data from wikipedia page (title and content). The script starts from a given page and it continues recursively to scrape pages that are related to the initial one (links). The script ends when it reaches a given number of pages (e.g. 10)."
   ]
  },
  {
   "cell_type": "markdown",
   "metadata": {
    "id": "A4mAdzcy5Sdj"
   },
   "source": [
    "Get Wikipedia articles given seed URLs (it can work with a single seed or multi seeds). This approach is very simple and can be extended with more inspections to the links (e.g. no images, no category pages, etc.). I did not use a specific library because for this task I think it is enough to have a simple approach which can do the minimum (I did want to use the time to learn a new library to do this simple scraping) but in a future implementation, it could be good to use https://scrapy.org/ an open-source and collaborative framework for extracting the data you need from websites. \n",
    "\n",
    "At the moment this scraping is quite slow but the speed is something that can be solved in a second step e.g. with multithreading or using the Wikipedia API (https://pypi.org/project/wikipedia/).\n",
    "\n",
    "Moreover, this implementation has many overhead e.g. an article could be processed multiple times. To improve this a big list should be created and each page should be confronted with every category."
   ]
  },
  {
   "cell_type": "markdown",
   "metadata": {
    "id": "nCVX2wGC5Sdk"
   },
   "source": [
    "### Single threading scraping"
   ]
  },
  {
   "cell_type": "code",
   "execution_count": 5,
   "metadata": {
    "executionInfo": {
     "elapsed": 14599,
     "status": "ok",
     "timestamp": 1601998946936,
     "user": {
      "displayName": "Nolì Manzoni",
      "photoUrl": "https://lh3.googleusercontent.com/a-/AOh14GjSV8oLzy8XPBgS7lzEvCYrQsaoPX1_wtBEXr-g2A=s64",
      "userId": "08995673857897094389"
     },
     "user_tz": -120
    },
    "id": "rEI64t335Sdk"
   },
   "outputs": [],
   "source": [
    "def get_links(urls,category,num,max_num):\n",
    "    # use global dataframe\n",
    "    global df\n",
    "    \n",
    "    while len(urls)>0 and num <= max_num:\n",
    "    \n",
    "        # get random link from urls (in this way we are not going deeper and deeper but randomly)\n",
    "        url = random.choice(urls)\n",
    "        \n",
    "        response = requests.get(url=url)\n",
    "        soup = BeautifulSoup(response.content, 'html.parser')\n",
    "        regex = re.compile(r'/wiki/.+')\n",
    "\n",
    "        # Get article categories\n",
    "        categories = soup.find(id=\"mw-normal-catlinks\")\n",
    "\n",
    "        # Check if page contains categories (e.g. an image page does not have this information)\n",
    "        if categories is None:\n",
    "            continue\n",
    "        \n",
    "        categories = categories.select('li a')\n",
    "        # Continue only if articles contains the given category\n",
    "        if any(category in cat.text.lower() for cat in categories):\n",
    "            \n",
    "            # Get article title\n",
    "            title = soup.find(id=\"firstHeading\").text\n",
    "\n",
    "            # Get article content\n",
    "            text = ''\n",
    "            for paragraph in soup.find_all('p'):\n",
    "                text += paragraph.text\n",
    "                \n",
    "            # Drop footnote superscripts in brackets and Replace ‘\\n’ (a new line) with ‘’ (an empty string) \n",
    "            text = re.sub(r'\\[.*?\\]+', '', text)\n",
    "            text = text.replace('\\n', '')\n",
    "\n",
    "            # Add article to dataframe\n",
    "            df = df.append({\n",
    "                \"title\": title,\n",
    "                \"content\": text,\n",
    "                \"category\": category\n",
    "            },ignore_index=True)\n",
    "            \n",
    "            num += 1\n",
    "            # print(category+\" \"+title)\n",
    "\n",
    "            # Scrape other pages from links\n",
    "            # Get all the links\n",
    "            links = soup.find(id=\"bodyContent\").find_all(\"a\",{'href': True})\n",
    "            \n",
    "            \n",
    "            for link in links:\n",
    "                # Only interested in other wiki articles (remove external links and images)\n",
    "                if re.match(regex,link.get('href')): \n",
    "                    urls.append(\"https://en.wikipedia.org\" + link.get('href'))\n",
    "                    \n",
    "        "
   ]
  },
  {
   "cell_type": "code",
   "execution_count": 6,
   "metadata": {
    "executionInfo": {
     "elapsed": 14590,
     "status": "ok",
     "timestamp": 1601998946936,
     "user": {
      "displayName": "Nolì Manzoni",
      "photoUrl": "https://lh3.googleusercontent.com/a-/AOh14GjSV8oLzy8XPBgS7lzEvCYrQsaoPX1_wtBEXr-g2A=s64",
      "userId": "08995673857897094389"
     },
     "user_tz": -120
    },
    "id": "28V04hZw5Sdm"
   },
   "outputs": [],
   "source": [
    "# t0 = time.time()\n",
    "# get_links([\"https://en.wikipedia.org/wiki/Sport\"],\"sport\",0,10) \n",
    "# print(time.time()-t0)"
   ]
  },
  {
   "cell_type": "code",
   "execution_count": 7,
   "metadata": {
    "executionInfo": {
     "elapsed": 14584,
     "status": "ok",
     "timestamp": 1601998946937,
     "user": {
      "displayName": "Nolì Manzoni",
      "photoUrl": "https://lh3.googleusercontent.com/a-/AOh14GjSV8oLzy8XPBgS7lzEvCYrQsaoPX1_wtBEXr-g2A=s64",
      "userId": "08995673857897094389"
     },
     "user_tz": -120
    },
    "id": "3RREldK55Sdp"
   },
   "outputs": [],
   "source": [
    "#get_links([\"https://en.wikipedia.org/wiki/Economy\"],\"economy\",0,10)\n",
    "#get_links([\"https://en.wikipedia.org/wiki/Engineering\"],\"engineering\",0,10)\n",
    "#get_links([\"https://en.wikipedia.org/wiki/History\"],\"history\",0,10)\n",
    "#get_links([\"https://en.wikipedia.org/wiki/Philosophy\"],\"philosophy\",0,10)\n",
    "#get_links([\"https://en.wikipedia.org/wiki/Politics\"],\"politics\",0,10)\n",
    "#get_links([\"https://en.wikipedia.org/wiki/Religion\"],\"religion\",0,10)\n",
    "#get_links([\"https://en.wikipedia.org/wiki/Universe\"],\"universe\",0,10)\n",
    "#get_links([\"https://en.wikipedia.org/wiki/Law\"],\"law\",0,10)\n",
    "#get_links([\"https://en.wikipedia.org/wiki/Culture\"],\"culture\",0,10)"
   ]
  },
  {
   "cell_type": "markdown",
   "metadata": {
    "id": "Sh4dofJu5Sdt"
   },
   "source": [
    "### Multithreading version scraping"
   ]
  },
  {
   "cell_type": "markdown",
   "metadata": {
    "id": "GLqraNAd5Sdu"
   },
   "source": [
    "MultiThread version (is not my best piece of code but it works and it is much faster. The threadpoolexecutor shotdown and the counting mechanism should be improved). \n",
    "\n",
    "Single thread for 10 articles: 11.07 secs\n",
    "Multi threads for 10 articles: 2.80 secs\n",
    "\n",
    "Based on https://edmundmartin.com/multi-threaded-crawler-in-python/"
   ]
  },
  {
   "cell_type": "code",
   "execution_count": 8,
   "metadata": {
    "executionInfo": {
     "elapsed": 14576,
     "status": "ok",
     "timestamp": 1601998946937,
     "user": {
      "displayName": "Nolì Manzoni",
      "photoUrl": "https://lh3.googleusercontent.com/a-/AOh14GjSV8oLzy8XPBgS7lzEvCYrQsaoPX1_wtBEXr-g2A=s64",
      "userId": "08995673857897094389"
     },
     "user_tz": -120
    },
    "id": "i2aKusNf5Sdu"
   },
   "outputs": [],
   "source": [
    "class MultiThreadScraper:\n",
    "    \n",
    "    def __init__(self,base_urls,category,max_num):\n",
    "        self.category = category\n",
    "        self.max_num = max_num\n",
    "        self.pool = ThreadPoolExecutor(max_workers=6)\n",
    "        self.scraped_pages = set([])\n",
    "        self.to_crawl = Queue()\n",
    "        # add base urls\n",
    "        for url in base_urls:\n",
    "            self.to_crawl.put(url)\n",
    "        self.num = 0\n",
    "        \n",
    "    def parse_links(self,html):\n",
    "        global df\n",
    "        soup = BeautifulSoup(html, 'html.parser')\n",
    "        regex = re.compile(r'/wiki/.+')\n",
    "\n",
    "        # Get article categories\n",
    "        categories = soup.find(id=\"mw-normal-catlinks\")\n",
    "\n",
    "        # Check if page contains categories (e.g. an image page does not have this information)\n",
    "        if categories is None:\n",
    "            return\n",
    "        \n",
    "        categories = categories.select('li a')\n",
    "        # Continue only if articles contains the given category\n",
    "        if any(self.category in cat.text.lower() for cat in categories):\n",
    "            \n",
    "            # Get article title\n",
    "            title = soup.find(id=\"firstHeading\").text\n",
    "\n",
    "            # Get article content\n",
    "            text = ''\n",
    "            for paragraph in soup.find_all('p'):\n",
    "                text += paragraph.text\n",
    "                \n",
    "            # Drop footnote superscripts in brackets and Replace ‘\\n’ (a new line) with ‘’ (an empty string) \n",
    "            text = re.sub(r'\\[.*?\\]+', '', text)\n",
    "            text = text.replace('\\n', '')\n",
    "            \n",
    "            self.num += 1\n",
    "            \n",
    "            # Add article to dataframe\n",
    "            df = df.append({\n",
    "                \"title\": title,\n",
    "                \"content\": text,\n",
    "                \"category\": self.category\n",
    "            },ignore_index=True)\n",
    "            \n",
    "            \n",
    "            #print(self.category+\" \"+title)\n",
    "\n",
    "            # Scrape other pages from links\n",
    "            # Get all the links\n",
    "            links = soup.find(id=\"bodyContent\").find_all(\"a\",{'href': True})\n",
    "            \n",
    "            \n",
    "            for link in links:\n",
    "                # Only interested in other wiki articles (remove external links and images)\n",
    "                if re.match(regex,link.get('href')): \n",
    "                    self.to_crawl.put(\"https://en.wikipedia.org\" + link.get('href'))\n",
    "                    \n",
    "    def post_scrape_callback(self,res):\n",
    "        result = res.result()\n",
    "        if result and result.status_code == 200 and self.num<self.max_num:\n",
    "            self.parse_links(result.text)\n",
    "            \n",
    "    def scrape_page(self,url):\n",
    "        try:\n",
    "            res = requests.get(url, timeout=(3, 30))\n",
    "            return res\n",
    "        except requests.RequestException:\n",
    "            return\n",
    "        \n",
    "    def run_scraper(self):\n",
    "        while True:\n",
    "            try:\n",
    "                target_url = self.to_crawl.get(timeout=60)\n",
    "                # return if reached target number of articles\n",
    "                if self.num>self.max_num:\n",
    "                    self.pool.shutdown(wait=False)\n",
    "                    return\n",
    "                if target_url not in self.scraped_pages:\n",
    "                    # print(\"Scraping URL: {}\".format(target_url))\n",
    "                    self.scraped_pages.add(target_url)\n",
    "                    job = self.pool.submit(self.scrape_page, target_url)\n",
    "                    job.add_done_callback(self.post_scrape_callback)\n",
    "            except Empty:\n",
    "                return\n",
    "            except Exception as e:\n",
    "                print(e)\n",
    "                continue"
   ]
  },
  {
   "cell_type": "code",
   "execution_count": 9,
   "metadata": {
    "colab": {
     "base_uri": "https://localhost:8080/",
     "height": 34
    },
    "executionInfo": {
     "elapsed": 44023,
     "status": "ok",
     "timestamp": 1601998976392,
     "user": {
      "displayName": "Nolì Manzoni",
      "photoUrl": "https://lh3.googleusercontent.com/a-/AOh14GjSV8oLzy8XPBgS7lzEvCYrQsaoPX1_wtBEXr-g2A=s64",
      "userId": "08995673857897094389"
     },
     "user_tz": -120
    },
    "id": "H7FB21bU5Sd3",
    "outputId": "58a64498-e28d-440c-fad1-c6702d92481b"
   },
   "outputs": [
    {
     "name": "stdout",
     "output_type": "stream",
     "text": [
      "29.4187593460083\n"
     ]
    }
   ],
   "source": [
    "t0 = time.time()\n",
    "s = MultiThreadScraper([\"https://en.wikipedia.org/wiki/History\"],\"history\",50)\n",
    "s.run_scraper()\n",
    "print(time.time()-t0)"
   ]
  },
  {
   "cell_type": "code",
   "execution_count": 10,
   "metadata": {
    "colab": {
     "base_uri": "https://localhost:8080/",
     "height": 34
    },
    "executionInfo": {
     "elapsed": 122560,
     "status": "ok",
     "timestamp": 1601999054940,
     "user": {
      "displayName": "Nolì Manzoni",
      "photoUrl": "https://lh3.googleusercontent.com/a-/AOh14GjSV8oLzy8XPBgS7lzEvCYrQsaoPX1_wtBEXr-g2A=s64",
      "userId": "08995673857897094389"
     },
     "user_tz": -120
    },
    "id": "_gDmkeVR5Sdw",
    "outputId": "0cb83873-8438-47a8-be06-a319cb5e1750"
   },
   "outputs": [
    {
     "name": "stdout",
     "output_type": "stream",
     "text": [
      "78.31261277198792\n"
     ]
    }
   ],
   "source": [
    "t0 = time.time()\n",
    "s = MultiThreadScraper([\"https://en.wikipedia.org/wiki/Sport\"],\"sport\",50)\n",
    "s.run_scraper()\n",
    "print(time.time()-t0)"
   ]
  },
  {
   "cell_type": "code",
   "execution_count": 11,
   "metadata": {
    "colab": {
     "base_uri": "https://localhost:8080/",
     "height": 34
    },
    "executionInfo": {
     "elapsed": 472045,
     "status": "ok",
     "timestamp": 1601999404436,
     "user": {
      "displayName": "Nolì Manzoni",
      "photoUrl": "https://lh3.googleusercontent.com/a-/AOh14GjSV8oLzy8XPBgS7lzEvCYrQsaoPX1_wtBEXr-g2A=s64",
      "userId": "08995673857897094389"
     },
     "user_tz": -120
    },
    "id": "2TxJaADi5Sdy",
    "outputId": "b29fe859-4d9f-433a-8c8f-34ef5ff42dc2"
   },
   "outputs": [
    {
     "name": "stdout",
     "output_type": "stream",
     "text": [
      "349.84067487716675\n"
     ]
    }
   ],
   "source": [
    "t0 = time.time()\n",
    "s = MultiThreadScraper([\"https://en.wikipedia.org/wiki/Economy\"],\"economy\",50)\n",
    "s.run_scraper()\n",
    "print(time.time()-t0)"
   ]
  },
  {
   "cell_type": "code",
   "execution_count": 12,
   "metadata": {
    "colab": {
     "base_uri": "https://localhost:8080/",
     "height": 34
    },
    "executionInfo": {
     "elapsed": 533908,
     "status": "ok",
     "timestamp": 1601999466310,
     "user": {
      "displayName": "Nolì Manzoni",
      "photoUrl": "https://lh3.googleusercontent.com/a-/AOh14GjSV8oLzy8XPBgS7lzEvCYrQsaoPX1_wtBEXr-g2A=s64",
      "userId": "08995673857897094389"
     },
     "user_tz": -120
    },
    "id": "svUPviFiBi09",
    "outputId": "3f7553b0-62f2-47ad-d5aa-77bcfd4a6b7c"
   },
   "outputs": [
    {
     "name": "stdout",
     "output_type": "stream",
     "text": [
      "61.799601554870605\n"
     ]
    }
   ],
   "source": [
    "t0 = time.time()\n",
    "s = MultiThreadScraper([\"https://en.wikipedia.org/wiki/Engineering\"],\"engineering\",50)\n",
    "s.run_scraper()\n",
    "print(time.time()-t0)"
   ]
  },
  {
   "cell_type": "code",
   "execution_count": 13,
   "metadata": {
    "colab": {
     "base_uri": "https://localhost:8080/",
     "height": 34
    },
    "executionInfo": {
     "elapsed": 569654,
     "status": "ok",
     "timestamp": 1601999502067,
     "user": {
      "displayName": "Nolì Manzoni",
      "photoUrl": "https://lh3.googleusercontent.com/a-/AOh14GjSV8oLzy8XPBgS7lzEvCYrQsaoPX1_wtBEXr-g2A=s64",
      "userId": "08995673857897094389"
     },
     "user_tz": -120
    },
    "id": "sAnoJoYF5Sd6",
    "outputId": "d8c28dcc-a78b-4139-d64b-a8e8b94ca12b"
   },
   "outputs": [
    {
     "name": "stdout",
     "output_type": "stream",
     "text": [
      "35.488691329956055\n"
     ]
    }
   ],
   "source": [
    "t0 = time.time()\n",
    "s = MultiThreadScraper([\"https://en.wikipedia.org/wiki/Philosophy\"],\"philosophy\",50)\n",
    "s.run_scraper()\n",
    "print(time.time()-t0)"
   ]
  },
  {
   "cell_type": "code",
   "execution_count": 14,
   "metadata": {
    "colab": {
     "base_uri": "https://localhost:8080/",
     "height": 34
    },
    "executionInfo": {
     "elapsed": 734444,
     "status": "ok",
     "timestamp": 1601999666868,
     "user": {
      "displayName": "Nolì Manzoni",
      "photoUrl": "https://lh3.googleusercontent.com/a-/AOh14GjSV8oLzy8XPBgS7lzEvCYrQsaoPX1_wtBEXr-g2A=s64",
      "userId": "08995673857897094389"
     },
     "user_tz": -120
    },
    "id": "Y-iSP87b5Sd8",
    "outputId": "d448385a-c393-4dbc-8363-511f335fed95"
   },
   "outputs": [
    {
     "name": "stdout",
     "output_type": "stream",
     "text": [
      "164.418842792511\n"
     ]
    }
   ],
   "source": [
    "t0 = time.time()\n",
    "s = MultiThreadScraper([\"https://en.wikipedia.org/wiki/Politics\"],\"politics\",50)\n",
    "s.run_scraper()\n",
    "print(time.time()-t0)"
   ]
  },
  {
   "cell_type": "code",
   "execution_count": 15,
   "metadata": {
    "colab": {
     "base_uri": "https://localhost:8080/",
     "height": 34
    },
    "executionInfo": {
     "elapsed": 850552,
     "status": "ok",
     "timestamp": 1601999782988,
     "user": {
      "displayName": "Nolì Manzoni",
      "photoUrl": "https://lh3.googleusercontent.com/a-/AOh14GjSV8oLzy8XPBgS7lzEvCYrQsaoPX1_wtBEXr-g2A=s64",
      "userId": "08995673857897094389"
     },
     "user_tz": -120
    },
    "id": "xPN27wWB5Sd-",
    "outputId": "e48f2e8a-ec2e-4c8c-9e9b-57a1a147355d"
   },
   "outputs": [
    {
     "name": "stdout",
     "output_type": "stream",
     "text": [
      "115.60599422454834\n"
     ]
    }
   ],
   "source": [
    "t0 = time.time()\n",
    "s = MultiThreadScraper([\"https://en.wikipedia.org/wiki/Religion\"],\"religion\",50)\n",
    "s.run_scraper()\n",
    "print(time.time()-t0)"
   ]
  },
  {
   "cell_type": "code",
   "execution_count": 16,
   "metadata": {
    "colab": {
     "base_uri": "https://localhost:8080/",
     "height": 34
    },
    "executionInfo": {
     "elapsed": 989651,
     "status": "ok",
     "timestamp": 1601999922098,
     "user": {
      "displayName": "Nolì Manzoni",
      "photoUrl": "https://lh3.googleusercontent.com/a-/AOh14GjSV8oLzy8XPBgS7lzEvCYrQsaoPX1_wtBEXr-g2A=s64",
      "userId": "08995673857897094389"
     },
     "user_tz": -120
    },
    "id": "OXqephPd5SeA",
    "outputId": "75100c1a-1c20-413d-b085-2c9fe57ffd0f"
   },
   "outputs": [
    {
     "name": "stdout",
     "output_type": "stream",
     "text": [
      "138.70524668693542\n"
     ]
    }
   ],
   "source": [
    "t0 = time.time()\n",
    "s = MultiThreadScraper([\"https://en.wikipedia.org/wiki/Food\"],\"food\",50)\n",
    "s.run_scraper()\n",
    "print(time.time()-t0)"
   ]
  },
  {
   "cell_type": "code",
   "execution_count": 17,
   "metadata": {
    "colab": {
     "base_uri": "https://localhost:8080/",
     "height": 34
    },
    "executionInfo": {
     "elapsed": 1054418,
     "status": "ok",
     "timestamp": 1601999986877,
     "user": {
      "displayName": "Nolì Manzoni",
      "photoUrl": "https://lh3.googleusercontent.com/a-/AOh14GjSV8oLzy8XPBgS7lzEvCYrQsaoPX1_wtBEXr-g2A=s64",
      "userId": "08995673857897094389"
     },
     "user_tz": -120
    },
    "id": "PtZmlgkq5SeC",
    "outputId": "441144e7-884d-4cf5-e522-1e0e57dadd53"
   },
   "outputs": [
    {
     "name": "stdout",
     "output_type": "stream",
     "text": [
      "63.850114822387695\n"
     ]
    }
   ],
   "source": [
    "t0 = time.time()\n",
    "s = MultiThreadScraper([\"https://en.wikipedia.org/wiki/Law\"],\"law\",50)\n",
    "s.run_scraper()\n",
    "print(time.time()-t0)"
   ]
  },
  {
   "cell_type": "code",
   "execution_count": 18,
   "metadata": {
    "colab": {
     "base_uri": "https://localhost:8080/",
     "height": 34
    },
    "executionInfo": {
     "elapsed": 1189777,
     "status": "ok",
     "timestamp": 1602000122247,
     "user": {
      "displayName": "Nolì Manzoni",
      "photoUrl": "https://lh3.googleusercontent.com/a-/AOh14GjSV8oLzy8XPBgS7lzEvCYrQsaoPX1_wtBEXr-g2A=s64",
      "userId": "08995673857897094389"
     },
     "user_tz": -120
    },
    "id": "e7rfmFKK5SeE",
    "outputId": "1e36bd52-ecf4-43db-9ac0-228b05814d15"
   },
   "outputs": [
    {
     "name": "stdout",
     "output_type": "stream",
     "text": [
      "134.94718074798584\n"
     ]
    }
   ],
   "source": [
    "t0 = time.time()\n",
    "s = MultiThreadScraper([\"https://en.wikipedia.org/wiki/Culture\"],\"culture\",50)\n",
    "s.run_scraper()\n",
    "print(time.time()-t0)"
   ]
  },
  {
   "cell_type": "markdown",
   "metadata": {
    "id": "e-8eUXEZ5SeG"
   },
   "source": [
    "!!!!!! It still take quite a long time to complete the scraping... on Google Colab it takes around 20 minutes."
   ]
  },
  {
   "cell_type": "code",
   "execution_count": 19,
   "metadata": {
    "colab": {
     "base_uri": "https://localhost:8080/",
     "height": 173
    },
    "executionInfo": {
     "elapsed": 1192932,
     "status": "ok",
     "timestamp": 1602000125415,
     "user": {
      "displayName": "Nolì Manzoni",
      "photoUrl": "https://lh3.googleusercontent.com/a-/AOh14GjSV8oLzy8XPBgS7lzEvCYrQsaoPX1_wtBEXr-g2A=s64",
      "userId": "08995673857897094389"
     },
     "user_tz": -120
    },
    "id": "ebbvtfK_Kufz",
    "outputId": "e08856d6-9396-40db-85c8-e0b55c68d8c4"
   },
   "outputs": [
    {
     "data": {
      "text/html": [
       "<div>\n",
       "<style scoped>\n",
       "    .dataframe tbody tr th:only-of-type {\n",
       "        vertical-align: middle;\n",
       "    }\n",
       "\n",
       "    .dataframe tbody tr th {\n",
       "        vertical-align: top;\n",
       "    }\n",
       "\n",
       "    .dataframe thead th {\n",
       "        text-align: right;\n",
       "    }\n",
       "</style>\n",
       "<table border=\"1\" class=\"dataframe\">\n",
       "  <thead>\n",
       "    <tr style=\"text-align: right;\">\n",
       "      <th></th>\n",
       "      <th>title</th>\n",
       "      <th>content</th>\n",
       "      <th>category</th>\n",
       "    </tr>\n",
       "  </thead>\n",
       "  <tbody>\n",
       "    <tr>\n",
       "      <th>count</th>\n",
       "      <td>467</td>\n",
       "      <td>467</td>\n",
       "      <td>467</td>\n",
       "    </tr>\n",
       "    <tr>\n",
       "      <th>unique</th>\n",
       "      <td>445</td>\n",
       "      <td>445</td>\n",
       "      <td>10</td>\n",
       "    </tr>\n",
       "    <tr>\n",
       "      <th>top</th>\n",
       "      <td>Contract</td>\n",
       "      <td>Traditions by regionTraditions by schoolTradit...</td>\n",
       "      <td>philosophy</td>\n",
       "    </tr>\n",
       "    <tr>\n",
       "      <th>freq</th>\n",
       "      <td>3</td>\n",
       "      <td>3</td>\n",
       "      <td>49</td>\n",
       "    </tr>\n",
       "  </tbody>\n",
       "</table>\n",
       "</div>"
      ],
      "text/plain": [
       "           title                                            content    category\n",
       "count        467                                                467         467\n",
       "unique       445                                                445          10\n",
       "top     Contract  Traditions by regionTraditions by schoolTradit...  philosophy\n",
       "freq           3                                                  3          49"
      ]
     },
     "execution_count": 19,
     "metadata": {
      "tags": []
     },
     "output_type": "execute_result"
    }
   ],
   "source": [
    "df.describe()"
   ]
  },
  {
   "cell_type": "markdown",
   "metadata": {
    "id": "j7TTD41i5SeG"
   },
   "source": [
    "Save dataframe (for later use if needed)"
   ]
  },
  {
   "cell_type": "code",
   "execution_count": 20,
   "metadata": {
    "executionInfo": {
     "elapsed": 1193226,
     "status": "ok",
     "timestamp": 1602000125721,
     "user": {
      "displayName": "Nolì Manzoni",
      "photoUrl": "https://lh3.googleusercontent.com/a-/AOh14GjSV8oLzy8XPBgS7lzEvCYrQsaoPX1_wtBEXr-g2A=s64",
      "userId": "08995673857897094389"
     },
     "user_tz": -120
    },
    "id": "j8_wdRVT5SeG"
   },
   "outputs": [],
   "source": [
    "df.to_pickle(\"./dataframe.pkl\")"
   ]
  },
  {
   "cell_type": "code",
   "execution_count": 21,
   "metadata": {
    "executionInfo": {
     "elapsed": 1194857,
     "status": "ok",
     "timestamp": 1602000127359,
     "user": {
      "displayName": "Nolì Manzoni",
      "photoUrl": "https://lh3.googleusercontent.com/a-/AOh14GjSV8oLzy8XPBgS7lzEvCYrQsaoPX1_wtBEXr-g2A=s64",
      "userId": "08995673857897094389"
     },
     "user_tz": -120
    },
    "id": "26O0nKBj5SeI"
   },
   "outputs": [],
   "source": [
    "#df = pd.read_pickle(\"./dataframe.pkl\")"
   ]
  },
  {
   "cell_type": "markdown",
   "metadata": {
    "id": "l8M8MbWt5SeK"
   },
   "source": [
    "## Preprocessing data"
   ]
  },
  {
   "cell_type": "markdown",
   "metadata": {
    "id": "H7I8_tHE5SeK"
   },
   "source": [
    "This approach is based on :\n",
    "* https://github.com/ArmandDS/bert_for_long_text/blob/master/final_bert_long_docs.ipynb\n",
    "\n",
    "Clean and analyse data before training the choosen model for text classification."
   ]
  },
  {
   "cell_type": "markdown",
   "metadata": {
    "id": "bKS2B1RU5SeL"
   },
   "source": [
    "### All articles"
   ]
  },
  {
   "cell_type": "code",
   "execution_count": 22,
   "metadata": {
    "colab": {
     "base_uri": "https://localhost:8080/",
     "height": 282
    },
    "executionInfo": {
     "elapsed": 1228744,
     "status": "ok",
     "timestamp": 1602000161254,
     "user": {
      "displayName": "Nolì Manzoni",
      "photoUrl": "https://lh3.googleusercontent.com/a-/AOh14GjSV8oLzy8XPBgS7lzEvCYrQsaoPX1_wtBEXr-g2A=s64",
      "userId": "08995673857897094389"
     },
     "user_tz": -120
    },
    "id": "savEuoug5SeL",
    "outputId": "0f7aae69-40ea-4d53-9137-c8b16882704e",
    "scrolled": true
   },
   "outputs": [
    {
     "data": {
      "text/plain": [
       "<matplotlib.axes._subplots.AxesSubplot at 0x7f1547114470>"
      ]
     },
     "execution_count": 22,
     "metadata": {
      "tags": []
     },
     "output_type": "execute_result"
    },
    {
     "data": {
      "image/png": "[encoded data removed]",
      "text/plain": [
       "<Figure size 432x288 with 1 Axes>"
      ]
     },
     "metadata": {
      "needs_background": "light",
      "tags": []
     },
     "output_type": "display_data"
    }
   ],
   "source": [
    "df.content.apply(lambda x:len(x.split())).plot(kind='hist',bins=50)"
   ]
  },
  {
   "cell_type": "markdown",
   "metadata": {
    "id": "dePtAUtt5SeN"
   },
   "source": [
    "### Articles with more than 2000 words"
   ]
  },
  {
   "cell_type": "code",
   "execution_count": 23,
   "metadata": {
    "colab": {
     "base_uri": "https://localhost:8080/",
     "height": 283
    },
    "executionInfo": {
     "elapsed": 1263170,
     "status": "ok",
     "timestamp": 1602000195692,
     "user": {
      "displayName": "Nolì Manzoni",
      "photoUrl": "https://lh3.googleusercontent.com/a-/AOh14GjSV8oLzy8XPBgS7lzEvCYrQsaoPX1_wtBEXr-g2A=s64",
      "userId": "08995673857897094389"
     },
     "user_tz": -120
    },
    "id": "f01fMq7d5SeN",
    "outputId": "3d1cfe2c-cde9-4306-d647-582233cb7179"
   },
   "outputs": [
    {
     "data": {
      "text/plain": [
       "<matplotlib.axes._subplots.AxesSubplot at 0x7f154f10c048>"
      ]
     },
     "execution_count": 23,
     "metadata": {
      "tags": []
     },
     "output_type": "execute_result"
    },
    {
     "data": {
      "image/png": "[encoded data removed]",
      "text/plain": [
       "<Figure size 432x288 with 1 Axes>"
      ]
     },
     "metadata": {
      "needs_background": "light",
      "tags": []
     },
     "output_type": "display_data"
    }
   ],
   "source": [
    "df.content[df.content.apply(lambda x:len(x.split()) > 2000)].apply(lambda x:len(x.split())).plot(kind='hist',bins=50)"
   ]
  },
  {
   "cell_type": "markdown",
   "metadata": {
    "id": "PupT6l4D5SeQ"
   },
   "source": [
    "### Articles with less than 2000 words"
   ]
  },
  {
   "cell_type": "code",
   "execution_count": 24,
   "metadata": {
    "colab": {
     "base_uri": "https://localhost:8080/",
     "height": 282
    },
    "executionInfo": {
     "elapsed": 1292729,
     "status": "ok",
     "timestamp": 1602000225262,
     "user": {
      "displayName": "Nolì Manzoni",
      "photoUrl": "https://lh3.googleusercontent.com/a-/AOh14GjSV8oLzy8XPBgS7lzEvCYrQsaoPX1_wtBEXr-g2A=s64",
      "userId": "08995673857897094389"
     },
     "user_tz": -120
    },
    "id": "6JtfaHPW5SeQ",
    "outputId": "df9fc174-f9ae-4e6d-859e-dbb928393dd9"
   },
   "outputs": [
    {
     "data": {
      "text/plain": [
       "<matplotlib.axes._subplots.AxesSubplot at 0x7f156ba435f8>"
      ]
     },
     "execution_count": 24,
     "metadata": {
      "tags": []
     },
     "output_type": "execute_result"
    },
    {
     "data": {
      "image/png": "[encoded data removed]",
      "text/plain": [
       "<Figure size 432x288 with 1 Axes>"
      ]
     },
     "metadata": {
      "needs_background": "light",
      "tags": []
     },
     "output_type": "display_data"
    }
   ],
   "source": [
    "df.content[df.content.apply(lambda x:len(x.split()) < 2000)].apply(lambda x:len(x.split())).plot(kind='hist',bins=50)"
   ]
  },
  {
   "cell_type": "markdown",
   "metadata": {
    "id": "Pw9VXrv95SeS"
   },
   "source": [
    "Number of articles below and above 500 words"
   ]
  },
  {
   "cell_type": "code",
   "execution_count": 25,
   "metadata": {
    "colab": {
     "base_uri": "https://localhost:8080/",
     "height": 34
    },
    "executionInfo": {
     "elapsed": 1295177,
     "status": "ok",
     "timestamp": 1602000227722,
     "user": {
      "displayName": "Nolì Manzoni",
      "photoUrl": "https://lh3.googleusercontent.com/a-/AOh14GjSV8oLzy8XPBgS7lzEvCYrQsaoPX1_wtBEXr-g2A=s64",
      "userId": "08995673857897094389"
     },
     "user_tz": -120
    },
    "id": "_EWwjj865SeS",
    "outputId": "238ee553-c6bb-4d9a-e32d-9814ee404cc3",
    "scrolled": false
   },
   "outputs": [
    {
     "data": {
      "text/plain": [
       "74"
      ]
     },
     "execution_count": 25,
     "metadata": {
      "tags": []
     },
     "output_type": "execute_result"
    }
   ],
   "source": [
    "df.content[df.content.apply(lambda x:len(x.split()) < 500)].count()"
   ]
  },
  {
   "cell_type": "code",
   "execution_count": 26,
   "metadata": {
    "colab": {
     "base_uri": "https://localhost:8080/",
     "height": 34
    },
    "executionInfo": {
     "elapsed": 1296931,
     "status": "ok",
     "timestamp": 1602000229487,
     "user": {
      "displayName": "Nolì Manzoni",
      "photoUrl": "https://lh3.googleusercontent.com/a-/AOh14GjSV8oLzy8XPBgS7lzEvCYrQsaoPX1_wtBEXr-g2A=s64",
      "userId": "08995673857897094389"
     },
     "user_tz": -120
    },
    "id": "RRL8TBaa5SeU",
    "outputId": "57c42a36-6bcb-48c8-d66f-33bd43333015"
   },
   "outputs": [
    {
     "data": {
      "text/plain": [
       "393"
      ]
     },
     "execution_count": 26,
     "metadata": {
      "tags": []
     },
     "output_type": "execute_result"
    }
   ],
   "source": [
    "df.content[df.content.apply(lambda x:len(x.split()) > 500)].count()"
   ]
  },
  {
   "cell_type": "code",
   "execution_count": 27,
   "metadata": {
    "colab": {
     "base_uri": "https://localhost:8080/",
     "height": 34
    },
    "executionInfo": {
     "elapsed": 1297806,
     "status": "ok",
     "timestamp": 1602000230375,
     "user": {
      "displayName": "Nolì Manzoni",
      "photoUrl": "https://lh3.googleusercontent.com/a-/AOh14GjSV8oLzy8XPBgS7lzEvCYrQsaoPX1_wtBEXr-g2A=s64",
      "userId": "08995673857897094389"
     },
     "user_tz": -120
    },
    "id": "JZrO263M5SeV",
    "outputId": "4b580b11-e369-4a69-e63b-1de3d479c50b",
    "scrolled": true
   },
   "outputs": [
    {
     "data": {
      "text/plain": [
       "16.70235546038544"
      ]
     },
     "execution_count": 27,
     "metadata": {
      "tags": []
     },
     "output_type": "execute_result"
    }
   ],
   "source": [
    "(78/df.content.count())*100"
   ]
  },
  {
   "cell_type": "code",
   "execution_count": 28,
   "metadata": {
    "colab": {
     "base_uri": "https://localhost:8080/",
     "height": 34
    },
    "executionInfo": {
     "elapsed": 1298330,
     "status": "ok",
     "timestamp": 1602000230910,
     "user": {
      "displayName": "Nolì Manzoni",
      "photoUrl": "https://lh3.googleusercontent.com/a-/AOh14GjSV8oLzy8XPBgS7lzEvCYrQsaoPX1_wtBEXr-g2A=s64",
      "userId": "08995673857897094389"
     },
     "user_tz": -120
    },
    "id": "-GOFuEFZ5SeX",
    "outputId": "47826bce-2287-48fb-f84d-cb324f5cf366"
   },
   "outputs": [
    {
     "data": {
      "text/plain": [
       "82.65524625267666"
      ]
     },
     "execution_count": 28,
     "metadata": {
      "tags": []
     },
     "output_type": "execute_result"
    }
   ],
   "source": [
    "(386/df.content.count())*100"
   ]
  },
  {
   "cell_type": "markdown",
   "metadata": {
    "id": "KEFQgnyH5SeZ"
   },
   "source": [
    "Info about articles length"
   ]
  },
  {
   "cell_type": "code",
   "execution_count": 29,
   "metadata": {
    "colab": {
     "base_uri": "https://localhost:8080/",
     "height": 297
    },
    "executionInfo": {
     "elapsed": 1300702,
     "status": "ok",
     "timestamp": 1602000233293,
     "user": {
      "displayName": "Nolì Manzoni",
      "photoUrl": "https://lh3.googleusercontent.com/a-/AOh14GjSV8oLzy8XPBgS7lzEvCYrQsaoPX1_wtBEXr-g2A=s64",
      "userId": "08995673857897094389"
     },
     "user_tz": -120
    },
    "id": "x1g7RsgR5SeZ",
    "outputId": "8ee33576-b1b3-48e3-b48b-67ca5ea7c096",
    "scrolled": true
   },
   "outputs": [
    {
     "data": {
      "text/html": [
       "<div>\n",
       "<style scoped>\n",
       "    .dataframe tbody tr th:only-of-type {\n",
       "        vertical-align: middle;\n",
       "    }\n",
       "\n",
       "    .dataframe tbody tr th {\n",
       "        vertical-align: top;\n",
       "    }\n",
       "\n",
       "    .dataframe thead th {\n",
       "        text-align: right;\n",
       "    }\n",
       "</style>\n",
       "<table border=\"1\" class=\"dataframe\">\n",
       "  <thead>\n",
       "    <tr style=\"text-align: right;\">\n",
       "      <th></th>\n",
       "      <th>len</th>\n",
       "    </tr>\n",
       "  </thead>\n",
       "  <tbody>\n",
       "    <tr>\n",
       "      <th>count</th>\n",
       "      <td>467.00000</td>\n",
       "    </tr>\n",
       "    <tr>\n",
       "      <th>mean</th>\n",
       "      <td>3420.61242</td>\n",
       "    </tr>\n",
       "    <tr>\n",
       "      <th>std</th>\n",
       "      <td>3299.73118</td>\n",
       "    </tr>\n",
       "    <tr>\n",
       "      <th>min</th>\n",
       "      <td>6.00000</td>\n",
       "    </tr>\n",
       "    <tr>\n",
       "      <th>25%</th>\n",
       "      <td>883.50000</td>\n",
       "    </tr>\n",
       "    <tr>\n",
       "      <th>50%</th>\n",
       "      <td>2195.00000</td>\n",
       "    </tr>\n",
       "    <tr>\n",
       "      <th>75%</th>\n",
       "      <td>5099.50000</td>\n",
       "    </tr>\n",
       "    <tr>\n",
       "      <th>max</th>\n",
       "      <td>15209.00000</td>\n",
       "    </tr>\n",
       "  </tbody>\n",
       "</table>\n",
       "</div>"
      ],
      "text/plain": [
       "               len\n",
       "count    467.00000\n",
       "mean    3420.61242\n",
       "std     3299.73118\n",
       "min        6.00000\n",
       "25%      883.50000\n",
       "50%     2195.00000\n",
       "75%     5099.50000\n",
       "max    15209.00000"
      ]
     },
     "execution_count": 29,
     "metadata": {
      "tags": []
     },
     "output_type": "execute_result"
    }
   ],
   "source": [
    "df['len'] = df.content.apply(lambda x:len(x.split()))\n",
    "df.describe()"
   ]
  },
  {
   "cell_type": "markdown",
   "metadata": {
    "id": "whCcUmbn5Seb"
   },
   "source": [
    "The articles are quite long in general (up to 12000). The mean is 3452 words. The 83% are above 500 words."
   ]
  },
  {
   "cell_type": "markdown",
   "metadata": {
    "id": "enHmhhlN5Seb"
   },
   "source": [
    "### Data cleaning"
   ]
  },
  {
   "cell_type": "markdown",
   "metadata": {
    "id": "5F9HtOUY5Seb"
   },
   "source": [
    "Keep only content and category and rename them to text and label"
   ]
  },
  {
   "cell_type": "code",
   "execution_count": 30,
   "metadata": {
    "executionInfo": {
     "elapsed": 1301560,
     "status": "ok",
     "timestamp": 1602000234162,
     "user": {
      "displayName": "Nolì Manzoni",
      "photoUrl": "https://lh3.googleusercontent.com/a-/AOh14GjSV8oLzy8XPBgS7lzEvCYrQsaoPX1_wtBEXr-g2A=s64",
      "userId": "08995673857897094389"
     },
     "user_tz": -120
    },
    "id": "vH8R6FMs5Sec"
   },
   "outputs": [],
   "source": [
    "df = df[['content','category']].rename(columns = {\"content\":\"text\",\"category\":\"label\"})"
   ]
  },
  {
   "cell_type": "markdown",
   "metadata": {
    "id": "y-u7Zobz5Sed"
   },
   "source": [
    "Analyse size of the different categories"
   ]
  },
  {
   "cell_type": "code",
   "execution_count": 31,
   "metadata": {
    "colab": {
     "base_uri": "https://localhost:8080/",
     "height": 332
    },
    "executionInfo": {
     "elapsed": 1316308,
     "status": "ok",
     "timestamp": 1602000248918,
     "user": {
      "displayName": "Nolì Manzoni",
      "photoUrl": "https://lh3.googleusercontent.com/a-/AOh14GjSV8oLzy8XPBgS7lzEvCYrQsaoPX1_wtBEXr-g2A=s64",
      "userId": "08995673857897094389"
     },
     "user_tz": -120
    },
    "id": "7EQJbv055See",
    "outputId": "4061aded-e8fe-4546-8486-8dea1a83be92",
    "scrolled": true
   },
   "outputs": [
    {
     "data": {
      "text/plain": [
       "<matplotlib.axes._subplots.AxesSubplot at 0x7f1554a7d7b8>"
      ]
     },
     "execution_count": 31,
     "metadata": {
      "tags": []
     },
     "output_type": "execute_result"
    },
    {
     "data": {
      "image/png": "[encoded data removed]",
      "text/plain": [
       "<Figure size 432x288 with 1 Axes>"
      ]
     },
     "metadata": {
      "needs_background": "light",
      "tags": []
     },
     "output_type": "display_data"
    }
   ],
   "source": [
    "df['label'].value_counts().plot(kind='bar')"
   ]
  },
  {
   "cell_type": "markdown",
   "metadata": {
    "id": "JJeXWS7t5Sef"
   },
   "source": [
    "Pretty much all the categories reach the target number of articles (50)"
   ]
  },
  {
   "cell_type": "markdown",
   "metadata": {
    "id": "9sa-tyBZ5Seg"
   },
   "source": [
    "Encode label to integer values"
   ]
  },
  {
   "cell_type": "code",
   "execution_count": 32,
   "metadata": {
    "colab": {
     "base_uri": "https://localhost:8080/",
     "height": 204
    },
    "executionInfo": {
     "elapsed": 1317005,
     "status": "ok",
     "timestamp": 1602000249625,
     "user": {
      "displayName": "Nolì Manzoni",
      "photoUrl": "https://lh3.googleusercontent.com/a-/AOh14GjSV8oLzy8XPBgS7lzEvCYrQsaoPX1_wtBEXr-g2A=s64",
      "userId": "08995673857897094389"
     },
     "user_tz": -120
    },
    "id": "yex50L7-5Seg",
    "outputId": "ea84eb20-badf-4a36-e9ab-63e55ed9a838"
   },
   "outputs": [
    {
     "data": {
      "text/html": [
       "<div>\n",
       "<style scoped>\n",
       "    .dataframe tbody tr th:only-of-type {\n",
       "        vertical-align: middle;\n",
       "    }\n",
       "\n",
       "    .dataframe tbody tr th {\n",
       "        vertical-align: top;\n",
       "    }\n",
       "\n",
       "    .dataframe thead th {\n",
       "        text-align: right;\n",
       "    }\n",
       "</style>\n",
       "<table border=\"1\" class=\"dataframe\">\n",
       "  <thead>\n",
       "    <tr style=\"text-align: right;\">\n",
       "      <th></th>\n",
       "      <th>text</th>\n",
       "      <th>label</th>\n",
       "    </tr>\n",
       "  </thead>\n",
       "  <tbody>\n",
       "    <tr>\n",
       "      <th>0</th>\n",
       "      <td>—George SantayanaHistory (from Greek ἱστορία, ...</td>\n",
       "      <td>4</td>\n",
       "    </tr>\n",
       "    <tr>\n",
       "      <th>1</th>\n",
       "      <td>Jorge Agustín Nicolás Ruiz de Santayana y Borr...</td>\n",
       "      <td>4</td>\n",
       "    </tr>\n",
       "    <tr>\n",
       "      <th>2</th>\n",
       "      <td>Herodotus (/hɪˈrɒdətəs/; Ancient Greek: Ἡρόδοτ...</td>\n",
       "      <td>4</td>\n",
       "    </tr>\n",
       "    <tr>\n",
       "      <th>3</th>\n",
       "      <td>Human history, also known as world history, is...</td>\n",
       "      <td>4</td>\n",
       "    </tr>\n",
       "    <tr>\n",
       "      <th>4</th>\n",
       "      <td>Historical source (also known as historical ma...</td>\n",
       "      <td>4</td>\n",
       "    </tr>\n",
       "  </tbody>\n",
       "</table>\n",
       "</div>"
      ],
      "text/plain": [
       "                                                text  label\n",
       "0  —George SantayanaHistory (from Greek ἱστορία, ...      4\n",
       "1  Jorge Agustín Nicolás Ruiz de Santayana y Borr...      4\n",
       "2  Herodotus (/hɪˈrɒdətəs/; Ancient Greek: Ἡρόδοτ...      4\n",
       "3  Human history, also known as world history, is...      4\n",
       "4  Historical source (also known as historical ma...      4"
      ]
     },
     "execution_count": 32,
     "metadata": {
      "tags": []
     },
     "output_type": "execute_result"
    }
   ],
   "source": [
    "label_encoder = LabelEncoder()\n",
    "df['label'] = label_encoder.fit_transform(df['label'])\n",
    "df.head()"
   ]
  },
  {
   "cell_type": "markdown",
   "metadata": {
    "id": "zNTzyMuB5Sei"
   },
   "source": [
    "Check if there are 10 classes as given in the assignment"
   ]
  },
  {
   "cell_type": "code",
   "execution_count": 33,
   "metadata": {
    "executionInfo": {
     "elapsed": 1317529,
     "status": "ok",
     "timestamp": 1602000250160,
     "user": {
      "displayName": "Nolì Manzoni",
      "photoUrl": "https://lh3.googleusercontent.com/a-/AOh14GjSV8oLzy8XPBgS7lzEvCYrQsaoPX1_wtBEXr-g2A=s64",
      "userId": "08995673857897094389"
     },
     "user_tz": -120
    },
    "id": "GzlBuWws5Sei"
   },
   "outputs": [],
   "source": [
    "assert(len(np.unique(df['label']))==10)"
   ]
  },
  {
   "cell_type": "markdown",
   "metadata": {
    "id": "YVkEcuvV5Sek"
   },
   "source": [
    "Additional cleaning to remove apostrophes and tabs"
   ]
  },
  {
   "cell_type": "code",
   "execution_count": 34,
   "metadata": {
    "executionInfo": {
     "elapsed": 1318137,
     "status": "ok",
     "timestamp": 1602000250779,
     "user": {
      "displayName": "Nolì Manzoni",
      "photoUrl": "https://lh3.googleusercontent.com/a-/AOh14GjSV8oLzy8XPBgS7lzEvCYrQsaoPX1_wtBEXr-g2A=s64",
      "userId": "08995673857897094389"
     },
     "user_tz": -120
    },
    "id": "jmo1VLDx5Sek"
   },
   "outputs": [],
   "source": [
    "def clean_txt(text):\n",
    "  text = re.sub(\"'\", \"\",text)\n",
    "  text=re.sub(\"(\\\\W)+\",\" \",text)    \n",
    "  return text"
   ]
  },
  {
   "cell_type": "code",
   "execution_count": 35,
   "metadata": {
    "colab": {
     "base_uri": "https://localhost:8080/",
     "height": 204
    },
    "executionInfo": {
     "elapsed": 1328478,
     "status": "ok",
     "timestamp": 1602000261128,
     "user": {
      "displayName": "Nolì Manzoni",
      "photoUrl": "https://lh3.googleusercontent.com/a-/AOh14GjSV8oLzy8XPBgS7lzEvCYrQsaoPX1_wtBEXr-g2A=s64",
      "userId": "08995673857897094389"
     },
     "user_tz": -120
    },
    "id": "ofumdfiA5Sem",
    "outputId": "9c38f6be-2a8d-45c1-c5ad-99064e276097"
   },
   "outputs": [
    {
     "data": {
      "text/html": [
       "<div>\n",
       "<style scoped>\n",
       "    .dataframe tbody tr th:only-of-type {\n",
       "        vertical-align: middle;\n",
       "    }\n",
       "\n",
       "    .dataframe tbody tr th {\n",
       "        vertical-align: top;\n",
       "    }\n",
       "\n",
       "    .dataframe thead th {\n",
       "        text-align: right;\n",
       "    }\n",
       "</style>\n",
       "<table border=\"1\" class=\"dataframe\">\n",
       "  <thead>\n",
       "    <tr style=\"text-align: right;\">\n",
       "      <th></th>\n",
       "      <th>text</th>\n",
       "      <th>label</th>\n",
       "    </tr>\n",
       "  </thead>\n",
       "  <tbody>\n",
       "    <tr>\n",
       "      <th>0</th>\n",
       "      <td>George SantayanaHistory from Greek ἱστορία hi...</td>\n",
       "      <td>4</td>\n",
       "    </tr>\n",
       "    <tr>\n",
       "      <th>1</th>\n",
       "      <td>Jorge Agustín Nicolás Ruiz de Santayana y Borr...</td>\n",
       "      <td>4</td>\n",
       "    </tr>\n",
       "    <tr>\n",
       "      <th>2</th>\n",
       "      <td>Herodotus hɪˈrɒdətəs Ancient Greek Ἡρόδοτος Hē...</td>\n",
       "      <td>4</td>\n",
       "    </tr>\n",
       "    <tr>\n",
       "      <th>3</th>\n",
       "      <td>Human history also known as world history is t...</td>\n",
       "      <td>4</td>\n",
       "    </tr>\n",
       "    <tr>\n",
       "      <th>4</th>\n",
       "      <td>Historical source also known as historical mat...</td>\n",
       "      <td>4</td>\n",
       "    </tr>\n",
       "  </tbody>\n",
       "</table>\n",
       "</div>"
      ],
      "text/plain": [
       "                                                text  label\n",
       "0   George SantayanaHistory from Greek ἱστορία hi...      4\n",
       "1  Jorge Agustín Nicolás Ruiz de Santayana y Borr...      4\n",
       "2  Herodotus hɪˈrɒdətəs Ancient Greek Ἡρόδοτος Hē...      4\n",
       "3  Human history also known as world history is t...      4\n",
       "4  Historical source also known as historical mat...      4"
      ]
     },
     "execution_count": 35,
     "metadata": {
      "tags": []
     },
     "output_type": "execute_result"
    }
   ],
   "source": [
    "df['text']  = df.text.apply(clean_txt)\n",
    "df.head()"
   ]
  },
  {
   "cell_type": "markdown",
   "metadata": {
    "id": "87r7_R6k5Sen"
   },
   "source": [
    "Stratified train val test split"
   ]
  },
  {
   "cell_type": "code",
   "execution_count": 36,
   "metadata": {
    "executionInfo": {
     "elapsed": 1328848,
     "status": "ok",
     "timestamp": 1602000261505,
     "user": {
      "displayName": "Nolì Manzoni",
      "photoUrl": "https://lh3.googleusercontent.com/a-/AOh14GjSV8oLzy8XPBgS7lzEvCYrQsaoPX1_wtBEXr-g2A=s64",
      "userId": "08995673857897094389"
     },
     "user_tz": -120
    },
    "id": "maRq2bap5Sen",
    "scrolled": false
   },
   "outputs": [],
   "source": [
    "train, test = train_test_split(df,stratify=df.label, test_size=0.2)\n",
    "train, val = train_test_split(train,stratify=train.label, test_size=0.2)"
   ]
  },
  {
   "cell_type": "markdown",
   "metadata": {
    "id": "0TqthCZX5Sep"
   },
   "source": [
    "Reset indices"
   ]
  },
  {
   "cell_type": "code",
   "execution_count": 37,
   "metadata": {
    "executionInfo": {
     "elapsed": 1329355,
     "status": "ok",
     "timestamp": 1602000262020,
     "user": {
      "displayName": "Nolì Manzoni",
      "photoUrl": "https://lh3.googleusercontent.com/a-/AOh14GjSV8oLzy8XPBgS7lzEvCYrQsaoPX1_wtBEXr-g2A=s64",
      "userId": "08995673857897094389"
     },
     "user_tz": -120
    },
    "id": "0FczOzhh5Seq",
    "scrolled": true
   },
   "outputs": [],
   "source": [
    "train.reset_index(inplace=True)\n",
    "val.reset_index(inplace=True)\n",
    "test.reset_index(inplace=True)"
   ]
  },
  {
   "cell_type": "code",
   "execution_count": 38,
   "metadata": {
    "colab": {
     "base_uri": "https://localhost:8080/",
     "height": 279
    },
    "executionInfo": {
     "elapsed": 1341077,
     "status": "ok",
     "timestamp": 1602000273749,
     "user": {
      "displayName": "Nolì Manzoni",
      "photoUrl": "https://lh3.googleusercontent.com/a-/AOh14GjSV8oLzy8XPBgS7lzEvCYrQsaoPX1_wtBEXr-g2A=s64",
      "userId": "08995673857897094389"
     },
     "user_tz": -120
    },
    "id": "Ru9Pyu8p5Ses",
    "outputId": "27cab364-130c-4176-83a1-c506258cdd5e"
   },
   "outputs": [
    {
     "data": {
      "text/plain": [
       "<matplotlib.axes._subplots.AxesSubplot at 0x7f156b6ff2e8>"
      ]
     },
     "execution_count": 38,
     "metadata": {
      "tags": []
     },
     "output_type": "execute_result"
    },
    {
     "data": {
      "image/png": "[encoded data removed]",
      "text/plain": [
       "<Figure size 432x288 with 1 Axes>"
      ]
     },
     "metadata": {
      "needs_background": "light",
      "tags": []
     },
     "output_type": "display_data"
    }
   ],
   "source": [
    "test['label'].value_counts().plot(kind='bar')"
   ]
  },
  {
   "cell_type": "markdown",
   "metadata": {
    "id": "KW5u2KWo5Set"
   },
   "source": [
    "I am not an expert in NLP and I have little experience with it but as I keep up with research paper I know that BERT (https://arxiv.org/abs/1810.04805) was used a lot in the last years. Moreover, it can \"be fine-tuned with just one additional output layer to create state-of-the-art models for a wide range of tasks\". This is exactly what I need for this task because for sure I will not scrape thousands of pages but only a small dataset.\n",
    "\n",
    "For sure there are other techniques that could perform better but BERT comes with Pytorch transformers which are simple to use and adapt for a specific task."
   ]
  },
  {
   "cell_type": "markdown",
   "metadata": {
    "id": "nPI9AMNF5Seu"
   },
   "source": [
    "## Bert data preparation\n",
    "This approach is based on :\n",
    "* https://www.analyticsvidhya.com/blog/2020/07/transfer-learning-for-nlp-fine-tuning-bert-for-text-classification/#:~:text=%E2%80%9CBERT%20stands%20for%20Bidirectional%20Encoder,both%20left%20and%20right%20context\n",
    "* https://github.com/huggingface/transformers\n",
    "* https://medium.com/huggingface/multi-label-text-classification-using-bert-the-mighty-transformer-69714fa3fb3d"
   ]
  },
  {
   "cell_type": "markdown",
   "metadata": {
    "id": "0U6wu97u5Seu"
   },
   "source": [
    "Problem with BERT is that it can fit only 510 tokens (much less than Wikipedia articles). Sun et al. (https://arxiv.org/abs/1905.05583) looked into this problem (text classification with larger text). There are different possibilities for truncation:\n",
    "* Cut at the beginning and at the end (head+tail)\n",
    "* Cut at the beginning (head only)\n",
    "* Cut at the end (tail only)\n",
    "\n",
    "In their experiments, they proved that the head+tail truncation is the best option. Moreover, they showed that simple techniques (e.g. head only, tail only) outperform smarter methods like hierarchy mean and max (classification of different chunks and then an aggregation with max or mean pooling). \n",
    "\n",
    "As in this assignment, I do not need a perfect model I will go with a **head only truncation** which is pretty simple to do and also effective. In an additional phase, this model could be changed to try to improve the classification performance (e.g. perform text summarization before feeding it to BERT, chunk classification and voting system, etc.)."
   ]
  },
  {
   "cell_type": "code",
   "execution_count": 39,
   "metadata": {
    "colab": {
     "base_uri": "https://localhost:8080/",
     "height": 66,
     "referenced_widgets": [
      "f12c6e0edfbb4a1ea64cf4f5463b7480",
      "0dbe171ccc9a4b93a2b9367f610ece34",
      "f82970ac0c4145ff817defc234174064",
      "c86693cfdfb74b7baaf5d642f1048757",
      "df652707b3444994833e287f8920e4b1",
      "db327ed16ca443e69b87ac396a760323",
      "6292549523c54938a1af22b60ec9cd50",
      "fd26833ce26b46da93cc35deb4ed03c1"
     ]
    },
    "executionInfo": {
     "elapsed": 1345105,
     "status": "ok",
     "timestamp": 1602000277785,
     "user": {
      "displayName": "Nolì Manzoni",
      "photoUrl": "https://lh3.googleusercontent.com/a-/AOh14GjSV8oLzy8XPBgS7lzEvCYrQsaoPX1_wtBEXr-g2A=s64",
      "userId": "08995673857897094389"
     },
     "user_tz": -120
    },
    "id": "CQ415rC95Seu",
    "outputId": "effaad66-0160-40f9-a3af-a4ea92117b63"
   },
   "outputs": [
    {
     "data": {
      "application/vnd.jupyter.widget-view+json": {
       "model_id": "f12c6e0edfbb4a1ea64cf4f5463b7480",
       "version_major": 2,
       "version_minor": 0
      },
      "text/plain": [
       "HBox(children=(FloatProgress(value=0.0, description='Downloading', max=231508.0, style=ProgressStyle(descripti…"
      ]
     },
     "metadata": {
      "tags": []
     },
     "output_type": "display_data"
    },
    {
     "name": "stdout",
     "output_type": "stream",
     "text": [
      "\n"
     ]
    }
   ],
   "source": [
    "# Load the BERT tokenizer\n",
    "tokenizer = BertTokenizerFast.from_pretrained('bert-base-uncased',do_lower_case=True)"
   ]
  },
  {
   "cell_type": "code",
   "execution_count": 40,
   "metadata": {
    "executionInfo": {
     "elapsed": 1349229,
     "status": "ok",
     "timestamp": 1602000281917,
     "user": {
      "displayName": "Nolì Manzoni",
      "photoUrl": "https://lh3.googleusercontent.com/a-/AOh14GjSV8oLzy8XPBgS7lzEvCYrQsaoPX1_wtBEXr-g2A=s64",
      "userId": "08995673857897094389"
     },
     "user_tz": -120
    },
    "id": "9sPXKCst5Sey"
   },
   "outputs": [],
   "source": [
    "tokens_train = tokenizer.batch_encode_plus(train['text'].tolist(),truncation=True,padding=True)\n",
    "tokens_val = tokenizer.batch_encode_plus(val['text'].tolist(),truncation=True,padding=True)\n",
    "tokens_test = tokenizer.batch_encode_plus(test['text'].tolist(),truncation=True,padding=True)"
   ]
  },
  {
   "cell_type": "code",
   "execution_count": 41,
   "metadata": {
    "executionInfo": {
     "elapsed": 1349507,
     "status": "ok",
     "timestamp": 1602000282202,
     "user": {
      "displayName": "Nolì Manzoni",
      "photoUrl": "https://lh3.googleusercontent.com/a-/AOh14GjSV8oLzy8XPBgS7lzEvCYrQsaoPX1_wtBEXr-g2A=s64",
      "userId": "08995673857897094389"
     },
     "user_tz": -120
    },
    "id": "aq4DEIxa5Se1"
   },
   "outputs": [],
   "source": [
    "# tokens_train[0].tokens"
   ]
  },
  {
   "cell_type": "code",
   "execution_count": 42,
   "metadata": {
    "executionInfo": {
     "elapsed": 1350728,
     "status": "ok",
     "timestamp": 1602000283430,
     "user": {
      "displayName": "Nolì Manzoni",
      "photoUrl": "https://lh3.googleusercontent.com/a-/AOh14GjSV8oLzy8XPBgS7lzEvCYrQsaoPX1_wtBEXr-g2A=s64",
      "userId": "08995673857897094389"
     },
     "user_tz": -120
    },
    "id": "gRXpqzA15Se3"
   },
   "outputs": [],
   "source": [
    "train_seq = torch.tensor(tokens_train['input_ids'])\n",
    "train_mask = torch.tensor(tokens_train['attention_mask'])\n",
    "train_y = torch.tensor(train['label'].tolist())\n",
    "\n",
    "val_seq = torch.tensor(tokens_val['input_ids'])\n",
    "val_mask = torch.tensor(tokens_val['attention_mask'])\n",
    "val_y = torch.tensor(val['label'].tolist())\n",
    "\n",
    "test_seq = torch.tensor(tokens_test['input_ids'])\n",
    "test_mask = torch.tensor(tokens_test['attention_mask'])\n",
    "test_y = torch.tensor(test['label'].tolist())"
   ]
  },
  {
   "cell_type": "markdown",
   "metadata": {
    "id": "z3JpGVrP5Se4"
   },
   "source": [
    "### Create datasets"
   ]
  },
  {
   "cell_type": "code",
   "execution_count": 43,
   "metadata": {
    "executionInfo": {
     "elapsed": 1350951,
     "status": "ok",
     "timestamp": 1602000283661,
     "user": {
      "displayName": "Nolì Manzoni",
      "photoUrl": "https://lh3.googleusercontent.com/a-/AOh14GjSV8oLzy8XPBgS7lzEvCYrQsaoPX1_wtBEXr-g2A=s64",
      "userId": "08995673857897094389"
     },
     "user_tz": -120
    },
    "id": "eOaJgLtf5Se5"
   },
   "outputs": [],
   "source": [
    "# The batch size is set to 2 instead of 16 ore 32 (suggestion from original paper) \n",
    "# because Gooogle Colab GPU cannot fit bigger batches \n",
    "#(if a more performant GPU is avialable it should be good to use 16 or 32).\n",
    "\n",
    "batch_size = 2"
   ]
  },
  {
   "cell_type": "markdown",
   "metadata": {
    "id": "AXI7kOdu5Se6"
   },
   "source": [
    "#### Train"
   ]
  },
  {
   "cell_type": "code",
   "execution_count": 44,
   "metadata": {
    "executionInfo": {
     "elapsed": 1351181,
     "status": "ok",
     "timestamp": 1602000283898,
     "user": {
      "displayName": "Nolì Manzoni",
      "photoUrl": "https://lh3.googleusercontent.com/a-/AOh14GjSV8oLzy8XPBgS7lzEvCYrQsaoPX1_wtBEXr-g2A=s64",
      "userId": "08995673857897094389"
     },
     "user_tz": -120
    },
    "id": "WHeutFh85Se6"
   },
   "outputs": [],
   "source": [
    "# wrap tensors\n",
    "train_data = TensorDataset(train_seq, train_mask, train_y)\n",
    "\n",
    "# sampler for sampling the data during training\n",
    "train_sampler = RandomSampler(train_data)\n",
    "\n",
    "# dataLoader for train set\n",
    "train_dataloader = DataLoader(train_data, sampler=train_sampler, batch_size=batch_size)"
   ]
  },
  {
   "cell_type": "markdown",
   "metadata": {
    "id": "99vRTgbm5Se8"
   },
   "source": [
    "#### Val"
   ]
  },
  {
   "cell_type": "code",
   "execution_count": 45,
   "metadata": {
    "executionInfo": {
     "elapsed": 1351890,
     "status": "ok",
     "timestamp": 1602000284614,
     "user": {
      "displayName": "Nolì Manzoni",
      "photoUrl": "https://lh3.googleusercontent.com/a-/AOh14GjSV8oLzy8XPBgS7lzEvCYrQsaoPX1_wtBEXr-g2A=s64",
      "userId": "08995673857897094389"
     },
     "user_tz": -120
    },
    "id": "IrTwToDZ5Se9"
   },
   "outputs": [],
   "source": [
    "# wrap tensors\n",
    "val_data = TensorDataset(val_seq, val_mask, val_y)\n",
    "\n",
    "# sampler for sampling the data during training\n",
    "val_sampler = SequentialSampler(val_data)\n",
    "\n",
    "# dataLoader for validation set\n",
    "val_dataloader = DataLoader(val_data, sampler = val_sampler, batch_size=batch_size)"
   ]
  },
  {
   "cell_type": "markdown",
   "metadata": {
    "id": "yesnxt8Y5Se-"
   },
   "source": [
    "#### Test"
   ]
  },
  {
   "cell_type": "code",
   "execution_count": 46,
   "metadata": {
    "executionInfo": {
     "elapsed": 1352397,
     "status": "ok",
     "timestamp": 1602000285129,
     "user": {
      "displayName": "Nolì Manzoni",
      "photoUrl": "https://lh3.googleusercontent.com/a-/AOh14GjSV8oLzy8XPBgS7lzEvCYrQsaoPX1_wtBEXr-g2A=s64",
      "userId": "08995673857897094389"
     },
     "user_tz": -120
    },
    "id": "aJvC7jvm5Se_"
   },
   "outputs": [],
   "source": [
    "# wrap tensors\n",
    "test_data = TensorDataset(test_seq, test_mask, test_y)\n",
    "\n",
    "# sampler for sampling the data during training\n",
    "test_sampler = SequentialSampler(test_data)\n",
    "\n",
    "# dataLoader for test set\n",
    "test_dataloader = DataLoader(test_data, sampler = test_sampler, batch_size=batch_size)"
   ]
  },
  {
   "cell_type": "markdown",
   "metadata": {
    "id": "-l2Z-pOa5SfA"
   },
   "source": [
    "# Feature Engineering & Modeling"
   ]
  },
  {
   "cell_type": "markdown",
   "metadata": {
    "id": "rScYxhiK5SfA"
   },
   "source": [
    "This is the normal BERT model with an extra single linear layer on top for classification that we will use as a sentence classifier (https://huggingface.co/transformers/model_doc/bert.html#transformers.BertForSequenceClassification)."
   ]
  },
  {
   "cell_type": "code",
   "execution_count": 47,
   "metadata": {
    "executionInfo": {
     "elapsed": 1353154,
     "status": "ok",
     "timestamp": 1602000285893,
     "user": {
      "displayName": "Nolì Manzoni",
      "photoUrl": "https://lh3.googleusercontent.com/a-/AOh14GjSV8oLzy8XPBgS7lzEvCYrQsaoPX1_wtBEXr-g2A=s64",
      "userId": "08995673857897094389"
     },
     "user_tz": -120
    },
    "id": "HzXKMH8P5SfB"
   },
   "outputs": [],
   "source": [
    "device = torch.device(\"cuda:0\" if torch.cuda.is_available() else \"cpu\")"
   ]
  },
  {
   "cell_type": "markdown",
   "metadata": {
    "id": "8NZ6TQ3R5SfD"
   },
   "source": [
    "Set the corret number fo classes for the classification (in this case 10 output categories)"
   ]
  },
  {
   "cell_type": "code",
   "execution_count": 48,
   "metadata": {
    "colab": {
     "base_uri": "https://localhost:8080/",
     "height": 220,
     "referenced_widgets": [
      "bc3143709e3a4af9bd1e746dd4b8a2d8",
      "7b87d861b1044c1c8058b6491d4d7a77",
      "abc916f4fabb469bbcf4bcce620c3933",
      "4bdfa73353604b22ab8907b72075aae9",
      "4115d34b85e14d88a90d2e91e27fd52e",
      "f18fff55841541f1b8fcf8daa777313f",
      "4dc9aead32d54bc3a10c4fea17b98bff",
      "eca6a34ae85e4655ad1fa7b832c24765",
      "5aa2711d704a4d7c969f4e61edee6aac",
      "0b02a3a511dc477f8775b5938ca34ba1",
      "5ad45c0246604407b2be64d48adc2fe3",
      "47ba0b5f2b9a44b4871dce705da73b9d",
      "48e5c3cb33b04c33b68fe5bfdbdcdd44",
      "7a477e6f7e2a4ffcad02f92df10b1e44",
      "8a57a155f9934256a05df20710ecdb8d",
      "e763a77d7e014878a2cd7332bcf0d4af"
     ]
    },
    "executionInfo": {
     "elapsed": 2103822,
     "status": "ok",
     "timestamp": 1602001036568,
     "user": {
      "displayName": "Nolì Manzoni",
      "photoUrl": "https://lh3.googleusercontent.com/a-/AOh14GjSV8oLzy8XPBgS7lzEvCYrQsaoPX1_wtBEXr-g2A=s64",
      "userId": "08995673857897094389"
     },
     "user_tz": -120
    },
    "id": "qyZSZHk25SfE",
    "outputId": "525a64a5-2c2e-4d4f-a340-9f1ae4ae20c0",
    "scrolled": true
   },
   "outputs": [
    {
     "data": {
      "application/vnd.jupyter.widget-view+json": {
       "model_id": "bc3143709e3a4af9bd1e746dd4b8a2d8",
       "version_major": 2,
       "version_minor": 0
      },
      "text/plain": [
       "HBox(children=(FloatProgress(value=0.0, description='Downloading', max=433.0, style=ProgressStyle(description_…"
      ]
     },
     "metadata": {
      "tags": []
     },
     "output_type": "display_data"
    },
    {
     "name": "stdout",
     "output_type": "stream",
     "text": [
      "\n"
     ]
    },
    {
     "data": {
      "application/vnd.jupyter.widget-view+json": {
       "model_id": "5aa2711d704a4d7c969f4e61edee6aac",
       "version_major": 2,
       "version_minor": 0
      },
      "text/plain": [
       "HBox(children=(FloatProgress(value=0.0, description='Downloading', max=440473133.0, style=ProgressStyle(descri…"
      ]
     },
     "metadata": {
      "tags": []
     },
     "output_type": "display_data"
    },
    {
     "name": "stdout",
     "output_type": "stream",
     "text": [
      "\n"
     ]
    },
    {
     "name": "stderr",
     "output_type": "stream",
     "text": [
      "Some weights of the model checkpoint at bert-base-uncased were not used when initializing BertForSequenceClassification: ['cls.predictions.bias', 'cls.predictions.transform.dense.weight', 'cls.predictions.transform.dense.bias', 'cls.predictions.decoder.weight', 'cls.seq_relationship.weight', 'cls.seq_relationship.bias', 'cls.predictions.transform.LayerNorm.weight', 'cls.predictions.transform.LayerNorm.bias']\n",
      "- This IS expected if you are initializing BertForSequenceClassification from the checkpoint of a model trained on another task or with another architecture (e.g. initializing a BertForSequenceClassification model from a BertForPretraining model).\n",
      "- This IS NOT expected if you are initializing BertForSequenceClassification from the checkpoint of a model that you expect to be exactly identical (initializing a BertForSequenceClassification model from a BertForSequenceClassification model).\n",
      "Some weights of BertForSequenceClassification were not initialized from the model checkpoint at bert-base-uncased and are newly initialized: ['classifier.weight', 'classifier.bias']\n",
      "You should probably TRAIN this model on a down-stream task to be able to use it for predictions and inference.\n"
     ]
    }
   ],
   "source": [
    "model = BertForSequenceClassification.from_pretrained(\n",
    "    \"bert-base-uncased\", \n",
    "    num_labels = 10,   \n",
    "    output_attentions = False, \n",
    "    output_hidden_states = False,\n",
    ")"
   ]
  },
  {
   "cell_type": "code",
   "execution_count": 49,
   "metadata": {
    "colab": {
     "base_uri": "https://localhost:8080/",
     "height": 1000
    },
    "executionInfo": {
     "elapsed": 2125147,
     "status": "ok",
     "timestamp": 1602001057905,
     "user": {
      "displayName": "Nolì Manzoni",
      "photoUrl": "https://lh3.googleusercontent.com/a-/AOh14GjSV8oLzy8XPBgS7lzEvCYrQsaoPX1_wtBEXr-g2A=s64",
      "userId": "08995673857897094389"
     },
     "user_tz": -120
    },
    "id": "Q2FFyS5Q5SfG",
    "outputId": "ed9e35ed-58e6-4a07-ae92-d98a6855ab6b"
   },
   "outputs": [
    {
     "data": {
      "text/plain": [
       "BertForSequenceClassification(\n",
       "  (bert): BertModel(\n",
       "    (embeddings): BertEmbeddings(\n",
       "      (word_embeddings): Embedding(30522, 768, padding_idx=0)\n",
       "      (position_embeddings): Embedding(512, 768)\n",
       "      (token_type_embeddings): Embedding(2, 768)\n",
       "      (LayerNorm): LayerNorm((768,), eps=1e-12, elementwise_affine=True)\n",
       "      (dropout): Dropout(p=0.1, inplace=False)\n",
       "    )\n",
       "    (encoder): BertEncoder(\n",
       "      (layer): ModuleList(\n",
       "        (0): BertLayer(\n",
       "          (attention): BertAttention(\n",
       "            (self): BertSelfAttention(\n",
       "              (query): Linear(in_features=768, out_features=768, bias=True)\n",
       "              (key): Linear(in_features=768, out_features=768, bias=True)\n",
       "              (value): Linear(in_features=768, out_features=768, bias=True)\n",
       "              (dropout): Dropout(p=0.1, inplace=False)\n",
       "            )\n",
       "            (output): BertSelfOutput(\n",
       "              (dense): Linear(in_features=768, out_features=768, bias=True)\n",
       "              (LayerNorm): LayerNorm((768,), eps=1e-12, elementwise_affine=True)\n",
       "              (dropout): Dropout(p=0.1, inplace=False)\n",
       "            )\n",
       "          )\n",
       "          (intermediate): BertIntermediate(\n",
       "            (dense): Linear(in_features=768, out_features=3072, bias=True)\n",
       "          )\n",
       "          (output): BertOutput(\n",
       "            (dense): Linear(in_features=3072, out_features=768, bias=True)\n",
       "            (LayerNorm): LayerNorm((768,), eps=1e-12, elementwise_affine=True)\n",
       "            (dropout): Dropout(p=0.1, inplace=False)\n",
       "          )\n",
       "        )\n",
       "        (1): BertLayer(\n",
       "          (attention): BertAttention(\n",
       "            (self): BertSelfAttention(\n",
       "              (query): Linear(in_features=768, out_features=768, bias=True)\n",
       "              (key): Linear(in_features=768, out_features=768, bias=True)\n",
       "              (value): Linear(in_features=768, out_features=768, bias=True)\n",
       "              (dropout): Dropout(p=0.1, inplace=False)\n",
       "            )\n",
       "            (output): BertSelfOutput(\n",
       "              (dense): Linear(in_features=768, out_features=768, bias=True)\n",
       "              (LayerNorm): LayerNorm((768,), eps=1e-12, elementwise_affine=True)\n",
       "              (dropout): Dropout(p=0.1, inplace=False)\n",
       "            )\n",
       "          )\n",
       "          (intermediate): BertIntermediate(\n",
       "            (dense): Linear(in_features=768, out_features=3072, bias=True)\n",
       "          )\n",
       "          (output): BertOutput(\n",
       "            (dense): Linear(in_features=3072, out_features=768, bias=True)\n",
       "            (LayerNorm): LayerNorm((768,), eps=1e-12, elementwise_affine=True)\n",
       "            (dropout): Dropout(p=0.1, inplace=False)\n",
       "          )\n",
       "        )\n",
       "        (2): BertLayer(\n",
       "          (attention): BertAttention(\n",
       "            (self): BertSelfAttention(\n",
       "              (query): Linear(in_features=768, out_features=768, bias=True)\n",
       "              (key): Linear(in_features=768, out_features=768, bias=True)\n",
       "              (value): Linear(in_features=768, out_features=768, bias=True)\n",
       "              (dropout): Dropout(p=0.1, inplace=False)\n",
       "            )\n",
       "            (output): BertSelfOutput(\n",
       "              (dense): Linear(in_features=768, out_features=768, bias=True)\n",
       "              (LayerNorm): LayerNorm((768,), eps=1e-12, elementwise_affine=True)\n",
       "              (dropout): Dropout(p=0.1, inplace=False)\n",
       "            )\n",
       "          )\n",
       "          (intermediate): BertIntermediate(\n",
       "            (dense): Linear(in_features=768, out_features=3072, bias=True)\n",
       "          )\n",
       "          (output): BertOutput(\n",
       "            (dense): Linear(in_features=3072, out_features=768, bias=True)\n",
       "            (LayerNorm): LayerNorm((768,), eps=1e-12, elementwise_affine=True)\n",
       "            (dropout): Dropout(p=0.1, inplace=False)\n",
       "          )\n",
       "        )\n",
       "        (3): BertLayer(\n",
       "          (attention): BertAttention(\n",
       "            (self): BertSelfAttention(\n",
       "              (query): Linear(in_features=768, out_features=768, bias=True)\n",
       "              (key): Linear(in_features=768, out_features=768, bias=True)\n",
       "              (value): Linear(in_features=768, out_features=768, bias=True)\n",
       "              (dropout): Dropout(p=0.1, inplace=False)\n",
       "            )\n",
       "            (output): BertSelfOutput(\n",
       "              (dense): Linear(in_features=768, out_features=768, bias=True)\n",
       "              (LayerNorm): LayerNorm((768,), eps=1e-12, elementwise_affine=True)\n",
       "              (dropout): Dropout(p=0.1, inplace=False)\n",
       "            )\n",
       "          )\n",
       "          (intermediate): BertIntermediate(\n",
       "            (dense): Linear(in_features=768, out_features=3072, bias=True)\n",
       "          )\n",
       "          (output): BertOutput(\n",
       "            (dense): Linear(in_features=3072, out_features=768, bias=True)\n",
       "            (LayerNorm): LayerNorm((768,), eps=1e-12, elementwise_affine=True)\n",
       "            (dropout): Dropout(p=0.1, inplace=False)\n",
       "          )\n",
       "        )\n",
       "        (4): BertLayer(\n",
       "          (attention): BertAttention(\n",
       "            (self): BertSelfAttention(\n",
       "              (query): Linear(in_features=768, out_features=768, bias=True)\n",
       "              (key): Linear(in_features=768, out_features=768, bias=True)\n",
       "              (value): Linear(in_features=768, out_features=768, bias=True)\n",
       "              (dropout): Dropout(p=0.1, inplace=False)\n",
       "            )\n",
       "            (output): BertSelfOutput(\n",
       "              (dense): Linear(in_features=768, out_features=768, bias=True)\n",
       "              (LayerNorm): LayerNorm((768,), eps=1e-12, elementwise_affine=True)\n",
       "              (dropout): Dropout(p=0.1, inplace=False)\n",
       "            )\n",
       "          )\n",
       "          (intermediate): BertIntermediate(\n",
       "            (dense): Linear(in_features=768, out_features=3072, bias=True)\n",
       "          )\n",
       "          (output): BertOutput(\n",
       "            (dense): Linear(in_features=3072, out_features=768, bias=True)\n",
       "            (LayerNorm): LayerNorm((768,), eps=1e-12, elementwise_affine=True)\n",
       "            (dropout): Dropout(p=0.1, inplace=False)\n",
       "          )\n",
       "        )\n",
       "        (5): BertLayer(\n",
       "          (attention): BertAttention(\n",
       "            (self): BertSelfAttention(\n",
       "              (query): Linear(in_features=768, out_features=768, bias=True)\n",
       "              (key): Linear(in_features=768, out_features=768, bias=True)\n",
       "              (value): Linear(in_features=768, out_features=768, bias=True)\n",
       "              (dropout): Dropout(p=0.1, inplace=False)\n",
       "            )\n",
       "            (output): BertSelfOutput(\n",
       "              (dense): Linear(in_features=768, out_features=768, bias=True)\n",
       "              (LayerNorm): LayerNorm((768,), eps=1e-12, elementwise_affine=True)\n",
       "              (dropout): Dropout(p=0.1, inplace=False)\n",
       "            )\n",
       "          )\n",
       "          (intermediate): BertIntermediate(\n",
       "            (dense): Linear(in_features=768, out_features=3072, bias=True)\n",
       "          )\n",
       "          (output): BertOutput(\n",
       "            (dense): Linear(in_features=3072, out_features=768, bias=True)\n",
       "            (LayerNorm): LayerNorm((768,), eps=1e-12, elementwise_affine=True)\n",
       "            (dropout): Dropout(p=0.1, inplace=False)\n",
       "          )\n",
       "        )\n",
       "        (6): BertLayer(\n",
       "          (attention): BertAttention(\n",
       "            (self): BertSelfAttention(\n",
       "              (query): Linear(in_features=768, out_features=768, bias=True)\n",
       "              (key): Linear(in_features=768, out_features=768, bias=True)\n",
       "              (value): Linear(in_features=768, out_features=768, bias=True)\n",
       "              (dropout): Dropout(p=0.1, inplace=False)\n",
       "            )\n",
       "            (output): BertSelfOutput(\n",
       "              (dense): Linear(in_features=768, out_features=768, bias=True)\n",
       "              (LayerNorm): LayerNorm((768,), eps=1e-12, elementwise_affine=True)\n",
       "              (dropout): Dropout(p=0.1, inplace=False)\n",
       "            )\n",
       "          )\n",
       "          (intermediate): BertIntermediate(\n",
       "            (dense): Linear(in_features=768, out_features=3072, bias=True)\n",
       "          )\n",
       "          (output): BertOutput(\n",
       "            (dense): Linear(in_features=3072, out_features=768, bias=True)\n",
       "            (LayerNorm): LayerNorm((768,), eps=1e-12, elementwise_affine=True)\n",
       "            (dropout): Dropout(p=0.1, inplace=False)\n",
       "          )\n",
       "        )\n",
       "        (7): BertLayer(\n",
       "          (attention): BertAttention(\n",
       "            (self): BertSelfAttention(\n",
       "              (query): Linear(in_features=768, out_features=768, bias=True)\n",
       "              (key): Linear(in_features=768, out_features=768, bias=True)\n",
       "              (value): Linear(in_features=768, out_features=768, bias=True)\n",
       "              (dropout): Dropout(p=0.1, inplace=False)\n",
       "            )\n",
       "            (output): BertSelfOutput(\n",
       "              (dense): Linear(in_features=768, out_features=768, bias=True)\n",
       "              (LayerNorm): LayerNorm((768,), eps=1e-12, elementwise_affine=True)\n",
       "              (dropout): Dropout(p=0.1, inplace=False)\n",
       "            )\n",
       "          )\n",
       "          (intermediate): BertIntermediate(\n",
       "            (dense): Linear(in_features=768, out_features=3072, bias=True)\n",
       "          )\n",
       "          (output): BertOutput(\n",
       "            (dense): Linear(in_features=3072, out_features=768, bias=True)\n",
       "            (LayerNorm): LayerNorm((768,), eps=1e-12, elementwise_affine=True)\n",
       "            (dropout): Dropout(p=0.1, inplace=False)\n",
       "          )\n",
       "        )\n",
       "        (8): BertLayer(\n",
       "          (attention): BertAttention(\n",
       "            (self): BertSelfAttention(\n",
       "              (query): Linear(in_features=768, out_features=768, bias=True)\n",
       "              (key): Linear(in_features=768, out_features=768, bias=True)\n",
       "              (value): Linear(in_features=768, out_features=768, bias=True)\n",
       "              (dropout): Dropout(p=0.1, inplace=False)\n",
       "            )\n",
       "            (output): BertSelfOutput(\n",
       "              (dense): Linear(in_features=768, out_features=768, bias=True)\n",
       "              (LayerNorm): LayerNorm((768,), eps=1e-12, elementwise_affine=True)\n",
       "              (dropout): Dropout(p=0.1, inplace=False)\n",
       "            )\n",
       "          )\n",
       "          (intermediate): BertIntermediate(\n",
       "            (dense): Linear(in_features=768, out_features=3072, bias=True)\n",
       "          )\n",
       "          (output): BertOutput(\n",
       "            (dense): Linear(in_features=3072, out_features=768, bias=True)\n",
       "            (LayerNorm): LayerNorm((768,), eps=1e-12, elementwise_affine=True)\n",
       "            (dropout): Dropout(p=0.1, inplace=False)\n",
       "          )\n",
       "        )\n",
       "        (9): BertLayer(\n",
       "          (attention): BertAttention(\n",
       "            (self): BertSelfAttention(\n",
       "              (query): Linear(in_features=768, out_features=768, bias=True)\n",
       "              (key): Linear(in_features=768, out_features=768, bias=True)\n",
       "              (value): Linear(in_features=768, out_features=768, bias=True)\n",
       "              (dropout): Dropout(p=0.1, inplace=False)\n",
       "            )\n",
       "            (output): BertSelfOutput(\n",
       "              (dense): Linear(in_features=768, out_features=768, bias=True)\n",
       "              (LayerNorm): LayerNorm((768,), eps=1e-12, elementwise_affine=True)\n",
       "              (dropout): Dropout(p=0.1, inplace=False)\n",
       "            )\n",
       "          )\n",
       "          (intermediate): BertIntermediate(\n",
       "            (dense): Linear(in_features=768, out_features=3072, bias=True)\n",
       "          )\n",
       "          (output): BertOutput(\n",
       "            (dense): Linear(in_features=3072, out_features=768, bias=True)\n",
       "            (LayerNorm): LayerNorm((768,), eps=1e-12, elementwise_affine=True)\n",
       "            (dropout): Dropout(p=0.1, inplace=False)\n",
       "          )\n",
       "        )\n",
       "        (10): BertLayer(\n",
       "          (attention): BertAttention(\n",
       "            (self): BertSelfAttention(\n",
       "              (query): Linear(in_features=768, out_features=768, bias=True)\n",
       "              (key): Linear(in_features=768, out_features=768, bias=True)\n",
       "              (value): Linear(in_features=768, out_features=768, bias=True)\n",
       "              (dropout): Dropout(p=0.1, inplace=False)\n",
       "            )\n",
       "            (output): BertSelfOutput(\n",
       "              (dense): Linear(in_features=768, out_features=768, bias=True)\n",
       "              (LayerNorm): LayerNorm((768,), eps=1e-12, elementwise_affine=True)\n",
       "              (dropout): Dropout(p=0.1, inplace=False)\n",
       "            )\n",
       "          )\n",
       "          (intermediate): BertIntermediate(\n",
       "            (dense): Linear(in_features=768, out_features=3072, bias=True)\n",
       "          )\n",
       "          (output): BertOutput(\n",
       "            (dense): Linear(in_features=3072, out_features=768, bias=True)\n",
       "            (LayerNorm): LayerNorm((768,), eps=1e-12, elementwise_affine=True)\n",
       "            (dropout): Dropout(p=0.1, inplace=False)\n",
       "          )\n",
       "        )\n",
       "        (11): BertLayer(\n",
       "          (attention): BertAttention(\n",
       "            (self): BertSelfAttention(\n",
       "              (query): Linear(in_features=768, out_features=768, bias=True)\n",
       "              (key): Linear(in_features=768, out_features=768, bias=True)\n",
       "              (value): Linear(in_features=768, out_features=768, bias=True)\n",
       "              (dropout): Dropout(p=0.1, inplace=False)\n",
       "            )\n",
       "            (output): BertSelfOutput(\n",
       "              (dense): Linear(in_features=768, out_features=768, bias=True)\n",
       "              (LayerNorm): LayerNorm((768,), eps=1e-12, elementwise_affine=True)\n",
       "              (dropout): Dropout(p=0.1, inplace=False)\n",
       "            )\n",
       "          )\n",
       "          (intermediate): BertIntermediate(\n",
       "            (dense): Linear(in_features=768, out_features=3072, bias=True)\n",
       "          )\n",
       "          (output): BertOutput(\n",
       "            (dense): Linear(in_features=3072, out_features=768, bias=True)\n",
       "            (LayerNorm): LayerNorm((768,), eps=1e-12, elementwise_affine=True)\n",
       "            (dropout): Dropout(p=0.1, inplace=False)\n",
       "          )\n",
       "        )\n",
       "      )\n",
       "    )\n",
       "    (pooler): BertPooler(\n",
       "      (dense): Linear(in_features=768, out_features=768, bias=True)\n",
       "      (activation): Tanh()\n",
       "    )\n",
       "  )\n",
       "  (dropout): Dropout(p=0.1, inplace=False)\n",
       "  (classifier): Linear(in_features=768, out_features=10, bias=True)\n",
       ")"
      ]
     },
     "execution_count": 49,
     "metadata": {
      "tags": []
     },
     "output_type": "execute_result"
    }
   ],
   "source": [
    "model.to(device)"
   ]
  },
  {
   "cell_type": "code",
   "execution_count": 50,
   "metadata": {
    "colab": {
     "base_uri": "https://localhost:8080/",
     "height": 85
    },
    "executionInfo": {
     "elapsed": 2125138,
     "status": "ok",
     "timestamp": 1602001057906,
     "user": {
      "displayName": "Nolì Manzoni",
      "photoUrl": "https://lh3.googleusercontent.com/a-/AOh14GjSV8oLzy8XPBgS7lzEvCYrQsaoPX1_wtBEXr-g2A=s64",
      "userId": "08995673857897094389"
     },
     "user_tz": -120
    },
    "id": "lj_va71j5SfH",
    "outputId": "e696e898-d577-4638-f5ff-ffc3b4184491"
   },
   "outputs": [
    {
     "name": "stdout",
     "output_type": "stream",
     "text": [
      "bert.pooler.dense.weight                                  (768, 768)\n",
      "bert.pooler.dense.bias                                        (768,)\n",
      "classifier.weight                                          (10, 768)\n",
      "classifier.bias                                                (10,)\n"
     ]
    }
   ],
   "source": [
    "# Check output layers\n",
    "params = list(model.named_parameters())\n",
    "\n",
    "for p in params[-4:]:\n",
    "    print(\"{:<55} {:>12}\".format(p[0], str(tuple(p[1].size()))))"
   ]
  },
  {
   "cell_type": "markdown",
   "metadata": {
    "id": "S9pG0ocd5SfJ"
   },
   "source": [
    "Optimizer, in the original paper they propose to use one of these lr for fine-tuning learning (5e-5, 4e-5, 3e-5, and 2e-5) and as I do not have time for an hyperparameter search I will use 2e-5."
   ]
  },
  {
   "cell_type": "code",
   "execution_count": 51,
   "metadata": {
    "executionInfo": {
     "elapsed": 2125129,
     "status": "ok",
     "timestamp": 1602001057906,
     "user": {
      "displayName": "Nolì Manzoni",
      "photoUrl": "https://lh3.googleusercontent.com/a-/AOh14GjSV8oLzy8XPBgS7lzEvCYrQsaoPX1_wtBEXr-g2A=s64",
      "userId": "08995673857897094389"
     },
     "user_tz": -120
    },
    "id": "pLyvtek25SfK"
   },
   "outputs": [],
   "source": [
    "optimizer = AdamW(model.parameters(), lr = 2e-5)"
   ]
  },
  {
   "cell_type": "markdown",
   "metadata": {
    "id": "r0s5SsvC5SfL"
   },
   "source": [
    "As I scrape wikipedia to have balanced classes we do not need class weights, if that was the case sklearn.utils.class_weight can help a lot."
   ]
  },
  {
   "cell_type": "markdown",
   "metadata": {
    "id": "ZqitDXC25SfL"
   },
   "source": [
    "Training and evaluation loop based on https://github.com/huggingface/transformers/blob/5bfcd0485ece086ebcbed2d008813037968a9e58/examples/run_glue.py"
   ]
  },
  {
   "cell_type": "code",
   "execution_count": 52,
   "metadata": {
    "executionInfo": {
     "elapsed": 2125121,
     "status": "ok",
     "timestamp": 1602001057907,
     "user": {
      "displayName": "Nolì Manzoni",
      "photoUrl": "https://lh3.googleusercontent.com/a-/AOh14GjSV8oLzy8XPBgS7lzEvCYrQsaoPX1_wtBEXr-g2A=s64",
      "userId": "08995673857897094389"
     },
     "user_tz": -120
    },
    "id": "r5gqDeMu5SfL"
   },
   "outputs": [],
   "source": [
    "# Number of training epochs (authors recommend between 2 and 4). To see how it behave and because it is pretty fast to\n",
    "# train on a GPU I decided to use more epochs (only the model which achieves the highest val accuracy is kept).\n",
    "epochs = 10\n",
    "\n",
    "# Total number of training steps\n",
    "total_steps = len(train_dataloader) * epochs\n",
    "\n",
    "# Scheduler\n",
    "scheduler = get_linear_schedule_with_warmup(optimizer, \n",
    "                                            num_warmup_steps = 0,\n",
    "                                            num_training_steps = total_steps)"
   ]
  },
  {
   "cell_type": "markdown",
   "metadata": {
    "id": "PDYIHB_s5SfN"
   },
   "source": [
    "### Helper methods"
   ]
  },
  {
   "cell_type": "code",
   "execution_count": 53,
   "metadata": {
    "executionInfo": {
     "elapsed": 2125113,
     "status": "ok",
     "timestamp": 1602001057908,
     "user": {
      "displayName": "Nolì Manzoni",
      "photoUrl": "https://lh3.googleusercontent.com/a-/AOh14GjSV8oLzy8XPBgS7lzEvCYrQsaoPX1_wtBEXr-g2A=s64",
      "userId": "08995673857897094389"
     },
     "user_tz": -120
    },
    "id": "fBzLpsub5SfN"
   },
   "outputs": [],
   "source": [
    "def flat_accuracy(preds, labels):\n",
    "    pred_flat = np.argmax(preds, axis=1).flatten()\n",
    "    labels_flat = labels.flatten()\n",
    "    return np.sum(pred_flat == labels_flat) / len(labels_flat)"
   ]
  },
  {
   "cell_type": "code",
   "execution_count": 54,
   "metadata": {
    "executionInfo": {
     "elapsed": 2125417,
     "status": "ok",
     "timestamp": 1602001058225,
     "user": {
      "displayName": "Nolì Manzoni",
      "photoUrl": "https://lh3.googleusercontent.com/a-/AOh14GjSV8oLzy8XPBgS7lzEvCYrQsaoPX1_wtBEXr-g2A=s64",
      "userId": "08995673857897094389"
     },
     "user_tz": -120
    },
    "id": "FDb4e8gH5SfO"
   },
   "outputs": [],
   "source": [
    "def format_time(elapsed):\n",
    "    elapsed_rounded = int(round((elapsed)))\n",
    "    \n",
    "    #  hh:mm:ss\n",
    "    return str(datetime.timedelta(seconds=elapsed_rounded))"
   ]
  },
  {
   "cell_type": "markdown",
   "metadata": {
    "id": "GwwpWzms5SfQ"
   },
   "source": [
    "### Training func"
   ]
  },
  {
   "cell_type": "code",
   "execution_count": 55,
   "metadata": {
    "executionInfo": {
     "elapsed": 2125408,
     "status": "ok",
     "timestamp": 1602001058225,
     "user": {
      "displayName": "Nolì Manzoni",
      "photoUrl": "https://lh3.googleusercontent.com/a-/AOh14GjSV8oLzy8XPBgS7lzEvCYrQsaoPX1_wtBEXr-g2A=s64",
      "userId": "08995673857897094389"
     },
     "user_tz": -120
    },
    "id": "xG8cm7ap5SfQ"
   },
   "outputs": [],
   "source": [
    "def train(dataloader):\n",
    "    print(\"Training...\")\n",
    "    \n",
    "    # Start time\n",
    "    t0 = time.time()\n",
    "\n",
    "    total_loss = 0\n",
    "\n",
    "    model.train()\n",
    "\n",
    "    for step, batch in enumerate(dataloader):\n",
    "\n",
    "        # Progress update every 40 batches.\n",
    "        if step % 40 == 0 and not step == 0:\n",
    "            # Elapsed time in mins\n",
    "            elapsed = format_time(time.time() - t0)\n",
    "            \n",
    "            print('  Batch {:>5,}  of  {:>5,}.    Elapsed: {:}.'.format(step, len(train_dataloader), elapsed))\n",
    "\n",
    "        \n",
    "        batch = [r.to(device) for r in batch]\n",
    "        sent_id, mask, labels = batch\n",
    "\n",
    "        # Clear gradients\n",
    "        model.zero_grad()        \n",
    "\n",
    "        # Forward pass\n",
    "        outputs = model(sent_id,\n",
    "                    attention_mask=mask, \n",
    "                    labels=labels,\n",
    "                    return_dict=True)\n",
    "        \n",
    "        # Get loss on CrossEntropyLoss\n",
    "        loss = outputs.loss\n",
    "\n",
    "        total_loss += loss.item()\n",
    "\n",
    "        loss.backward()\n",
    "\n",
    "        # Clip the the gradients to 1.0 (exploding gradient)\n",
    "        torch.nn.utils.clip_grad_norm_(model.parameters(), 1.0)\n",
    "\n",
    "        optimizer.step()\n",
    "\n",
    "        # Update lr\n",
    "        scheduler.step()\n",
    "\n",
    "    # average loss\n",
    "    avg_train_loss = total_loss / len(train_dataloader)            \n",
    "    \n",
    "\n",
    "    print(\"  Average training loss: {0:.2f}\".format(avg_train_loss))\n",
    "    print(\"  Training epcoh took: {:}\".format(format_time(time.time() - t0)))\n",
    "    \n",
    "    return avg_train_loss"
   ]
  },
  {
   "cell_type": "markdown",
   "metadata": {
    "id": "Qc3_bqom5SfS"
   },
   "source": [
    "### Evaluation func"
   ]
  },
  {
   "cell_type": "code",
   "execution_count": 56,
   "metadata": {
    "executionInfo": {
     "elapsed": 2125400,
     "status": "ok",
     "timestamp": 1602001058226,
     "user": {
      "displayName": "Nolì Manzoni",
      "photoUrl": "https://lh3.googleusercontent.com/a-/AOh14GjSV8oLzy8XPBgS7lzEvCYrQsaoPX1_wtBEXr-g2A=s64",
      "userId": "08995673857897094389"
     },
     "user_tz": -120
    },
    "id": "FILGTC6P5SfS"
   },
   "outputs": [],
   "source": [
    "def evaluate(dataloader):\n",
    "    print(\"Validation...\")\n",
    "\n",
    "    t0 = time.time()\n",
    "    \n",
    "    total_loss = 0\n",
    "\n",
    "    # Eval mode\n",
    "    model.eval()\n",
    "\n",
    "    eval_loss, eval_accuracy = 0, 0\n",
    "    predictions , true_labels = [], []\n",
    "\n",
    "    for batch in dataloader:\n",
    "        \n",
    "        batch = [r.to(device) for r in batch]\n",
    "        sent_id, mask, labels = batch\n",
    "        \n",
    "        with torch.no_grad():        \n",
    "            outputs = model(sent_id, \n",
    "                            attention_mask=mask,\n",
    "                            labels=labels,\n",
    "                               return_dict=True)\n",
    "        \n",
    "        # Logits (before softmax) \n",
    "        logits = outputs.logits\n",
    "        \n",
    "        # Get loss on CrossEntropyLoss\n",
    "        loss = outputs.loss\n",
    "\n",
    "        total_loss += loss.item()\n",
    "        \n",
    "        # Put values to CPU\n",
    "        logits = logits.detach().cpu().numpy()\n",
    "        label_ids = labels.to('cpu').numpy()\n",
    "        \n",
    "        # Predictions and true labels\n",
    "        predictions.extend(logits)\n",
    "        true_labels.extend(label_ids)\n",
    "        \n",
    "        # Accumulate the total accuracy.\n",
    "        eval_accuracy += flat_accuracy(logits, label_ids)\n",
    "\n",
    "    \n",
    "    # Average loss\n",
    "    avg_val_loss = total_loss / len(dataloader)            \n",
    "    \n",
    "    # Average accuracy\n",
    "    avg_val_accuracy = eval_accuracy/len(dataloader)\n",
    "    \n",
    "    \n",
    "    print(\"  Accuracy: {0:.2f}\".format(avg_val_accuracy))\n",
    "    print(\"  Validation took: {:}\".format(format_time(time.time() - t0)))\n",
    "    \n",
    "    return avg_val_loss, avg_val_accuracy, predictions, true_labels"
   ]
  },
  {
   "cell_type": "markdown",
   "metadata": {
    "id": "t6n_Lzhd5SfT"
   },
   "source": [
    "### Training loop"
   ]
  },
  {
   "cell_type": "code",
   "execution_count": 57,
   "metadata": {
    "colab": {
     "base_uri": "https://localhost:8080/",
     "height": 1000
    },
    "executionInfo": {
     "elapsed": 2545450,
     "status": "ok",
     "timestamp": 1602001478285,
     "user": {
      "displayName": "Nolì Manzoni",
      "photoUrl": "https://lh3.googleusercontent.com/a-/AOh14GjSV8oLzy8XPBgS7lzEvCYrQsaoPX1_wtBEXr-g2A=s64",
      "userId": "08995673857897094389"
     },
     "user_tz": -120
    },
    "id": "9bJAo-9O5SfU",
    "outputId": "529e4c01-c568-4f0a-ec04-4150be8a3c8a"
   },
   "outputs": [
    {
     "name": "stdout",
     "output_type": "stream",
     "text": [
      "======== Epoch 1 / 10 ========\n",
      "Training...\n",
      "  Batch    40  of    149.    Elapsed: 0:00:15.\n",
      "  Batch    80  of    149.    Elapsed: 0:00:29.\n",
      "  Batch   120  of    149.    Elapsed: 0:00:44.\n",
      "  Average training loss: 2.31\n",
      "  Training epcoh took: 0:00:53\n",
      "Validation...\n",
      "  Accuracy: 0.49\n",
      "  Validation took: 0:00:03\n",
      "======== Epoch 2 / 10 ========\n",
      "Training...\n",
      "  Batch    40  of    149.    Elapsed: 0:00:10.\n",
      "  Batch    80  of    149.    Elapsed: 0:00:21.\n",
      "  Batch   120  of    149.    Elapsed: 0:00:31.\n",
      "  Average training loss: 1.25\n",
      "  Training epcoh took: 0:00:39\n",
      "Validation...\n",
      "  Accuracy: 0.88\n",
      "  Validation took: 0:00:03\n",
      "======== Epoch 3 / 10 ========\n",
      "Training...\n",
      "  Batch    40  of    149.    Elapsed: 0:00:11.\n",
      "  Batch    80  of    149.    Elapsed: 0:00:21.\n",
      "  Batch   120  of    149.    Elapsed: 0:00:32.\n",
      "  Average training loss: 0.42\n",
      "  Training epcoh took: 0:00:39\n",
      "Validation...\n",
      "  Accuracy: 0.88\n",
      "  Validation took: 0:00:03\n",
      "======== Epoch 4 / 10 ========\n",
      "Training...\n",
      "  Batch    40  of    149.    Elapsed: 0:00:10.\n",
      "  Batch    80  of    149.    Elapsed: 0:00:20.\n",
      "  Batch   120  of    149.    Elapsed: 0:00:30.\n",
      "  Average training loss: 0.19\n",
      "  Training epcoh took: 0:00:37\n",
      "Validation...\n",
      "  Accuracy: 0.89\n",
      "  Validation took: 0:00:03\n",
      "======== Epoch 5 / 10 ========\n",
      "Training...\n",
      "  Batch    40  of    149.    Elapsed: 0:00:10.\n",
      "  Batch    80  of    149.    Elapsed: 0:00:20.\n",
      "  Batch   120  of    149.    Elapsed: 0:00:29.\n",
      "  Average training loss: 0.13\n",
      "  Training epcoh took: 0:00:36\n",
      "Validation...\n",
      "  Accuracy: 0.89\n",
      "  Validation took: 0:00:03\n",
      "======== Epoch 6 / 10 ========\n",
      "Training...\n",
      "  Batch    40  of    149.    Elapsed: 0:00:10.\n",
      "  Batch    80  of    149.    Elapsed: 0:00:19.\n",
      "  Batch   120  of    149.    Elapsed: 0:00:29.\n",
      "  Average training loss: 0.11\n",
      "  Training epcoh took: 0:00:36\n",
      "Validation...\n",
      "  Accuracy: 0.89\n",
      "  Validation took: 0:00:03\n",
      "======== Epoch 7 / 10 ========\n",
      "Training...\n",
      "  Batch    40  of    149.    Elapsed: 0:00:10.\n",
      "  Batch    80  of    149.    Elapsed: 0:00:19.\n",
      "  Batch   120  of    149.    Elapsed: 0:00:29.\n",
      "  Average training loss: 0.07\n",
      "  Training epcoh took: 0:00:36\n",
      "Validation...\n",
      "  Accuracy: 0.89\n",
      "  Validation took: 0:00:03\n",
      "======== Epoch 8 / 10 ========\n",
      "Training...\n",
      "  Batch    40  of    149.    Elapsed: 0:00:10.\n",
      "  Batch    80  of    149.    Elapsed: 0:00:20.\n",
      "  Batch   120  of    149.    Elapsed: 0:00:29.\n",
      "  Average training loss: 0.06\n",
      "  Training epcoh took: 0:00:36\n",
      "Validation...\n",
      "  Accuracy: 0.89\n",
      "  Validation took: 0:00:03\n",
      "======== Epoch 9 / 10 ========\n",
      "Training...\n",
      "  Batch    40  of    149.    Elapsed: 0:00:10.\n",
      "  Batch    80  of    149.    Elapsed: 0:00:19.\n",
      "  Batch   120  of    149.    Elapsed: 0:00:29.\n",
      "  Average training loss: 0.06\n",
      "  Training epcoh took: 0:00:36\n",
      "Validation...\n",
      "  Accuracy: 0.89\n",
      "  Validation took: 0:00:03\n",
      "======== Epoch 10 / 10 ========\n",
      "Training...\n",
      "  Batch    40  of    149.    Elapsed: 0:00:10.\n",
      "  Batch    80  of    149.    Elapsed: 0:00:19.\n",
      "  Batch   120  of    149.    Elapsed: 0:00:29.\n",
      "  Average training loss: 0.05\n",
      "  Training epcoh took: 0:00:36\n",
      "Validation...\n",
      "  Accuracy: 0.89\n",
      "  Validation took: 0:00:03\n",
      "Done\n"
     ]
    }
   ],
   "source": [
    "loss_values = []\n",
    "loss_val_values = []\n",
    "accuracy_val_values = []\n",
    "best_val_acc = 0.0\n",
    "for epoch in range(0, epochs):\n",
    "    \n",
    "    print('======== Epoch {:} / {:} ========'.format(epoch + 1, epochs))\n",
    "    \n",
    "    # Train\n",
    "    avg_train_loss = train(train_dataloader)\n",
    "    loss_values.append(avg_train_loss)\n",
    "    \n",
    "        \n",
    "    # Validation\n",
    "    avg_val_loss, avg_val_accuracy, _, _ = evaluate(val_dataloader)\n",
    "    loss_val_values.append(avg_val_loss)\n",
    "    accuracy_val_values.append(avg_val_accuracy)\n",
    "    \n",
    "    # Save best model\n",
    "    if avg_val_accuracy > best_val_acc:\n",
    "        best_val_acc = avg_val_accuracy\n",
    "        torch.save(model.state_dict(), 'saved_weights.pt')\n",
    "\n",
    "print(\"Done\")\n"
   ]
  },
  {
   "cell_type": "markdown",
   "metadata": {
    "id": "UW_weiBf5SfV"
   },
   "source": [
    "# Results & Visualizations"
   ]
  },
  {
   "cell_type": "markdown",
   "metadata": {
    "id": "DuFBVFTe5SfV"
   },
   "source": [
    "Plot loss and accuracy of the training"
   ]
  },
  {
   "cell_type": "code",
   "execution_count": 58,
   "metadata": {
    "colab": {
     "base_uri": "https://localhost:8080/",
     "height": 427
    },
    "executionInfo": {
     "elapsed": 2545443,
     "status": "ok",
     "timestamp": 1602001478286,
     "user": {
      "displayName": "Nolì Manzoni",
      "photoUrl": "https://lh3.googleusercontent.com/a-/AOh14GjSV8oLzy8XPBgS7lzEvCYrQsaoPX1_wtBEXr-g2A=s64",
      "userId": "08995673857897094389"
     },
     "user_tz": -120
    },
    "id": "4TGKjvna5SfW",
    "outputId": "32bc97af-2a4e-4356-a983-6a05e0af612b"
   },
   "outputs": [
    {
     "data": {
      "image/png": "[encoded data removed]",
      "text/plain": [
       "<Figure size 864x432 with 1 Axes>"
      ]
     },
     "metadata": {
      "tags": []
     },
     "output_type": "display_data"
    }
   ],
   "source": [
    "# Use plot styling from seaborn.\n",
    "sns.set(style='darkgrid')\n",
    "\n",
    "# Increase the plot size and font size.\n",
    "sns.set(font_scale=1.5)\n",
    "plt.rcParams[\"figure.figsize\"] = (12,6)\n",
    "\n",
    "# Plot the learning curve.\n",
    "plt.plot(loss_values, 'b-o')\n",
    "\n",
    "# Label the plot.\n",
    "plt.title(\"Training loss\")\n",
    "plt.xlabel(\"Epoch\")\n",
    "plt.ylabel(\"Loss\")\n",
    "\n",
    "plt.show()"
   ]
  },
  {
   "cell_type": "code",
   "execution_count": 59,
   "metadata": {
    "colab": {
     "base_uri": "https://localhost:8080/",
     "height": 427
    },
    "executionInfo": {
     "elapsed": 2545945,
     "status": "ok",
     "timestamp": 1602001478796,
     "user": {
      "displayName": "Nolì Manzoni",
      "photoUrl": "https://lh3.googleusercontent.com/a-/AOh14GjSV8oLzy8XPBgS7lzEvCYrQsaoPX1_wtBEXr-g2A=s64",
      "userId": "08995673857897094389"
     },
     "user_tz": -120
    },
    "id": "vt9bgm0s5SfX",
    "outputId": "068391c7-5d42-40b8-939a-70842e42d0a0"
   },
   "outputs": [
    {
     "data": {
      "image/png": "[encoded data removed]",
      "text/plain": [
       "<Figure size 864x432 with 1 Axes>"
      ]
     },
     "metadata": {
      "tags": []
     },
     "output_type": "display_data"
    }
   ],
   "source": [
    "# Plot the learning curve.\n",
    "plt.plot(loss_val_values, 'b-o')\n",
    "\n",
    "# Label the plot.\n",
    "plt.title(\"Validation loss\")\n",
    "plt.xlabel(\"Epoch\")\n",
    "plt.ylabel(\"Loss\")\n",
    "\n",
    "plt.show()"
   ]
  },
  {
   "cell_type": "code",
   "execution_count": 60,
   "metadata": {
    "colab": {
     "base_uri": "https://localhost:8080/",
     "height": 427
    },
    "executionInfo": {
     "elapsed": 2545936,
     "status": "ok",
     "timestamp": 1602001478797,
     "user": {
      "displayName": "Nolì Manzoni",
      "photoUrl": "https://lh3.googleusercontent.com/a-/AOh14GjSV8oLzy8XPBgS7lzEvCYrQsaoPX1_wtBEXr-g2A=s64",
      "userId": "08995673857897094389"
     },
     "user_tz": -120
    },
    "id": "RmJWPV1M5SfY",
    "outputId": "4a7366f4-5800-4b3b-8e2a-64ab9f66e30f"
   },
   "outputs": [
    {
     "data": {
      "image/png": "[encoded data removed]",
      "text/plain": [
       "<Figure size 864x432 with 1 Axes>"
      ]
     },
     "metadata": {
      "tags": []
     },
     "output_type": "display_data"
    }
   ],
   "source": [
    "# Plot the learning curve.\n",
    "plt.plot(accuracy_val_values, 'b-o')\n",
    "\n",
    "# Label the plot.\n",
    "plt.title(\"Validation accuracy\")\n",
    "plt.xlabel(\"Epoch\")\n",
    "plt.ylabel(\"Accuracy\")\n",
    "\n",
    "plt.show()"
   ]
  },
  {
   "cell_type": "markdown",
   "metadata": {
    "id": "l5bbcts15SfZ"
   },
   "source": [
    "It seems like the network cannot get better than 89% accuracy (probably it should be better to look at other metrics). Moreover, it starts to overfit after 2 epochs (we can see that the validation loss start to increase while the validation accuracy is stable). Maybe with a smaller/bigger learning rate, the network could get better but as the objective is not to get the best performance I will leave it like that."
   ]
  },
  {
   "cell_type": "markdown",
   "metadata": {
    "id": "Olub08tP5SfZ"
   },
   "source": [
    "### Performance on test set"
   ]
  },
  {
   "cell_type": "code",
   "execution_count": 61,
   "metadata": {
    "colab": {
     "base_uri": "https://localhost:8080/",
     "height": 357
    },
    "executionInfo": {
     "elapsed": 2549235,
     "status": "ok",
     "timestamp": 1602001482106,
     "user": {
      "displayName": "Nolì Manzoni",
      "photoUrl": "https://lh3.googleusercontent.com/a-/AOh14GjSV8oLzy8XPBgS7lzEvCYrQsaoPX1_wtBEXr-g2A=s64",
      "userId": "08995673857897094389"
     },
     "user_tz": -120
    },
    "id": "mF2g9NxW5Sfa",
    "outputId": "686eab5b-3692-464d-a71b-c38c56e42483",
    "scrolled": true
   },
   "outputs": [
    {
     "name": "stdout",
     "output_type": "stream",
     "text": [
      "Validation...\n",
      "  Accuracy: 0.88\n",
      "  Validation took: 0:00:04\n",
      "              precision    recall  f1-score   support\n",
      "\n",
      "     culture       0.71      0.56      0.63         9\n",
      "     economy       0.83      1.00      0.91        10\n",
      " engineering       0.90      1.00      0.95         9\n",
      "        food       1.00      1.00      1.00         9\n",
      "     history       1.00      0.78      0.88         9\n",
      "         law       1.00      0.70      0.82        10\n",
      "  philosophy       0.80      0.80      0.80        10\n",
      "    politics       0.71      1.00      0.83        10\n",
      "    religion       1.00      1.00      1.00         9\n",
      "       sport       1.00      1.00      1.00         9\n",
      "\n",
      "    accuracy                           0.88        94\n",
      "   macro avg       0.90      0.88      0.88        94\n",
      "weighted avg       0.89      0.88      0.88        94\n",
      "\n"
     ]
    }
   ],
   "source": [
    "_, _, predictions, true_labels = evaluate(test_dataloader)\n",
    "preds = np.argmax(predictions, axis = 1)\n",
    "print(classification_report(true_labels, preds, target_names=list(label_encoder.classes_)))"
   ]
  },
  {
   "cell_type": "markdown",
   "metadata": {
    "id": "EbXcl5yh5Sfb"
   },
   "source": [
    "From the classification report on a test set, we can see that also the other metrics (i.e. precision, recall and f1) follow the accuracy. In this case, the accuracy is the same as in the second (best one) on the validation set (88%). For the given small dataset I think this is a pretty good result. \n",
    "\n",
    "Probably with a hyperparameters search and maybe a higher batch size (batch size seems to have always an impact on training), which in this case was 2 (for GPU memory limitation), the model could achieve better performance. I read different papers about that but I cannot find them... I am not sure if this assumption is also true for BERT.\n",
    "\n",
    "The classification report shows the macro average (averaging the unweighted mean per label), weighted average (averaging the support-weighted mean per label).\n",
    "\n",
    "If we look more into the f1 score of the different classes we can see that this model have some problems especially with **culture** and **philosophy**."
   ]
  },
  {
   "cell_type": "code",
   "execution_count": 62,
   "metadata": {
    "executionInfo": {
     "elapsed": 2549227,
     "status": "ok",
     "timestamp": 1602001482107,
     "user": {
      "displayName": "Nolì Manzoni",
      "photoUrl": "https://lh3.googleusercontent.com/a-/AOh14GjSV8oLzy8XPBgS7lzEvCYrQsaoPX1_wtBEXr-g2A=s64",
      "userId": "08995673857897094389"
     },
     "user_tz": -120
    },
    "id": "eBZHItFj5Sfb"
   },
   "outputs": [],
   "source": [
    "cm = confusion_matrix(true_labels, preds)"
   ]
  },
  {
   "cell_type": "code",
   "execution_count": 66,
   "metadata": {
    "colab": {
     "base_uri": "https://localhost:8080/",
     "height": 689
    },
    "executionInfo": {
     "elapsed": 996,
     "status": "ok",
     "timestamp": 1602001537557,
     "user": {
      "displayName": "Nolì Manzoni",
      "photoUrl": "https://lh3.googleusercontent.com/a-/AOh14GjSV8oLzy8XPBgS7lzEvCYrQsaoPX1_wtBEXr-g2A=s64",
      "userId": "08995673857897094389"
     },
     "user_tz": -120
    },
    "id": "qMAAekFJ5Sfc",
    "outputId": "c6d9d03a-22c6-42fa-8d6d-be14f4da311b"
   },
   "outputs": [
    {
     "data": {
      "image/png": "[encoded data removed]",
      "text/plain": [
       "<Figure size 720x720 with 1 Axes>"
      ]
     },
     "metadata": {
      "tags": []
     },
     "output_type": "display_data"
    }
   ],
   "source": [
    "fig, ax = plot_confusion_matrix(conf_mat=cm,\n",
    "                                colorbar=False,\n",
    "                                show_absolute=True,\n",
    "                                show_normed=False,\n",
    "                                figsize=(10, 10),\n",
    "                                class_names=list(label_encoder.classes_))\n",
    "plt.show()"
   ]
  },
  {
   "cell_type": "markdown",
   "metadata": {
    "executionInfo": {
     "elapsed": 2550323,
     "status": "ok",
     "timestamp": 1602001483224,
     "user": {
      "displayName": "Nolì Manzoni",
      "photoUrl": "https://lh3.googleusercontent.com/a-/AOh14GjSV8oLzy8XPBgS7lzEvCYrQsaoPX1_wtBEXr-g2A=s64",
      "userId": "08995673857897094389"
     },
     "user_tz": -120
    },
    "id": "rjqEes-B9jEG"
   },
   "source": [
    "If we look at the confusion matrix we can see that the model classifies a few of culture articles into politics. This behaviour was somehow expected as culture and politics articles could be pretty similar (especially if we look at the first 512 tokens). The same happens for other categories, for example, a few of law articles are predicted to be philosophy (they could be pretty similar). To check this assumption, I should look into the dataset and find this miss classification and check their content but for the limited amount of time, I will leave this for another time."
   ]
  },
  {
   "cell_type": "code",
   "execution_count": null,
   "metadata": {},
   "outputs": [],
   "source": []
  }
 ],
 "metadata": {
  "accelerator": "GPU",
  "colab": {
   "collapsed_sections": [],
   "name": "Report_wikipedia.ipynb",
   "provenance": [],
   "toc_visible": true
  },
  "kernelspec": {
   "display_name": "Python 3",
   "language": "python",
   "name": "python3"
  },
  "language_info": {
   "codemirror_mode": {
    "name": "ipython",
    "version": 3
   },
   "file_extension": ".py",
   "mimetype": "text/x-python",
   "name": "python",
   "nbconvert_exporter": "python",
   "pygments_lexer": "ipython3",
   "version": "3.7.9"
  },
  "toc": {
   "base_numbering": 1,
   "nav_menu": {},
   "number_sections": true,
   "sideBar": true,
   "skip_h1_title": false,
   "title_cell": "Table of Contents",
   "title_sidebar": "Contents",
   "toc_cell": false,
   "toc_position": {},
   "toc_section_display": true,
   "toc_window_display": false
  },
  "varInspector": {
   "cols": {
    "lenName": 16,
    "lenType": 16,
    "lenVar": 40
   },
   "kernels_config": {
    "python": {
     "delete_cmd_postfix": "",
     "delete_cmd_prefix": "del ",
     "library": "var_list.py",
     "varRefreshCmd": "print(var_dic_list())"
    },
    "r": {
     "delete_cmd_postfix": ") ",
     "delete_cmd_prefix": "rm(",
     "library": "var_list.r",
     "varRefreshCmd": "cat(var_dic_list()) "
    }
   },
   "types_to_exclude": [
    "module",
    "function",
    "builtin_function_or_method",
    "instance",
    "_Feature"
   ],
   "window_display": false
  },
  "widgets": {
   "application/vnd.jupyter.widget-state+json": {
    "0b02a3a511dc477f8775b5938ca34ba1": {
     "model_module": "@jupyter-widgets/base",
     "model_name": "LayoutModel",
     "state": {
      "_model_module": "@jupyter-widgets/base",
      "_model_module_version": "1.2.0",
      "_model_name": "LayoutModel",
      "_view_count": null,
      "_view_module": "@jupyter-widgets/base",
      "_view_module_version": "1.2.0",
      "_view_name": "LayoutView",
      "align_content": null,
      "align_items": null,
      "align_self": null,
      "border": null,
      "bottom": null,
      "display": null,
      "flex": null,
      "flex_flow": null,
      "grid_area": null,
      "grid_auto_columns": null,
      "grid_auto_flow": null,
      "grid_auto_rows": null,
      "grid_column": null,
      "grid_gap": null,
      "grid_row": null,
      "grid_template_areas": null,
      "grid_template_columns": null,
      "grid_template_rows": null,
      "height": null,
      "justify_content": null,
      "justify_items": null,
      "left": null,
      "margin": null,
      "max_height": null,
      "max_width": null,
      "min_height": null,
      "min_width": null,
      "object_fit": null,
      "object_position": null,
      "order": null,
      "overflow": null,
      "overflow_x": null,
      "overflow_y": null,
      "padding": null,
      "right": null,
      "top": null,
      "visibility": null,
      "width": null
     }
    },
    "0dbe171ccc9a4b93a2b9367f610ece34": {
     "model_module": "@jupyter-widgets/base",
     "model_name": "LayoutModel",
     "state": {
      "_model_module": "@jupyter-widgets/base",
      "_model_module_version": "1.2.0",
      "_model_name": "LayoutModel",
      "_view_count": null,
      "_view_module": "@jupyter-widgets/base",
      "_view_module_version": "1.2.0",
      "_view_name": "LayoutView",
      "align_content": null,
      "align_items": null,
      "align_self": null,
      "border": null,
      "bottom": null,
      "display": null,
      "flex": null,
      "flex_flow": null,
      "grid_area": null,
      "grid_auto_columns": null,
      "grid_auto_flow": null,
      "grid_auto_rows": null,
      "grid_column": null,
      "grid_gap": null,
      "grid_row": null,
      "grid_template_areas": null,
      "grid_template_columns": null,
      "grid_template_rows": null,
      "height": null,
      "justify_content": null,
      "justify_items": null,
      "left": null,
      "margin": null,
      "max_height": null,
      "max_width": null,
      "min_height": null,
      "min_width": null,
      "object_fit": null,
      "object_position": null,
      "order": null,
      "overflow": null,
      "overflow_x": null,
      "overflow_y": null,
      "padding": null,
      "right": null,
      "top": null,
      "visibility": null,
      "width": null
     }
    },
    "4115d34b85e14d88a90d2e91e27fd52e": {
     "model_module": "@jupyter-widgets/controls",
     "model_name": "ProgressStyleModel",
     "state": {
      "_model_module": "@jupyter-widgets/controls",
      "_model_module_version": "1.5.0",
      "_model_name": "ProgressStyleModel",
      "_view_count": null,
      "_view_module": "@jupyter-widgets/base",
      "_view_module_version": "1.2.0",
      "_view_name": "StyleView",
      "bar_color": null,
      "description_width": "initial"
     }
    },
    "47ba0b5f2b9a44b4871dce705da73b9d": {
     "model_module": "@jupyter-widgets/controls",
     "model_name": "HTMLModel",
     "state": {
      "_dom_classes": [],
      "_model_module": "@jupyter-widgets/controls",
      "_model_module_version": "1.5.0",
      "_model_name": "HTMLModel",
      "_view_count": null,
      "_view_module": "@jupyter-widgets/controls",
      "_view_module_version": "1.5.0",
      "_view_name": "HTMLView",
      "description": "",
      "description_tooltip": null,
      "layout": "IPY_MODEL_e763a77d7e014878a2cd7332bcf0d4af",
      "placeholder": "​",
      "style": "IPY_MODEL_8a57a155f9934256a05df20710ecdb8d",
      "value": " 440M/440M [12:05&lt;00:00, 607kB/s]"
     }
    },
    "48e5c3cb33b04c33b68fe5bfdbdcdd44": {
     "model_module": "@jupyter-widgets/controls",
     "model_name": "ProgressStyleModel",
     "state": {
      "_model_module": "@jupyter-widgets/controls",
      "_model_module_version": "1.5.0",
      "_model_name": "ProgressStyleModel",
      "_view_count": null,
      "_view_module": "@jupyter-widgets/base",
      "_view_module_version": "1.2.0",
      "_view_name": "StyleView",
      "bar_color": null,
      "description_width": "initial"
     }
    },
    "4bdfa73353604b22ab8907b72075aae9": {
     "model_module": "@jupyter-widgets/controls",
     "model_name": "HTMLModel",
     "state": {
      "_dom_classes": [],
      "_model_module": "@jupyter-widgets/controls",
      "_model_module_version": "1.5.0",
      "_model_name": "HTMLModel",
      "_view_count": null,
      "_view_module": "@jupyter-widgets/controls",
      "_view_module_version": "1.5.0",
      "_view_name": "HTMLView",
      "description": "",
      "description_tooltip": null,
      "layout": "IPY_MODEL_eca6a34ae85e4655ad1fa7b832c24765",
      "placeholder": "​",
      "style": "IPY_MODEL_4dc9aead32d54bc3a10c4fea17b98bff",
      "value": " 433/433 [00:01&lt;00:00, 244B/s]"
     }
    },
    "4dc9aead32d54bc3a10c4fea17b98bff": {
     "model_module": "@jupyter-widgets/controls",
     "model_name": "DescriptionStyleModel",
     "state": {
      "_model_module": "@jupyter-widgets/controls",
      "_model_module_version": "1.5.0",
      "_model_name": "DescriptionStyleModel",
      "_view_count": null,
      "_view_module": "@jupyter-widgets/base",
      "_view_module_version": "1.2.0",
      "_view_name": "StyleView",
      "description_width": ""
     }
    },
    "5aa2711d704a4d7c969f4e61edee6aac": {
     "model_module": "@jupyter-widgets/controls",
     "model_name": "HBoxModel",
     "state": {
      "_dom_classes": [],
      "_model_module": "@jupyter-widgets/controls",
      "_model_module_version": "1.5.0",
      "_model_name": "HBoxModel",
      "_view_count": null,
      "_view_module": "@jupyter-widgets/controls",
      "_view_module_version": "1.5.0",
      "_view_name": "HBoxView",
      "box_style": "",
      "children": [
       "IPY_MODEL_5ad45c0246604407b2be64d48adc2fe3",
       "IPY_MODEL_47ba0b5f2b9a44b4871dce705da73b9d"
      ],
      "layout": "IPY_MODEL_0b02a3a511dc477f8775b5938ca34ba1"
     }
    },
    "5ad45c0246604407b2be64d48adc2fe3": {
     "model_module": "@jupyter-widgets/controls",
     "model_name": "FloatProgressModel",
     "state": {
      "_dom_classes": [],
      "_model_module": "@jupyter-widgets/controls",
      "_model_module_version": "1.5.0",
      "_model_name": "FloatProgressModel",
      "_view_count": null,
      "_view_module": "@jupyter-widgets/controls",
      "_view_module_version": "1.5.0",
      "_view_name": "ProgressView",
      "bar_style": "success",
      "description": "Downloading: 100%",
      "description_tooltip": null,
      "layout": "IPY_MODEL_7a477e6f7e2a4ffcad02f92df10b1e44",
      "max": 440473133,
      "min": 0,
      "orientation": "horizontal",
      "style": "IPY_MODEL_48e5c3cb33b04c33b68fe5bfdbdcdd44",
      "value": 440473133
     }
    },
    "6292549523c54938a1af22b60ec9cd50": {
     "model_module": "@jupyter-widgets/controls",
     "model_name": "DescriptionStyleModel",
     "state": {
      "_model_module": "@jupyter-widgets/controls",
      "_model_module_version": "1.5.0",
      "_model_name": "DescriptionStyleModel",
      "_view_count": null,
      "_view_module": "@jupyter-widgets/base",
      "_view_module_version": "1.2.0",
      "_view_name": "StyleView",
      "description_width": ""
     }
    },
    "7a477e6f7e2a4ffcad02f92df10b1e44": {
     "model_module": "@jupyter-widgets/base",
     "model_name": "LayoutModel",
     "state": {
      "_model_module": "@jupyter-widgets/base",
      "_model_module_version": "1.2.0",
      "_model_name": "LayoutModel",
      "_view_count": null,
      "_view_module": "@jupyter-widgets/base",
      "_view_module_version": "1.2.0",
      "_view_name": "LayoutView",
      "align_content": null,
      "align_items": null,
      "align_self": null,
      "border": null,
      "bottom": null,
      "display": null,
      "flex": null,
      "flex_flow": null,
      "grid_area": null,
      "grid_auto_columns": null,
      "grid_auto_flow": null,
      "grid_auto_rows": null,
      "grid_column": null,
      "grid_gap": null,
      "grid_row": null,
      "grid_template_areas": null,
      "grid_template_columns": null,
      "grid_template_rows": null,
      "height": null,
      "justify_content": null,
      "justify_items": null,
      "left": null,
      "margin": null,
      "max_height": null,
      "max_width": null,
      "min_height": null,
      "min_width": null,
      "object_fit": null,
      "object_position": null,
      "order": null,
      "overflow": null,
      "overflow_x": null,
      "overflow_y": null,
      "padding": null,
      "right": null,
      "top": null,
      "visibility": null,
      "width": null
     }
    },
    "7b87d861b1044c1c8058b6491d4d7a77": {
     "model_module": "@jupyter-widgets/base",
     "model_name": "LayoutModel",
     "state": {
      "_model_module": "@jupyter-widgets/base",
      "_model_module_version": "1.2.0",
      "_model_name": "LayoutModel",
      "_view_count": null,
      "_view_module": "@jupyter-widgets/base",
      "_view_module_version": "1.2.0",
      "_view_name": "LayoutView",
      "align_content": null,
      "align_items": null,
      "align_self": null,
      "border": null,
      "bottom": null,
      "display": null,
      "flex": null,
      "flex_flow": null,
      "grid_area": null,
      "grid_auto_columns": null,
      "grid_auto_flow": null,
      "grid_auto_rows": null,
      "grid_column": null,
      "grid_gap": null,
      "grid_row": null,
      "grid_template_areas": null,
      "grid_template_columns": null,
      "grid_template_rows": null,
      "height": null,
      "justify_content": null,
      "justify_items": null,
      "left": null,
      "margin": null,
      "max_height": null,
      "max_width": null,
      "min_height": null,
      "min_width": null,
      "object_fit": null,
      "object_position": null,
      "order": null,
      "overflow": null,
      "overflow_x": null,
      "overflow_y": null,
      "padding": null,
      "right": null,
      "top": null,
      "visibility": null,
      "width": null
     }
    },
    "8a57a155f9934256a05df20710ecdb8d": {
     "model_module": "@jupyter-widgets/controls",
     "model_name": "DescriptionStyleModel",
     "state": {
      "_model_module": "@jupyter-widgets/controls",
      "_model_module_version": "1.5.0",
      "_model_name": "DescriptionStyleModel",
      "_view_count": null,
      "_view_module": "@jupyter-widgets/base",
      "_view_module_version": "1.2.0",
      "_view_name": "StyleView",
      "description_width": ""
     }
    },
    "abc916f4fabb469bbcf4bcce620c3933": {
     "model_module": "@jupyter-widgets/controls",
     "model_name": "FloatProgressModel",
     "state": {
      "_dom_classes": [],
      "_model_module": "@jupyter-widgets/controls",
      "_model_module_version": "1.5.0",
      "_model_name": "FloatProgressModel",
      "_view_count": null,
      "_view_module": "@jupyter-widgets/controls",
      "_view_module_version": "1.5.0",
      "_view_name": "ProgressView",
      "bar_style": "success",
      "description": "Downloading: 100%",
      "description_tooltip": null,
      "layout": "IPY_MODEL_f18fff55841541f1b8fcf8daa777313f",
      "max": 433,
      "min": 0,
      "orientation": "horizontal",
      "style": "IPY_MODEL_4115d34b85e14d88a90d2e91e27fd52e",
      "value": 433
     }
    },
    "bc3143709e3a4af9bd1e746dd4b8a2d8": {
     "model_module": "@jupyter-widgets/controls",
     "model_name": "HBoxModel",
     "state": {
      "_dom_classes": [],
      "_model_module": "@jupyter-widgets/controls",
      "_model_module_version": "1.5.0",
      "_model_name": "HBoxModel",
      "_view_count": null,
      "_view_module": "@jupyter-widgets/controls",
      "_view_module_version": "1.5.0",
      "_view_name": "HBoxView",
      "box_style": "",
      "children": [
       "IPY_MODEL_abc916f4fabb469bbcf4bcce620c3933",
       "IPY_MODEL_4bdfa73353604b22ab8907b72075aae9"
      ],
      "layout": "IPY_MODEL_7b87d861b1044c1c8058b6491d4d7a77"
     }
    },
    "c86693cfdfb74b7baaf5d642f1048757": {
     "model_module": "@jupyter-widgets/controls",
     "model_name": "HTMLModel",
     "state": {
      "_dom_classes": [],
      "_model_module": "@jupyter-widgets/controls",
      "_model_module_version": "1.5.0",
      "_model_name": "HTMLModel",
      "_view_count": null,
      "_view_module": "@jupyter-widgets/controls",
      "_view_module_version": "1.5.0",
      "_view_name": "HTMLView",
      "description": "",
      "description_tooltip": null,
      "layout": "IPY_MODEL_fd26833ce26b46da93cc35deb4ed03c1",
      "placeholder": "​",
      "style": "IPY_MODEL_6292549523c54938a1af22b60ec9cd50",
      "value": " 232k/232k [00:07&lt;00:00, 32.2kB/s]"
     }
    },
    "db327ed16ca443e69b87ac396a760323": {
     "model_module": "@jupyter-widgets/base",
     "model_name": "LayoutModel",
     "state": {
      "_model_module": "@jupyter-widgets/base",
      "_model_module_version": "1.2.0",
      "_model_name": "LayoutModel",
      "_view_count": null,
      "_view_module": "@jupyter-widgets/base",
      "_view_module_version": "1.2.0",
      "_view_name": "LayoutView",
      "align_content": null,
      "align_items": null,
      "align_self": null,
      "border": null,
      "bottom": null,
      "display": null,
      "flex": null,
      "flex_flow": null,
      "grid_area": null,
      "grid_auto_columns": null,
      "grid_auto_flow": null,
      "grid_auto_rows": null,
      "grid_column": null,
      "grid_gap": null,
      "grid_row": null,
      "grid_template_areas": null,
      "grid_template_columns": null,
      "grid_template_rows": null,
      "height": null,
      "justify_content": null,
      "justify_items": null,
      "left": null,
      "margin": null,
      "max_height": null,
      "max_width": null,
      "min_height": null,
      "min_width": null,
      "object_fit": null,
      "object_position": null,
      "order": null,
      "overflow": null,
      "overflow_x": null,
      "overflow_y": null,
      "padding": null,
      "right": null,
      "top": null,
      "visibility": null,
      "width": null
     }
    },
    "df652707b3444994833e287f8920e4b1": {
     "model_module": "@jupyter-widgets/controls",
     "model_name": "ProgressStyleModel",
     "state": {
      "_model_module": "@jupyter-widgets/controls",
      "_model_module_version": "1.5.0",
      "_model_name": "ProgressStyleModel",
      "_view_count": null,
      "_view_module": "@jupyter-widgets/base",
      "_view_module_version": "1.2.0",
      "_view_name": "StyleView",
      "bar_color": null,
      "description_width": "initial"
     }
    },
    "e763a77d7e014878a2cd7332bcf0d4af": {
     "model_module": "@jupyter-widgets/base",
     "model_name": "LayoutModel",
     "state": {
      "_model_module": "@jupyter-widgets/base",
      "_model_module_version": "1.2.0",
      "_model_name": "LayoutModel",
      "_view_count": null,
      "_view_module": "@jupyter-widgets/base",
      "_view_module_version": "1.2.0",
      "_view_name": "LayoutView",
      "align_content": null,
      "align_items": null,
      "align_self": null,
      "border": null,
      "bottom": null,
      "display": null,
      "flex": null,
      "flex_flow": null,
      "grid_area": null,
      "grid_auto_columns": null,
      "grid_auto_flow": null,
      "grid_auto_rows": null,
      "grid_column": null,
      "grid_gap": null,
      "grid_row": null,
      "grid_template_areas": null,
      "grid_template_columns": null,
      "grid_template_rows": null,
      "height": null,
      "justify_content": null,
      "justify_items": null,
      "left": null,
      "margin": null,
      "max_height": null,
      "max_width": null,
      "min_height": null,
      "min_width": null,
      "object_fit": null,
      "object_position": null,
      "order": null,
      "overflow": null,
      "overflow_x": null,
      "overflow_y": null,
      "padding": null,
      "right": null,
      "top": null,
      "visibility": null,
      "width": null
     }
    },
    "eca6a34ae85e4655ad1fa7b832c24765": {
     "model_module": "@jupyter-widgets/base",
     "model_name": "LayoutModel",
     "state": {
      "_model_module": "@jupyter-widgets/base",
      "_model_module_version": "1.2.0",
      "_model_name": "LayoutModel",
      "_view_count": null,
      "_view_module": "@jupyter-widgets/base",
      "_view_module_version": "1.2.0",
      "_view_name": "LayoutView",
      "align_content": null,
      "align_items": null,
      "align_self": null,
      "border": null,
      "bottom": null,
      "display": null,
      "flex": null,
      "flex_flow": null,
      "grid_area": null,
      "grid_auto_columns": null,
      "grid_auto_flow": null,
      "grid_auto_rows": null,
      "grid_column": null,
      "grid_gap": null,
      "grid_row": null,
      "grid_template_areas": null,
      "grid_template_columns": null,
      "grid_template_rows": null,
      "height": null,
      "justify_content": null,
      "justify_items": null,
      "left": null,
      "margin": null,
      "max_height": null,
      "max_width": null,
      "min_height": null,
      "min_width": null,
      "object_fit": null,
      "object_position": null,
      "order": null,
      "overflow": null,
      "overflow_x": null,
      "overflow_y": null,
      "padding": null,
      "right": null,
      "top": null,
      "visibility": null,
      "width": null
     }
    },
    "f12c6e0edfbb4a1ea64cf4f5463b7480": {
     "model_module": "@jupyter-widgets/controls",
     "model_name": "HBoxModel",
     "state": {
      "_dom_classes": [],
      "_model_module": "@jupyter-widgets/controls",
      "_model_module_version": "1.5.0",
      "_model_name": "HBoxModel",
      "_view_count": null,
      "_view_module": "@jupyter-widgets/controls",
      "_view_module_version": "1.5.0",
      "_view_name": "HBoxView",
      "box_style": "",
      "children": [
       "IPY_MODEL_f82970ac0c4145ff817defc234174064",
       "IPY_MODEL_c86693cfdfb74b7baaf5d642f1048757"
      ],
      "layout": "IPY_MODEL_0dbe171ccc9a4b93a2b9367f610ece34"
     }
    },
    "f18fff55841541f1b8fcf8daa777313f": {
     "model_module": "@jupyter-widgets/base",
     "model_name": "LayoutModel",
     "state": {
      "_model_module": "@jupyter-widgets/base",
      "_model_module_version": "1.2.0",
      "_model_name": "LayoutModel",
      "_view_count": null,
      "_view_module": "@jupyter-widgets/base",
      "_view_module_version": "1.2.0",
      "_view_name": "LayoutView",
      "align_content": null,
      "align_items": null,
      "align_self": null,
      "border": null,
      "bottom": null,
      "display": null,
      "flex": null,
      "flex_flow": null,
      "grid_area": null,
      "grid_auto_columns": null,
      "grid_auto_flow": null,
      "grid_auto_rows": null,
      "grid_column": null,
      "grid_gap": null,
      "grid_row": null,
      "grid_template_areas": null,
      "grid_template_columns": null,
      "grid_template_rows": null,
      "height": null,
      "justify_content": null,
      "justify_items": null,
      "left": null,
      "margin": null,
      "max_height": null,
      "max_width": null,
      "min_height": null,
      "min_width": null,
      "object_fit": null,
      "object_position": null,
      "order": null,
      "overflow": null,
      "overflow_x": null,
      "overflow_y": null,
      "padding": null,
      "right": null,
      "top": null,
      "visibility": null,
      "width": null
     }
    },
    "f82970ac0c4145ff817defc234174064": {
     "model_module": "@jupyter-widgets/controls",
     "model_name": "FloatProgressModel",
     "state": {
      "_dom_classes": [],
      "_model_module": "@jupyter-widgets/controls",
      "_model_module_version": "1.5.0",
      "_model_name": "FloatProgressModel",
      "_view_count": null,
      "_view_module": "@jupyter-widgets/controls",
      "_view_module_version": "1.5.0",
      "_view_name": "ProgressView",
      "bar_style": "success",
      "description": "Downloading: 100%",
      "description_tooltip": null,
      "layout": "IPY_MODEL_db327ed16ca443e69b87ac396a760323",
      "max": 231508,
      "min": 0,
      "orientation": "horizontal",
      "style": "IPY_MODEL_df652707b3444994833e287f8920e4b1",
      "value": 231508
     }
    },
    "fd26833ce26b46da93cc35deb4ed03c1": {
     "model_module": "@jupyter-widgets/base",
     "model_name": "LayoutModel",
     "state": {
      "_model_module": "@jupyter-widgets/base",
      "_model_module_version": "1.2.0",
      "_model_name": "LayoutModel",
      "_view_count": null,
      "_view_module": "@jupyter-widgets/base",
      "_view_module_version": "1.2.0",
      "_view_name": "LayoutView",
      "align_content": null,
      "align_items": null,
      "align_self": null,
      "border": null,
      "bottom": null,
      "display": null,
      "flex": null,
      "flex_flow": null,
      "grid_area": null,
      "grid_auto_columns": null,
      "grid_auto_flow": null,
      "grid_auto_rows": null,
      "grid_column": null,
      "grid_gap": null,
      "grid_row": null,
      "grid_template_areas": null,
      "grid_template_columns": null,
      "grid_template_rows": null,
      "height": null,
      "justify_content": null,
      "justify_items": null,
      "left": null,
      "margin": null,
      "max_height": null,
      "max_width": null,
      "min_height": null,
      "min_width": null,
      "object_fit": null,
      "object_position": null,
      "order": null,
      "overflow": null,
      "overflow_x": null,
      "overflow_y": null,
      "padding": null,
      "right": null,
      "top": null,
      "visibility": null,
      "width": null
     }
    }
   }
  }
 },
 "nbformat": 4,
 "nbformat_minor": 1
}
